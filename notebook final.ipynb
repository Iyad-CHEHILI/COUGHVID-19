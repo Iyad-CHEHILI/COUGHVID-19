{
 "cells": [
  {
   "cell_type": "markdown",
   "id": "7d4e6ac2",
   "metadata": {},
   "source": [
    "# the purpose this work\n",
    "- what's the goal of this analysis ?\n",
    "    - proposer une methodologie simple, efficace et non couteuse en terme de calcule (c-à-d inference rapide) pour detecter la présence du covid-19 dans un enregistrement vocal de la toux.\n",
    "    - explorer different techniques dapprentissage automatique pour le diagnostique medical.\n",
    "- Do I need machine learning or deep learning ?\n",
    "    - montrer lefficacité de quelques méthodes en comparant avec d'autres (également avec des architectures neuronal).\n",
    "- Future work:\n",
    "    - comme travail future, on va essayer de faire une extension de cette méthodologie pour l'utiliser avec d'autres maladies possibles qui peuvent être traitées avec le signal audio.\n"
   ]
  },
  {
   "cell_type": "markdown",
   "id": "49a8acd2",
   "metadata": {},
   "source": [
    "# Table of Contents <a class='anchor' id='toc'></a>\n",
    "\n",
    "#### I. [Import Data & Libraries & Modules](#idl)\n",
    "#### II. [Data Pre-processing](#dpp)\n",
    "#### III. [Train/Test Split](#tts)\n",
    "#### IV. [Machine Learning Models](#mlm)\n",
    "#### V. [Deep Learning Models](#dlm)\n",
    "#### VI. [Pick the Best Model](#pbm)\n",
    "#### VII. [Best Model Evaluation](#bme)"
   ]
  },
  {
   "cell_type": "markdown",
   "id": "5f051043",
   "metadata": {},
   "source": [
    "# I. Import Data & Libraries & modules <a class=\"anchor\" id=\"idl\"></a>"
   ]
  },
  {
   "cell_type": "markdown",
   "id": "a25d6f2e",
   "metadata": {},
   "source": [
    "Importing necessary libraries and modules"
   ]
  },
  {
   "cell_type": "code",
   "execution_count": 305,
   "id": "6c976419",
   "metadata": {},
   "outputs": [],
   "source": [
    "from sklearn.model_selection import train_test_split  # For splitting the dataset into training and testing sets\n",
    "import pandas as pd  # For data manipulation and analysis\n",
    "import os  # For interacting with the operating system\n",
    "import librosa  # For audio feature extraction\n",
    "import librosa.display  # For displaying audio waveforms and spectrograms\n",
    "import cv2  # For image processing\n",
    "import numpy as np  # For numerical computations\n",
    "import json  # For working with JSON files\n",
    "import matplotlib.pyplot as plt  # For creating visualizations\n",
    "import warnings  # For managing warning messages\n",
    "\n",
    "# Additional dependencies and modules\n",
    "from unsilence import Unsilence  # For removing silence from audio\n",
    "from pydub import AudioSegment  # For audio file manipulation\n",
    "import soundfile as sf  # For reading and writing audio files\n",
    "import opensmile  # For audio feature extraction using OpenSMILE toolkit\n",
    "import pickle  # For serializing and deserializing Python objects\n",
    "\n",
    "# Modules for model training and evaluation\n",
    "from sklearn.model_selection import RandomizedSearchCV  # For hyperparameter tuning\n",
    "from sklearn.ensemble import RandomForestClassifier  # Random Forest classifier\n",
    "from sklearn.model_selection import cross_val_score  # For cross-validation\n",
    "from sklearn.model_selection import cross_validate  # For cross-validation with multiple metrics\n",
    "from sklearn.model_selection import validation_curve  # For plotting validation curves\n",
    "from sklearn.metrics import (\n",
    "    accuracy_score, f1_score, roc_auc_score, precision_score,\n",
    "    recall_score, classification_report, confusion_matrix, balanced_accuracy_score\n",
    ")  # Various evaluation metrics for classification\n",
    "from sklearn.metrics import make_scorer  # For creating custom scoring functions\n",
    "\n",
    "# Modules for handling imbalanced datasets\n",
    "from imblearn.metrics import specificity_score  # For calculating specificity\n",
    "from imblearn.under_sampling import RandomUnderSampler  # Random under-sampling\n",
    "from imblearn.over_sampling import RandomOverSampler  # Random over-sampling\n",
    "from imblearn.over_sampling import SMOTE  # Synthetic Minority Over-sampling Technique\n",
    "\n",
    "# Modules for cross-validation and hyperparameter tuning\n",
    "from sklearn.model_selection import StratifiedKFold  # For stratified k-fold cross-validation\n",
    "from sklearn.svm import LinearSVC  # Linear Support Vector Classifier\n",
    "from sklearn.svm import SVC  # Support Vector Classifier\n",
    "from sklearn.model_selection import GridSearchCV  # For grid search and hyperparameter tuning\n",
    "\n",
    "# Additional libraries for audio feature extraction\n",
    "import math  # For mathematical computations\n",
    "import seaborn as sns  # For creating visualizations\n",
    "from speechpy.feature import mfcc  # For Mel-frequency cepstral coefficients (MFCC) extraction\n"
   ]
  },
  {
   "cell_type": "code",
   "execution_count": 306,
   "id": "aa81f79b",
   "metadata": {},
   "outputs": [],
   "source": [
    "# Ignore all warnings\n",
    "warnings.simplefilter(\"ignore\")\n",
    "warnings.filterwarnings('ignore')\n",
    "# Path variables for metadata, audio data, and MFCC files\n",
    "metaDataPath = \"/Users/iyadchehili/Desktop/thesis/data/public_dataset/public_dataset/metadata_compiled.csv\"\n",
    "audiodataPath = \"/Users/iyadchehili/Desktop/thesis/data/webm-files/\"\n",
    "mfccsPath = \"/Users/iyadchehili/Desktop/thesis/data/mfccs/mfccs-final.csv\""
   ]
  },
  {
   "cell_type": "markdown",
   "id": "820b3a05",
   "metadata": {},
   "source": [
    "## II. Data Pre-processing<a class=\"anchor\" id=\"dpp\"></a>\n",
    "**[Back to top](#toc)**"
   ]
  },
  {
   "cell_type": "markdown",
   "id": "3152902a",
   "metadata": {},
   "source": [
    "Read the data"
   ]
  },
  {
   "cell_type": "code",
   "execution_count": 307,
   "id": "6a409461",
   "metadata": {},
   "outputs": [
    {
     "data": {
      "text/html": [
       "<div>\n",
       "<style scoped>\n",
       "    .dataframe tbody tr th:only-of-type {\n",
       "        vertical-align: middle;\n",
       "    }\n",
       "\n",
       "    .dataframe tbody tr th {\n",
       "        vertical-align: top;\n",
       "    }\n",
       "\n",
       "    .dataframe thead th {\n",
       "        text-align: right;\n",
       "    }\n",
       "</style>\n",
       "<table border=\"1\" class=\"dataframe\">\n",
       "  <thead>\n",
       "    <tr style=\"text-align: right;\">\n",
       "      <th></th>\n",
       "      <th>c0</th>\n",
       "      <th>c1</th>\n",
       "      <th>c2</th>\n",
       "      <th>c3</th>\n",
       "      <th>c4</th>\n",
       "      <th>c5</th>\n",
       "      <th>c6</th>\n",
       "      <th>c7</th>\n",
       "      <th>c8</th>\n",
       "      <th>c9</th>\n",
       "      <th>...</th>\n",
       "      <th>c225</th>\n",
       "      <th>c226</th>\n",
       "      <th>c227</th>\n",
       "      <th>c228</th>\n",
       "      <th>c229</th>\n",
       "      <th>c230</th>\n",
       "      <th>c231</th>\n",
       "      <th>c232</th>\n",
       "      <th>c233</th>\n",
       "      <th>covid_status</th>\n",
       "    </tr>\n",
       "  </thead>\n",
       "  <tbody>\n",
       "    <tr>\n",
       "      <th>0</th>\n",
       "      <td>-563.337891</td>\n",
       "      <td>18.238453</td>\n",
       "      <td>-2.340280</td>\n",
       "      <td>5.720764</td>\n",
       "      <td>-5.836890</td>\n",
       "      <td>7.594863</td>\n",
       "      <td>-4.868218</td>\n",
       "      <td>-0.771808</td>\n",
       "      <td>-0.109394</td>\n",
       "      <td>-3.058184</td>\n",
       "      <td>...</td>\n",
       "      <td>10.603173</td>\n",
       "      <td>9.948966</td>\n",
       "      <td>15.936632</td>\n",
       "      <td>12.325701</td>\n",
       "      <td>15.612232</td>\n",
       "      <td>11.181804</td>\n",
       "      <td>13.001097</td>\n",
       "      <td>10.949319</td>\n",
       "      <td>27.825075</td>\n",
       "      <td>0</td>\n",
       "    </tr>\n",
       "    <tr>\n",
       "      <th>1</th>\n",
       "      <td>-278.879547</td>\n",
       "      <td>100.888168</td>\n",
       "      <td>-25.865992</td>\n",
       "      <td>15.782073</td>\n",
       "      <td>-21.624033</td>\n",
       "      <td>3.497478</td>\n",
       "      <td>-3.594802</td>\n",
       "      <td>-6.801463</td>\n",
       "      <td>5.152771</td>\n",
       "      <td>-3.411121</td>\n",
       "      <td>...</td>\n",
       "      <td>2.537391</td>\n",
       "      <td>0.234807</td>\n",
       "      <td>1.338121</td>\n",
       "      <td>0.596081</td>\n",
       "      <td>-0.246269</td>\n",
       "      <td>0.222006</td>\n",
       "      <td>0.143543</td>\n",
       "      <td>1.949368</td>\n",
       "      <td>1.677189</td>\n",
       "      <td>0</td>\n",
       "    </tr>\n",
       "    <tr>\n",
       "      <th>2</th>\n",
       "      <td>-519.862183</td>\n",
       "      <td>26.079721</td>\n",
       "      <td>-28.713432</td>\n",
       "      <td>7.987692</td>\n",
       "      <td>-11.941558</td>\n",
       "      <td>7.747051</td>\n",
       "      <td>-14.822470</td>\n",
       "      <td>-4.978141</td>\n",
       "      <td>-13.012679</td>\n",
       "      <td>0.522780</td>\n",
       "      <td>...</td>\n",
       "      <td>8.049055</td>\n",
       "      <td>6.684384</td>\n",
       "      <td>9.295294</td>\n",
       "      <td>7.796215</td>\n",
       "      <td>7.626485</td>\n",
       "      <td>13.558840</td>\n",
       "      <td>3.499619</td>\n",
       "      <td>4.158421</td>\n",
       "      <td>4.454043</td>\n",
       "      <td>0</td>\n",
       "    </tr>\n",
       "    <tr>\n",
       "      <th>3</th>\n",
       "      <td>-517.533997</td>\n",
       "      <td>125.805275</td>\n",
       "      <td>-59.390606</td>\n",
       "      <td>-13.782511</td>\n",
       "      <td>4.535457</td>\n",
       "      <td>-24.435947</td>\n",
       "      <td>5.241576</td>\n",
       "      <td>-2.421912</td>\n",
       "      <td>-26.353161</td>\n",
       "      <td>-3.304838</td>\n",
       "      <td>...</td>\n",
       "      <td>1.490015</td>\n",
       "      <td>1.154809</td>\n",
       "      <td>0.277357</td>\n",
       "      <td>0.515836</td>\n",
       "      <td>0.236132</td>\n",
       "      <td>-0.234576</td>\n",
       "      <td>3.412396</td>\n",
       "      <td>0.813236</td>\n",
       "      <td>0.109381</td>\n",
       "      <td>1</td>\n",
       "    </tr>\n",
       "    <tr>\n",
       "      <th>4</th>\n",
       "      <td>-514.592529</td>\n",
       "      <td>14.008998</td>\n",
       "      <td>-14.682418</td>\n",
       "      <td>2.345538</td>\n",
       "      <td>-7.689001</td>\n",
       "      <td>3.383961</td>\n",
       "      <td>-2.569572</td>\n",
       "      <td>-1.549982</td>\n",
       "      <td>-1.093467</td>\n",
       "      <td>1.475932</td>\n",
       "      <td>...</td>\n",
       "      <td>13.564226</td>\n",
       "      <td>7.877328</td>\n",
       "      <td>15.789228</td>\n",
       "      <td>14.153807</td>\n",
       "      <td>12.275732</td>\n",
       "      <td>9.389269</td>\n",
       "      <td>9.945896</td>\n",
       "      <td>10.580207</td>\n",
       "      <td>10.930882</td>\n",
       "      <td>0</td>\n",
       "    </tr>\n",
       "    <tr>\n",
       "      <th>...</th>\n",
       "      <td>...</td>\n",
       "      <td>...</td>\n",
       "      <td>...</td>\n",
       "      <td>...</td>\n",
       "      <td>...</td>\n",
       "      <td>...</td>\n",
       "      <td>...</td>\n",
       "      <td>...</td>\n",
       "      <td>...</td>\n",
       "      <td>...</td>\n",
       "      <td>...</td>\n",
       "      <td>...</td>\n",
       "      <td>...</td>\n",
       "      <td>...</td>\n",
       "      <td>...</td>\n",
       "      <td>...</td>\n",
       "      <td>...</td>\n",
       "      <td>...</td>\n",
       "      <td>...</td>\n",
       "      <td>...</td>\n",
       "      <td>...</td>\n",
       "    </tr>\n",
       "    <tr>\n",
       "      <th>11309</th>\n",
       "      <td>-420.832428</td>\n",
       "      <td>24.159922</td>\n",
       "      <td>-7.462646</td>\n",
       "      <td>-1.109118</td>\n",
       "      <td>-7.297370</td>\n",
       "      <td>2.585538</td>\n",
       "      <td>-3.614888</td>\n",
       "      <td>-2.995870</td>\n",
       "      <td>-2.900810</td>\n",
       "      <td>-2.309816</td>\n",
       "      <td>...</td>\n",
       "      <td>7.438333</td>\n",
       "      <td>13.595423</td>\n",
       "      <td>8.218443</td>\n",
       "      <td>11.587276</td>\n",
       "      <td>11.786143</td>\n",
       "      <td>13.948130</td>\n",
       "      <td>10.904981</td>\n",
       "      <td>11.123448</td>\n",
       "      <td>7.479071</td>\n",
       "      <td>0</td>\n",
       "    </tr>\n",
       "    <tr>\n",
       "      <th>11310</th>\n",
       "      <td>-509.111389</td>\n",
       "      <td>29.669987</td>\n",
       "      <td>-13.902734</td>\n",
       "      <td>3.884700</td>\n",
       "      <td>-7.175025</td>\n",
       "      <td>2.622873</td>\n",
       "      <td>-6.486012</td>\n",
       "      <td>2.428139</td>\n",
       "      <td>2.001534</td>\n",
       "      <td>1.966568</td>\n",
       "      <td>...</td>\n",
       "      <td>4.287909</td>\n",
       "      <td>7.201852</td>\n",
       "      <td>9.352594</td>\n",
       "      <td>5.025376</td>\n",
       "      <td>3.757401</td>\n",
       "      <td>6.213600</td>\n",
       "      <td>4.211870</td>\n",
       "      <td>5.465702</td>\n",
       "      <td>7.087398</td>\n",
       "      <td>0</td>\n",
       "    </tr>\n",
       "    <tr>\n",
       "      <th>11311</th>\n",
       "      <td>-542.518860</td>\n",
       "      <td>25.574539</td>\n",
       "      <td>-14.508806</td>\n",
       "      <td>1.267237</td>\n",
       "      <td>-20.686975</td>\n",
       "      <td>10.908496</td>\n",
       "      <td>-22.325382</td>\n",
       "      <td>4.440298</td>\n",
       "      <td>-8.084347</td>\n",
       "      <td>-1.617724</td>\n",
       "      <td>...</td>\n",
       "      <td>2.376305</td>\n",
       "      <td>2.893912</td>\n",
       "      <td>4.851071</td>\n",
       "      <td>4.974593</td>\n",
       "      <td>2.251657</td>\n",
       "      <td>1.338482</td>\n",
       "      <td>1.424889</td>\n",
       "      <td>1.009149</td>\n",
       "      <td>2.099168</td>\n",
       "      <td>0</td>\n",
       "    </tr>\n",
       "    <tr>\n",
       "      <th>11312</th>\n",
       "      <td>-448.928528</td>\n",
       "      <td>31.205353</td>\n",
       "      <td>-55.021175</td>\n",
       "      <td>20.766863</td>\n",
       "      <td>-13.703185</td>\n",
       "      <td>-11.568757</td>\n",
       "      <td>-8.959800</td>\n",
       "      <td>-12.043240</td>\n",
       "      <td>4.862084</td>\n",
       "      <td>1.540974</td>\n",
       "      <td>...</td>\n",
       "      <td>1.652596</td>\n",
       "      <td>1.413231</td>\n",
       "      <td>6.992211</td>\n",
       "      <td>2.462015</td>\n",
       "      <td>0.622708</td>\n",
       "      <td>4.137157</td>\n",
       "      <td>3.161835</td>\n",
       "      <td>2.429194</td>\n",
       "      <td>5.825694</td>\n",
       "      <td>1</td>\n",
       "    </tr>\n",
       "    <tr>\n",
       "      <th>11313</th>\n",
       "      <td>-265.393616</td>\n",
       "      <td>131.145889</td>\n",
       "      <td>-43.636631</td>\n",
       "      <td>4.917562</td>\n",
       "      <td>-0.113591</td>\n",
       "      <td>-14.766899</td>\n",
       "      <td>-8.518991</td>\n",
       "      <td>-2.288405</td>\n",
       "      <td>-14.910415</td>\n",
       "      <td>-4.908421</td>\n",
       "      <td>...</td>\n",
       "      <td>1.260765</td>\n",
       "      <td>0.872645</td>\n",
       "      <td>0.253667</td>\n",
       "      <td>-0.148499</td>\n",
       "      <td>-0.325557</td>\n",
       "      <td>0.339210</td>\n",
       "      <td>1.346187</td>\n",
       "      <td>-0.077249</td>\n",
       "      <td>2.169058</td>\n",
       "      <td>0</td>\n",
       "    </tr>\n",
       "  </tbody>\n",
       "</table>\n",
       "<p>11314 rows × 235 columns</p>\n",
       "</div>"
      ],
      "text/plain": [
       "               c0          c1         c2         c3         c4         c5  \\\n",
       "0     -563.337891   18.238453  -2.340280   5.720764  -5.836890   7.594863   \n",
       "1     -278.879547  100.888168 -25.865992  15.782073 -21.624033   3.497478   \n",
       "2     -519.862183   26.079721 -28.713432   7.987692 -11.941558   7.747051   \n",
       "3     -517.533997  125.805275 -59.390606 -13.782511   4.535457 -24.435947   \n",
       "4     -514.592529   14.008998 -14.682418   2.345538  -7.689001   3.383961   \n",
       "...           ...         ...        ...        ...        ...        ...   \n",
       "11309 -420.832428   24.159922  -7.462646  -1.109118  -7.297370   2.585538   \n",
       "11310 -509.111389   29.669987 -13.902734   3.884700  -7.175025   2.622873   \n",
       "11311 -542.518860   25.574539 -14.508806   1.267237 -20.686975  10.908496   \n",
       "11312 -448.928528   31.205353 -55.021175  20.766863 -13.703185 -11.568757   \n",
       "11313 -265.393616  131.145889 -43.636631   4.917562  -0.113591 -14.766899   \n",
       "\n",
       "              c6         c7         c8        c9  ...       c225       c226  \\\n",
       "0      -4.868218  -0.771808  -0.109394 -3.058184  ...  10.603173   9.948966   \n",
       "1      -3.594802  -6.801463   5.152771 -3.411121  ...   2.537391   0.234807   \n",
       "2     -14.822470  -4.978141 -13.012679  0.522780  ...   8.049055   6.684384   \n",
       "3       5.241576  -2.421912 -26.353161 -3.304838  ...   1.490015   1.154809   \n",
       "4      -2.569572  -1.549982  -1.093467  1.475932  ...  13.564226   7.877328   \n",
       "...          ...        ...        ...       ...  ...        ...        ...   \n",
       "11309  -3.614888  -2.995870  -2.900810 -2.309816  ...   7.438333  13.595423   \n",
       "11310  -6.486012   2.428139   2.001534  1.966568  ...   4.287909   7.201852   \n",
       "11311 -22.325382   4.440298  -8.084347 -1.617724  ...   2.376305   2.893912   \n",
       "11312  -8.959800 -12.043240   4.862084  1.540974  ...   1.652596   1.413231   \n",
       "11313  -8.518991  -2.288405 -14.910415 -4.908421  ...   1.260765   0.872645   \n",
       "\n",
       "            c227       c228       c229       c230       c231       c232  \\\n",
       "0      15.936632  12.325701  15.612232  11.181804  13.001097  10.949319   \n",
       "1       1.338121   0.596081  -0.246269   0.222006   0.143543   1.949368   \n",
       "2       9.295294   7.796215   7.626485  13.558840   3.499619   4.158421   \n",
       "3       0.277357   0.515836   0.236132  -0.234576   3.412396   0.813236   \n",
       "4      15.789228  14.153807  12.275732   9.389269   9.945896  10.580207   \n",
       "...          ...        ...        ...        ...        ...        ...   \n",
       "11309   8.218443  11.587276  11.786143  13.948130  10.904981  11.123448   \n",
       "11310   9.352594   5.025376   3.757401   6.213600   4.211870   5.465702   \n",
       "11311   4.851071   4.974593   2.251657   1.338482   1.424889   1.009149   \n",
       "11312   6.992211   2.462015   0.622708   4.137157   3.161835   2.429194   \n",
       "11313   0.253667  -0.148499  -0.325557   0.339210   1.346187  -0.077249   \n",
       "\n",
       "            c233  covid_status  \n",
       "0      27.825075             0  \n",
       "1       1.677189             0  \n",
       "2       4.454043             0  \n",
       "3       0.109381             1  \n",
       "4      10.930882             0  \n",
       "...          ...           ...  \n",
       "11309   7.479071             0  \n",
       "11310   7.087398             0  \n",
       "11311   2.099168             0  \n",
       "11312   5.825694             1  \n",
       "11313   2.169058             0  \n",
       "\n",
       "[11314 rows x 235 columns]"
      ]
     },
     "execution_count": 307,
     "metadata": {},
     "output_type": "execute_result"
    }
   ],
   "source": [
    "# Read the dataset from a Parquet file\n",
    "#df = pd.read_csv(mfccsPath).sample(frac=0.0005)\n",
    "df = pd.read_parquet(mfccsPath)\n",
    "df"
   ]
  },
  {
   "cell_type": "code",
   "execution_count": 308,
   "id": "20d9f909",
   "metadata": {},
   "outputs": [
    {
     "name": "stdout",
     "output_type": "stream",
     "text": [
      "<class 'pandas.core.frame.DataFrame'>\n",
      "RangeIndex: 11314 entries, 0 to 11313\n",
      "Columns: 235 entries, c0 to covid_status\n",
      "dtypes: float32(234), int64(1)\n",
      "memory usage: 10.2 MB\n"
     ]
    }
   ],
   "source": [
    "# Display information about the dataframe\n",
    "df.info()"
   ]
  },
  {
   "cell_type": "code",
   "execution_count": 309,
   "id": "ac4a7965",
   "metadata": {},
   "outputs": [
    {
     "name": "stdout",
     "output_type": "stream",
     "text": [
      "Number of columns with NaN values: 3668\n",
      "Number of rows with at least one NaN value: 48\n"
     ]
    }
   ],
   "source": [
    "# Count the number of NaN values in each column\n",
    "nan_columns = df.isnull().sum()\n",
    "# Count the number of rows with at least one NaN value\n",
    "nan_rows = df.isnull().any(axis=1).sum()\n",
    "# Print the results\n",
    "print(\"Number of columns with NaN values:\", nan_columns.sum())\n",
    "print(\"Number of rows with at least one NaN value:\", nan_rows)"
   ]
  },
  {
   "cell_type": "code",
   "execution_count": 310,
   "id": "469394ff",
   "metadata": {},
   "outputs": [
    {
     "data": {
      "image/png": "[encoded data removed]",
      "text/plain": [
       "<Figure size 800x600 with 1 Axes>"
      ]
     },
     "metadata": {},
     "output_type": "display_data"
    }
   ],
   "source": [
    "import matplotlib.pyplot as plt\n",
    "\n",
    "# Count the number of non-NaN values in each column\n",
    "non_nan_columns = df.notnull().sum()\n",
    "\n",
    "# Calculate the total number of values in each column\n",
    "total_values = len(df)\n",
    "\n",
    "# Calculate the number of NaN values in each column\n",
    "nan_columns = total_values - non_nan_columns\n",
    "\n",
    "# Calculate the percentage of NaN and non-NaN values in each column\n",
    "nan_percentage = (nan_columns / total_values) * 100\n",
    "non_nan_percentage = (non_nan_columns / total_values) * 100\n",
    "\n",
    "# Plotting the pie chart\n",
    "plt.figure(figsize=(8, 6))\n",
    "labels = ['NaN', 'Non-NaN']\n",
    "plt.pie([nan_percentage.sum(), non_nan_percentage.sum()], labels=labels, autopct='%1.1f%%')\n",
    "plt.title('NaN vs Non-NaN Values Distribution')\n",
    "plt.show()\n"
   ]
  },
  {
   "cell_type": "markdown",
   "id": "16052b14",
   "metadata": {},
   "source": [
    "### The Distribution of NAN is too small compared to the rest of the numbers so we take a decision to Drop them"
   ]
  },
  {
   "cell_type": "code",
   "execution_count": 311,
   "id": "15237115",
   "metadata": {},
   "outputs": [
    {
     "name": "stdout",
     "output_type": "stream",
     "text": [
      "Number of columns with NaN values: 0\n",
      "Number of rows with at least one NaN value: 0\n"
     ]
    }
   ],
   "source": [
    "# Drop rows with NaN values\n",
    "df_dropped_rows = df.dropna(axis=0)\n",
    "# Count the number of NaN values in each column\n",
    "nan_columns = df_dropped_rows.isnull().sum()\n",
    "# Count the number of rows with at least one NaN value\n",
    "nan_rows = df_dropped_rows.isnull().any(axis=1).sum()\n",
    "# Print the results after dropping rows\n",
    "print(\"Number of columns with NaN values:\", nan_columns.sum())\n",
    "print(\"Number of rows with at least one NaN value:\", nan_rows)"
   ]
  },
  {
   "cell_type": "code",
   "execution_count": 312,
   "id": "91d874c6",
   "metadata": {},
   "outputs": [
    {
     "name": "stdout",
     "output_type": "stream",
     "text": [
      "(11266, 235)\n"
     ]
    }
   ],
   "source": [
    "# Print the shape (number of rows and columns) of the df_dropped_rows dataframe\n",
    "print(df_dropped_rows.shape)"
   ]
  },
  {
   "cell_type": "markdown",
   "id": "399c0d7a",
   "metadata": {},
   "source": [
    "### the distribution of Covid-19 and Non-Covid-19 "
   ]
  },
  {
   "cell_type": "code",
   "execution_count": 313,
   "id": "9e5192b4",
   "metadata": {},
   "outputs": [
    {
     "data": {
      "text/plain": [
       "0    8525\n",
       "1    2741\n",
       "Name: covid_status, dtype: int64"
      ]
     },
     "execution_count": 313,
     "metadata": {},
     "output_type": "execute_result"
    }
   ],
   "source": [
    "# Count the occurrences of each unique value in the 'covid_status' column of the df_dropped_rows dataframe\n",
    "df_dropped_rows.covid_status.value_counts()"
   ]
  },
  {
   "cell_type": "code",
   "execution_count": 314,
   "id": "fe7543e2",
   "metadata": {},
   "outputs": [
    {
     "data": {
      "image/png": "[encoded data removed]",
      "text/plain": [
       "<Figure size 800x600 with 1 Axes>"
      ]
     },
     "metadata": {},
     "output_type": "display_data"
    }
   ],
   "source": [
    "# Calculate the value counts of 'covid_status' column\n",
    "value_counts = df_dropped_rows['covid_status'].value_counts()\n",
    "\n",
    "# Define the class labels for the pie chart\n",
    "class_labels = ['Non-Covid-19', 'Covid-19']\n",
    "# Plotting the pie chart\n",
    "plt.figure(figsize=(8, 6))\n",
    "plt.pie(value_counts, labels=class_labels, autopct='%1.1f%%')\n",
    "plt.title('COVID Status Distribution')\n",
    "plt.show()\n"
   ]
  },
  {
   "cell_type": "markdown",
   "id": "6d898f91",
   "metadata": {},
   "source": [
    "As we can see we have a smaller number of COVID-19 samples compared to healthy samples, which creates an imbalance in our dataset. This class imbalance can negatively impact the performance of our classification model. So to solve this problem we decide to use oversampling using the SMOTE method."
   ]
  },
  {
   "cell_type": "code",
   "execution_count": 315,
   "id": "1b30abaa",
   "metadata": {},
   "outputs": [
    {
     "name": "stdout",
     "output_type": "stream",
     "text": [
      "(11266, 234)\n",
      "(11266,)\n"
     ]
    }
   ],
   "source": [
    "# Splitting the dataframe into features (X) and target (Y)\n",
    "X = df_dropped_rows.drop('covid_status', axis=1)\n",
    "Y = df_dropped_rows['covid_status']\n",
    "#print(X_train.shape)\n",
    "# Display the shape of the features and target arrays\n",
    "print(X.shape)\n",
    "print(Y.shape)"
   ]
  },
  {
   "cell_type": "markdown",
   "id": "5c99920e",
   "metadata": {},
   "source": [
    "### Perform oversampling using SMOTE (Synthetic Minority Over-sampling Technique)\n"
   ]
  },
  {
   "cell_type": "code",
   "execution_count": 316,
   "id": "8ad34795",
   "metadata": {},
   "outputs": [],
   "source": [
    "from imblearn.over_sampling import SMOTE\n",
    "sm = SMOTE(random_state=2)\n",
    "X_res, Y_res = sm.fit_resample(X, Y.ravel())"
   ]
  },
  {
   "cell_type": "code",
   "execution_count": 317,
   "id": "b0dcb0ad",
   "metadata": {},
   "outputs": [
    {
     "name": "stdout",
     "output_type": "stream",
     "text": [
      "(17050, 234)\n",
      "(17050,)\n"
     ]
    }
   ],
   "source": [
    "# Print the shape of the oversampled dataset\n",
    "print(X_res.shape)\n",
    "print(Y_res.shape)"
   ]
  },
  {
   "cell_type": "code",
   "execution_count": 318,
   "id": "686d23da",
   "metadata": {},
   "outputs": [
    {
     "name": "stdout",
     "output_type": "stream",
     "text": [
      "8525 8525\n"
     ]
    }
   ],
   "source": [
    "# Print the counts of the two classes in the oversampled target array\n",
    "print(len(Y_res[Y_res==0]),len(Y_res[Y_res==1]))"
   ]
  },
  {
   "cell_type": "markdown",
   "id": "b909463c",
   "metadata": {},
   "source": [
    "### Distribution of classes after using SMOTE"
   ]
  },
  {
   "cell_type": "code",
   "execution_count": 319,
   "id": "3b260f5e",
   "metadata": {},
   "outputs": [
    {
     "data": {
      "image/png": "[encoded data removed]",
      "text/plain": [
       "<Figure size 600x600 with 1 Axes>"
      ]
     },
     "metadata": {},
     "output_type": "display_data"
    }
   ],
   "source": [
    "# Count the occurrences of each class in the oversampled target array\n",
    "class_counts = [len(Y_res[Y_res == 0]), len(Y_res[Y_res == 1])]\n",
    "\n",
    "# Define the class labels for the pie chart\n",
    "class_labels = ['Non-Covid-19', 'Covid-19']\n",
    "\n",
    "# Create the pie chart\n",
    "plt.figure(figsize=(6, 6))\n",
    "plt.pie(class_counts, labels=class_labels, autopct='%1.1f%%', startangle=90)\n",
    "\n",
    "# Add a title to the pie chart\n",
    "plt.title('Distribution of Classes')\n",
    "\n",
    "# Display the pie chart\n",
    "plt.show()"
   ]
  },
  {
   "cell_type": "markdown",
   "id": "aafd34ed",
   "metadata": {},
   "source": [
    "### the distribution of our dataset before using the Standardization"
   ]
  },
  {
   "cell_type": "code",
   "execution_count": 320,
   "id": "6910bd61",
   "metadata": {},
   "outputs": [
    {
     "data": {
      "image/png": "[encoded data removed]",
      "text/plain": [
       "<Figure size 1000x600 with 1 Axes>"
      ]
     },
     "metadata": {},
     "output_type": "display_data"
    }
   ],
   "source": [
    "import matplotlib.pyplot as plt\n",
    "\n",
    "# Create a box plot for each column in the dataframe\n",
    "plt.figure(figsize=(10, 6))  # Adjust the figure size if needed\n",
    "\n",
    "X_res.boxplot()\n",
    "\n",
    "# Set the title and labels for the plot\n",
    "plt.title(\"Box Plot of DataFrame\")\n",
    "plt.xlabel(\"Columns\")\n",
    "plt.ylabel(\"Values\")\n",
    "\n",
    "# Rotate the x-axis labels if necessary\n",
    "plt.xticks(rotation=45)\n",
    "\n",
    "# Display the plot\n",
    "plt.show()\n"
   ]
  },
  {
   "cell_type": "markdown",
   "id": "7daf23e9",
   "metadata": {},
   "source": [
    "### Now we scale and normalize the features of our dataset"
   ]
  },
  {
   "cell_type": "markdown",
   "id": "710a0490",
   "metadata": {},
   "source": [
    "Standardization brings the features to a similar scale, centered around 0 with a standard deviation of 1. This is ensures that no single feature dominates the learning algorithm due to its larger magnitude."
   ]
  },
  {
   "cell_type": "code",
   "execution_count": 321,
   "id": "d4eaebec",
   "metadata": {},
   "outputs": [
    {
     "data": {
      "text/plain": [
       "array([[-0.7730267 , -1.1638055 ,  0.6605224 , ...,  0.9593701 ,\n",
       "         0.74531496,  2.372832  ],\n",
       "       [ 1.4579351 ,  1.9622406 , -0.84188914, ..., -0.47664964,\n",
       "        -0.28993225, -0.2981797 ],\n",
       "       [-0.43205357, -0.8672265 , -1.023734  , ..., -0.10182007,\n",
       "        -0.03582909, -0.0145235 ],\n",
       "       ...,\n",
       "       [ 0.27007416,  1.4625543 ,  1.0567813 , ..., -0.508943  ,\n",
       "        -0.45850372, -0.46475816],\n",
       "       [-0.201611  ,  0.52525645,  0.7075674 , ..., -0.31184584,\n",
       "        -0.29013804, -0.37298855],\n",
       "       [-0.10249866, -0.52074164,  1.0114633 , ...,  0.38205537,\n",
       "        -0.20796677, -0.18473837]], dtype=float32)"
      ]
     },
     "execution_count": 321,
     "metadata": {},
     "output_type": "execute_result"
    }
   ],
   "source": [
    "# Standardize the feature matrix using StandardScaler\n",
    "from sklearn.preprocessing import StandardScaler\n",
    "scaler=StandardScaler()\n",
    "scaler.fit(X_res)\n",
    "X_res=scaler.transform(X_res)\n",
    "# The resulting oversampled and standardized feature matrix\n",
    "X_res"
   ]
  },
  {
   "cell_type": "code",
   "execution_count": 322,
   "id": "ea5c5c25",
   "metadata": {},
   "outputs": [
    {
     "data": {
      "image/png": "[encoded data removed]",
      "text/plain": [
       "<Figure size 1000x600 with 1 Axes>"
      ]
     },
     "metadata": {},
     "output_type": "display_data"
    }
   ],
   "source": [
    "plt.figure(figsize=(10, 6))  # Adjust the figure size if needed\n",
    "\n",
    "plt.boxplot(X_res)\n",
    "\n",
    "# Set the title and labels for the plot\n",
    "plt.title(\"Box Plot of our data after the Standardization\")\n",
    "plt.xlabel(\"Columns\")\n",
    "plt.ylabel(\"Values\")\n",
    "\n",
    "# Rotate the x-axis labels if necessary\n",
    "plt.xticks(rotation=45)\n",
    "\n",
    "# Display the plot\n",
    "plt.show()"
   ]
  },
  {
   "cell_type": "markdown",
   "id": "8ed0fba0",
   "metadata": {},
   "source": [
    "# IIII. Train/Test Split<a class=\"anchor\" id=\"tts\"></a>\n",
    "**[Back to top](#toc)**"
   ]
  },
  {
   "cell_type": "markdown",
   "id": "c271e349",
   "metadata": {},
   "source": [
    "split the data into 80% for training and 20% for testing."
   ]
  },
  {
   "cell_type": "code",
   "execution_count": 323,
   "id": "8a45bd56",
   "metadata": {},
   "outputs": [
    {
     "data": {
      "text/plain": [
       "numpy.ndarray"
      ]
     },
     "execution_count": 323,
     "metadata": {},
     "output_type": "execute_result"
    }
   ],
   "source": [
    "# Split the dataset into training and testing sets\n",
    "X_train, X_test, Y_train, Y_test = train_test_split(X_res, Y_res, test_size=0.2, random_state=42)\n",
    "type(Y_train)"
   ]
  },
  {
   "cell_type": "code",
   "execution_count": 324,
   "id": "42777d3c",
   "metadata": {},
   "outputs": [
    {
     "name": "stdout",
     "output_type": "stream",
     "text": [
      "6831 6809\n"
     ]
    }
   ],
   "source": [
    "# distribution of covid-19 status in the training subset\n",
    "print(len(Y_train[Y_train==0]),len(Y_train[Y_train==1]))"
   ]
  },
  {
   "cell_type": "markdown",
   "id": "d8bc6f0c",
   "metadata": {},
   "source": [
    "# IV. Machine Learning Models <a class=\"anchor\" id=\"mlm\"></a>\n",
    "**[Back to top](#toc)**"
   ]
  },
  {
   "cell_type": "markdown",
   "id": "0ef657a5",
   "metadata": {},
   "source": [
    "**In this section we will use different machine learning models with different Hyperparameter setups which allow us to compare and evaluate the performance of different models under different settings, by using different machine learning models, we can assess how well each model fits the data and determine which model is most suitable for our problem. Additionally, adjusting the hyperparameters of each model helps fine-tune their behavior and optimize their performance.**"
   ]
  },
  {
   "cell_type": "markdown",
   "id": "08ffec46",
   "metadata": {},
   "source": [
    "## SVM models"
   ]
  },
  {
   "cell_type": "markdown",
   "id": "b4ca3a65",
   "metadata": {},
   "source": [
    "### SVM classifier with a linear kernel"
   ]
  },
  {
   "cell_type": "code",
   "execution_count": 79,
   "id": "de98d3a0",
   "metadata": {},
   "outputs": [
    {
     "name": "stdout",
     "output_type": "stream",
     "text": [
      "[0 1 1 ... 0 0 1]\n",
      "[1 1 0 ... 1 0 0]\n",
      "accuracy: 0.5750733137829912\n",
      "f1-score: 0.5896346644010196\n",
      "Precision: 0.5735537190082645\n",
      "Recall: 0.6066433566433567\n",
      "balanced accuracy: 0.5748683135046772\n"
     ]
    }
   ],
   "source": [
    "svm_linear = SVC(kernel='linear')\n",
    "svm_linear.fit(X_train, Y_train)\n",
    "Y_pred_linear = svm_linear.predict(X_test)\n",
    "print(Y_test)\n",
    "print(Y_pred_linear)\n",
    "print(\"Accuracy:\", accuracy_score(Y_test, Y_pred_linear))\n",
    "print(\"Precision:\",precision_score(Y_test, Y_pred_linear))\n",
    "print(\"Recall:\",recall_score(Y_test, Y_pred_linear))\n",
    "print(\"f1-score:\", f1_score(Y_test, Y_pred_linear))\n",
    "print(\"ROC_AUC:\", roc_auc_score(Y_test, Y_pred_linear))\n",
    "print(\"Specificity:\", specificity_score(Y_test, Y_pred_linear))"
   ]
  },
  {
   "cell_type": "markdown",
   "id": "a677c3aa",
   "metadata": {},
   "source": [
    "### SVM classifier with a Radial Basis Function kernel (Gaussian)"
   ]
  },
  {
   "cell_type": "code",
   "execution_count": 93,
   "id": "185e968c",
   "metadata": {},
   "outputs": [
    {
     "name": "stdout",
     "output_type": "stream",
     "text": [
      "[0 1 1 ... 0 0 1]\n",
      "[1 1 1 ... 0 0 1]\n",
      "Accuracy: 0.7653958944281525\n",
      "Precision: 0.7608200455580866\n",
      "Recall: 0.7785547785547785\n",
      "f1-score: 0.7695852534562212\n",
      "ROC_AUC: 0.765310447128629\n",
      "Specificity: 0.7520661157024794\n"
     ]
    }
   ],
   "source": [
    "svm_rbf = SVC(kernel='rbf',C=1)\n",
    "svm_rbf.fit(X_train, Y_train)\n",
    "# predict on test data\n",
    "Y_pred_rbf = svm_rbf.predict(X_test)\n",
    "print(Y_test)\n",
    "print(Y_pred_rbf)\n",
    "print(\"Accuracy:\", accuracy_score(Y_test, Y_pred_rbf))\n",
    "print(\"Precision:\",precision_score(Y_test, Y_pred_rbf))\n",
    "print(\"Recall:\",recall_score(Y_test, Y_pred_rbf))\n",
    "print(\"f1-score:\", f1_score(Y_test, Y_pred_rbf))\n",
    "print(\"ROC_AUC:\", roc_auc_score(Y_test, Y_pred_rbf))\n",
    "print(\"Specificity:\", specificity_score(Y_test, Y_pred_rbf))"
   ]
  },
  {
   "cell_type": "markdown",
   "id": "1b4f5bca",
   "metadata": {},
   "source": [
    "### SVM classifier with polynomial kernel + (degree,gama) hyperparameters-tuning"
   ]
  },
  {
   "cell_type": "code",
   "execution_count": 94,
   "id": "148e6bb0",
   "metadata": {},
   "outputs": [
    {
     "name": "stdout",
     "output_type": "stream",
     "text": [
      "[0 1 1 ... 0 0 1]\n",
      "[1 1 1 ... 0 0 1]\n",
      "Accuracy: 0.8079178885630498\n",
      "Precision: 0.7452612112806287\n",
      "Recall: 0.9393939393939394\n",
      "f1-score: 0.831142046919309\n",
      "ROC_AUC: 0.8070641479732389\n",
      "Specificity: 0.6747343565525383\n"
     ]
    }
   ],
   "source": [
    "############################# create an instance of the svm_model   polynomial (degree=3++) with gama\n",
    "# Create a Polynomial SVM model\n",
    "svm_poly = SVC(kernel='poly', degree=3, gamma=0.1)\n",
    "svm_poly.fit(X_train, Y_train)\n",
    "# predict on test data\n",
    "Y_pred_poly = svm_poly.predict(X_test)\n",
    "print(Y_test)\n",
    "print(Y_pred_poly)\n",
    "print(\"Accuracy:\", accuracy_score(Y_test, Y_pred_poly))\n",
    "print(\"Precision:\",precision_score(Y_test, Y_pred_poly))\n",
    "print(\"Recall:\",recall_score(Y_test, Y_pred_poly))\n",
    "print(\"f1-score:\", f1_score(Y_test, Y_pred_poly))\n",
    "print(\"ROC_AUC:\", roc_auc_score(Y_test, Y_pred_poly))\n",
    "print(\"Specificity:\", specificity_score(Y_test, Y_pred_poly))"
   ]
  },
  {
   "cell_type": "markdown",
   "id": "f46cbde2",
   "metadata": {},
   "source": [
    "# Random Forest models"
   ]
  },
  {
   "cell_type": "markdown",
   "id": "d685dbeb",
   "metadata": {},
   "source": [
    "### Random forest classifier with criterion ='entropy' + bootstrap=True"
   ]
  },
  {
   "cell_type": "code",
   "execution_count": 76,
   "id": "dff36317",
   "metadata": {},
   "outputs": [
    {
     "name": "stdout",
     "output_type": "stream",
     "text": [
      "[0 1 1 ... 0 0 1]\n",
      "[1 1 1 ... 0 1 1]\n",
      "accuracy: 0.8648093841642229\n",
      "f1-score: 0.8623469692445506\n",
      "Precision: 0.8842620943049602\n",
      "Recall: 0.8414918414918415\n",
      "balanced accuracy: 0.8649607967789786\n"
     ]
    }
   ],
   "source": [
    "rfe = RandomForestClassifier(n_estimators=500, bootstrap=True, criterion ='entropy', random_state=42)\n",
    "# Train the model on the training data\n",
    "rfe.fit(X_train, Y_train)\n",
    "# Make predictions on the test data\n",
    "Y_pred_rfe = rfe.predict(X_test)\n",
    "print(Y_test)\n",
    "print(Y_pred_rfe)\n",
    "print(\"Accuracy:\", accuracy_score(Y_test, Y_pred_rfe))\n",
    "print(\"Precision:\",precision_score(Y_test, Y_pred_rfe))\n",
    "print(\"Recall:\",recall_score(Y_test, Y_pred_rfe))\n",
    "print(\"f1-score:\", f1_score(Y_test, Y_pred_rfe))\n",
    "print(\"ROC_AUC:\", roc_auc_score(Y_test, Y_pred_rfe))\n",
    "print(\"Specificity:\", specificity_score(Y_test, Y_pred_rfe))"
   ]
  },
  {
   "cell_type": "markdown",
   "id": "7ec8eef8",
   "metadata": {},
   "source": [
    "### Random forest classifier with criterion ='gini' + bootstrap=False"
   ]
  },
  {
   "cell_type": "code",
   "execution_count": 95,
   "id": "b1323361",
   "metadata": {},
   "outputs": [
    {
     "name": "stderr",
     "output_type": "stream",
     "text": [
      "[Parallel(n_jobs=1)]: Using backend SequentialBackend with 1 concurrent workers.\n"
     ]
    },
    {
     "name": "stdout",
     "output_type": "stream",
     "text": [
      "building tree 1 of 500\n"
     ]
    },
    {
     "name": "stderr",
     "output_type": "stream",
     "text": [
      "[Parallel(n_jobs=1)]: Done   1 out of   1 | elapsed:    0.4s remaining:    0.0s\n"
     ]
    },
    {
     "name": "stdout",
     "output_type": "stream",
     "text": [
      "building tree 2 of 500\n"
     ]
    },
    {
     "name": "stderr",
     "output_type": "stream",
     "text": [
      "[Parallel(n_jobs=1)]: Done   2 out of   2 | elapsed:    0.7s remaining:    0.0s\n"
     ]
    },
    {
     "name": "stdout",
     "output_type": "stream",
     "text": [
      "building tree 3 of 500\n"
     ]
    },
    {
     "name": "stderr",
     "output_type": "stream",
     "text": [
      "[Parallel(n_jobs=1)]: Done   3 out of   3 | elapsed:    1.1s remaining:    0.0s\n"
     ]
    },
    {
     "name": "stdout",
     "output_type": "stream",
     "text": [
      "building tree 4 of 500\n"
     ]
    },
    {
     "name": "stderr",
     "output_type": "stream",
     "text": [
      "[Parallel(n_jobs=1)]: Done   4 out of   4 | elapsed:    1.5s remaining:    0.0s\n"
     ]
    },
    {
     "name": "stdout",
     "output_type": "stream",
     "text": [
      "building tree 5 of 500\n"
     ]
    },
    {
     "name": "stderr",
     "output_type": "stream",
     "text": [
      "[Parallel(n_jobs=1)]: Done   5 out of   5 | elapsed:    1.8s remaining:    0.0s\n"
     ]
    },
    {
     "name": "stdout",
     "output_type": "stream",
     "text": [
      "building tree 6 of 500\n"
     ]
    },
    {
     "name": "stderr",
     "output_type": "stream",
     "text": [
      "[Parallel(n_jobs=1)]: Done   6 out of   6 | elapsed:    2.2s remaining:    0.0s\n"
     ]
    },
    {
     "name": "stdout",
     "output_type": "stream",
     "text": [
      "building tree 7 of 500\n"
     ]
    },
    {
     "name": "stderr",
     "output_type": "stream",
     "text": [
      "[Parallel(n_jobs=1)]: Done   7 out of   7 | elapsed:    2.5s remaining:    0.0s\n"
     ]
    },
    {
     "name": "stdout",
     "output_type": "stream",
     "text": [
      "building tree 8 of 500\n"
     ]
    },
    {
     "name": "stderr",
     "output_type": "stream",
     "text": [
      "[Parallel(n_jobs=1)]: Done   8 out of   8 | elapsed:    2.9s remaining:    0.0s\n"
     ]
    },
    {
     "name": "stdout",
     "output_type": "stream",
     "text": [
      "building tree 9 of 500\n"
     ]
    },
    {
     "name": "stderr",
     "output_type": "stream",
     "text": [
      "[Parallel(n_jobs=1)]: Done   9 out of   9 | elapsed:    3.3s remaining:    0.0s\n"
     ]
    },
    {
     "name": "stdout",
     "output_type": "stream",
     "text": [
      "building tree 10 of 500\n",
      "building tree 11 of 500\n",
      "building tree 12 of 500\n",
      "building tree 13 of 500\n",
      "building tree 14 of 500\n",
      "building tree 15 of 500\n",
      "building tree 16 of 500\n",
      "building tree 17 of 500\n",
      "building tree 18 of 500\n",
      "building tree 19 of 500\n",
      "building tree 20 of 500\n",
      "building tree 21 of 500\n",
      "building tree 22 of 500\n",
      "building tree 23 of 500\n",
      "building tree 24 of 500\n",
      "building tree 25 of 500\n",
      "building tree 26 of 500\n",
      "building tree 27 of 500\n",
      "building tree 28 of 500\n",
      "building tree 29 of 500\n",
      "building tree 30 of 500\n",
      "building tree 31 of 500\n",
      "building tree 32 of 500\n",
      "building tree 33 of 500\n",
      "building tree 34 of 500\n",
      "building tree 35 of 500\n",
      "building tree 36 of 500\n",
      "building tree 37 of 500\n",
      "building tree 38 of 500\n",
      "building tree 39 of 500\n",
      "building tree 40 of 500\n",
      "building tree 41 of 500\n",
      "building tree 42 of 500\n",
      "building tree 43 of 500\n",
      "building tree 44 of 500\n",
      "building tree 45 of 500\n",
      "building tree 46 of 500\n",
      "building tree 47 of 500\n",
      "building tree 48 of 500\n",
      "building tree 49 of 500\n",
      "building tree 50 of 500\n",
      "building tree 51 of 500\n",
      "building tree 52 of 500\n",
      "building tree 53 of 500\n",
      "building tree 54 of 500\n",
      "building tree 55 of 500\n",
      "building tree 56 of 500\n",
      "building tree 57 of 500\n",
      "building tree 58 of 500\n",
      "building tree 59 of 500\n",
      "building tree 60 of 500\n",
      "building tree 61 of 500\n",
      "building tree 62 of 500\n",
      "building tree 63 of 500\n",
      "building tree 64 of 500\n",
      "building tree 65 of 500\n",
      "building tree 66 of 500\n",
      "building tree 67 of 500\n",
      "building tree 68 of 500\n",
      "building tree 69 of 500\n",
      "building tree 70 of 500\n",
      "building tree 71 of 500\n",
      "building tree 72 of 500\n",
      "building tree 73 of 500\n",
      "building tree 74 of 500\n",
      "building tree 75 of 500\n",
      "building tree 76 of 500\n",
      "building tree 77 of 500\n",
      "building tree 78 of 500\n",
      "building tree 79 of 500\n",
      "building tree 80 of 500\n",
      "building tree 81 of 500\n",
      "building tree 82 of 500\n",
      "building tree 83 of 500\n",
      "building tree 84 of 500\n",
      "building tree 85 of 500\n",
      "building tree 86 of 500\n",
      "building tree 87 of 500\n",
      "building tree 88 of 500\n",
      "building tree 89 of 500\n",
      "building tree 90 of 500\n",
      "building tree 91 of 500\n",
      "building tree 92 of 500\n",
      "building tree 93 of 500\n",
      "building tree 94 of 500\n",
      "building tree 95 of 500\n",
      "building tree 96 of 500\n",
      "building tree 97 of 500\n",
      "building tree 98 of 500\n",
      "building tree 99 of 500\n",
      "building tree 100 of 500\n",
      "building tree 101 of 500\n",
      "building tree 102 of 500\n",
      "building tree 103 of 500\n",
      "building tree 104 of 500\n",
      "building tree 105 of 500\n",
      "building tree 106 of 500\n",
      "building tree 107 of 500\n",
      "building tree 108 of 500\n",
      "building tree 109 of 500\n",
      "building tree 110 of 500\n",
      "building tree 111 of 500\n",
      "building tree 112 of 500\n",
      "building tree 113 of 500\n",
      "building tree 114 of 500\n",
      "building tree 115 of 500\n",
      "building tree 116 of 500\n",
      "building tree 117 of 500\n",
      "building tree 118 of 500\n",
      "building tree 119 of 500\n",
      "building tree 120 of 500\n",
      "building tree 121 of 500\n",
      "building tree 122 of 500\n",
      "building tree 123 of 500\n",
      "building tree 124 of 500\n",
      "building tree 125 of 500\n",
      "building tree 126 of 500\n",
      "building tree 127 of 500\n",
      "building tree 128 of 500\n",
      "building tree 129 of 500\n",
      "building tree 130 of 500\n",
      "building tree 131 of 500\n",
      "building tree 132 of 500\n",
      "building tree 133 of 500\n",
      "building tree 134 of 500\n",
      "building tree 135 of 500\n",
      "building tree 136 of 500\n",
      "building tree 137 of 500\n",
      "building tree 138 of 500\n",
      "building tree 139 of 500\n",
      "building tree 140 of 500\n",
      "building tree 141 of 500\n",
      "building tree 142 of 500\n",
      "building tree 143 of 500\n",
      "building tree 144 of 500\n",
      "building tree 145 of 500\n",
      "building tree 146 of 500\n",
      "building tree 147 of 500\n",
      "building tree 148 of 500\n",
      "building tree 149 of 500\n",
      "building tree 150 of 500\n",
      "building tree 151 of 500\n",
      "building tree 152 of 500\n",
      "building tree 153 of 500\n",
      "building tree 154 of 500\n",
      "building tree 155 of 500\n",
      "building tree 156 of 500\n",
      "building tree 157 of 500\n",
      "building tree 158 of 500\n",
      "building tree 159 of 500\n",
      "building tree 160 of 500\n",
      "building tree 161 of 500\n",
      "building tree 162 of 500\n",
      "building tree 163 of 500\n",
      "building tree 164 of 500\n",
      "building tree 165 of 500\n",
      "building tree 166 of 500\n",
      "building tree 167 of 500\n",
      "building tree 168 of 500\n",
      "building tree 169 of 500\n",
      "building tree 170 of 500\n",
      "building tree 171 of 500\n",
      "building tree 172 of 500\n",
      "building tree 173 of 500\n",
      "building tree 174 of 500\n",
      "building tree 175 of 500\n",
      "building tree 176 of 500\n",
      "building tree 177 of 500\n",
      "building tree 178 of 500\n",
      "building tree 179 of 500\n",
      "building tree 180 of 500\n",
      "building tree 181 of 500\n",
      "building tree 182 of 500\n",
      "building tree 183 of 500\n",
      "building tree 184 of 500\n",
      "building tree 185 of 500\n",
      "building tree 186 of 500\n",
      "building tree 187 of 500\n",
      "building tree 188 of 500\n",
      "building tree 189 of 500\n",
      "building tree 190 of 500\n",
      "building tree 191 of 500\n",
      "building tree 192 of 500\n",
      "building tree 193 of 500\n",
      "building tree 194 of 500\n",
      "building tree 195 of 500\n",
      "building tree 196 of 500\n",
      "building tree 197 of 500\n",
      "building tree 198 of 500\n",
      "building tree 199 of 500\n",
      "building tree 200 of 500\n",
      "building tree 201 of 500\n",
      "building tree 202 of 500\n",
      "building tree 203 of 500\n",
      "building tree 204 of 500\n",
      "building tree 205 of 500\n",
      "building tree 206 of 500\n",
      "building tree 207 of 500\n",
      "building tree 208 of 500\n",
      "building tree 209 of 500\n",
      "building tree 210 of 500\n",
      "building tree 211 of 500\n",
      "building tree 212 of 500\n",
      "building tree 213 of 500\n",
      "building tree 214 of 500\n",
      "building tree 215 of 500\n",
      "building tree 216 of 500\n",
      "building tree 217 of 500\n",
      "building tree 218 of 500\n",
      "building tree 219 of 500\n",
      "building tree 220 of 500\n",
      "building tree 221 of 500\n",
      "building tree 222 of 500\n",
      "building tree 223 of 500\n",
      "building tree 224 of 500\n",
      "building tree 225 of 500\n",
      "building tree 226 of 500\n",
      "building tree 227 of 500\n",
      "building tree 228 of 500\n",
      "building tree 229 of 500\n",
      "building tree 230 of 500\n",
      "building tree 231 of 500\n",
      "building tree 232 of 500\n",
      "building tree 233 of 500\n",
      "building tree 234 of 500\n",
      "building tree 235 of 500\n",
      "building tree 236 of 500\n",
      "building tree 237 of 500\n",
      "building tree 238 of 500\n",
      "building tree 239 of 500\n",
      "building tree 240 of 500\n",
      "building tree 241 of 500\n",
      "building tree 242 of 500\n",
      "building tree 243 of 500\n",
      "building tree 244 of 500\n",
      "building tree 245 of 500\n",
      "building tree 246 of 500\n",
      "building tree 247 of 500\n",
      "building tree 248 of 500\n",
      "building tree 249 of 500\n",
      "building tree 250 of 500\n",
      "building tree 251 of 500\n",
      "building tree 252 of 500\n",
      "building tree 253 of 500\n",
      "building tree 254 of 500\n",
      "building tree 255 of 500\n",
      "building tree 256 of 500\n",
      "building tree 257 of 500\n",
      "building tree 258 of 500\n",
      "building tree 259 of 500\n",
      "building tree 260 of 500\n",
      "building tree 261 of 500\n",
      "building tree 262 of 500\n",
      "building tree 263 of 500\n",
      "building tree 264 of 500\n",
      "building tree 265 of 500\n",
      "building tree 266 of 500\n",
      "building tree 267 of 500\n",
      "building tree 268 of 500\n",
      "building tree 269 of 500\n",
      "building tree 270 of 500\n",
      "building tree 271 of 500\n",
      "building tree 272 of 500\n",
      "building tree 273 of 500\n",
      "building tree 274 of 500\n",
      "building tree 275 of 500\n",
      "building tree 276 of 500\n",
      "building tree 277 of 500\n",
      "building tree 278 of 500\n",
      "building tree 279 of 500\n",
      "building tree 280 of 500\n",
      "building tree 281 of 500\n",
      "building tree 282 of 500\n",
      "building tree 283 of 500\n",
      "building tree 284 of 500\n",
      "building tree 285 of 500\n",
      "building tree 286 of 500\n",
      "building tree 287 of 500\n",
      "building tree 288 of 500\n",
      "building tree 289 of 500\n",
      "building tree 290 of 500\n",
      "building tree 291 of 500\n",
      "building tree 292 of 500\n",
      "building tree 293 of 500\n",
      "building tree 294 of 500\n",
      "building tree 295 of 500\n",
      "building tree 296 of 500\n",
      "building tree 297 of 500\n",
      "building tree 298 of 500\n",
      "building tree 299 of 500\n",
      "building tree 300 of 500\n",
      "building tree 301 of 500\n",
      "building tree 302 of 500\n",
      "building tree 303 of 500\n",
      "building tree 304 of 500\n",
      "building tree 305 of 500\n",
      "building tree 306 of 500\n",
      "building tree 307 of 500\n",
      "building tree 308 of 500\n",
      "building tree 309 of 500\n",
      "building tree 310 of 500\n",
      "building tree 311 of 500\n",
      "building tree 312 of 500\n",
      "building tree 313 of 500\n",
      "building tree 314 of 500\n",
      "building tree 315 of 500\n",
      "building tree 316 of 500\n",
      "building tree 317 of 500\n",
      "building tree 318 of 500\n",
      "building tree 319 of 500\n",
      "building tree 320 of 500\n",
      "building tree 321 of 500\n",
      "building tree 322 of 500\n",
      "building tree 323 of 500\n",
      "building tree 324 of 500\n",
      "building tree 325 of 500\n",
      "building tree 326 of 500\n",
      "building tree 327 of 500\n",
      "building tree 328 of 500\n",
      "building tree 329 of 500\n",
      "building tree 330 of 500\n",
      "building tree 331 of 500\n",
      "building tree 332 of 500\n",
      "building tree 333 of 500\n",
      "building tree 334 of 500\n",
      "building tree 335 of 500\n",
      "building tree 336 of 500\n",
      "building tree 337 of 500\n",
      "building tree 338 of 500\n",
      "building tree 339 of 500\n",
      "building tree 340 of 500\n",
      "building tree 341 of 500\n"
     ]
    },
    {
     "name": "stdout",
     "output_type": "stream",
     "text": [
      "building tree 342 of 500\n",
      "building tree 343 of 500\n",
      "building tree 344 of 500\n",
      "building tree 345 of 500\n",
      "building tree 346 of 500\n",
      "building tree 347 of 500\n",
      "building tree 348 of 500\n",
      "building tree 349 of 500\n",
      "building tree 350 of 500\n",
      "building tree 351 of 500\n",
      "building tree 352 of 500\n",
      "building tree 353 of 500\n",
      "building tree 354 of 500\n",
      "building tree 355 of 500\n",
      "building tree 356 of 500\n",
      "building tree 357 of 500\n",
      "building tree 358 of 500\n",
      "building tree 359 of 500\n",
      "building tree 360 of 500\n",
      "building tree 361 of 500\n",
      "building tree 362 of 500\n",
      "building tree 363 of 500\n",
      "building tree 364 of 500\n",
      "building tree 365 of 500\n",
      "building tree 366 of 500\n",
      "building tree 367 of 500\n",
      "building tree 368 of 500\n",
      "building tree 369 of 500\n",
      "building tree 370 of 500\n",
      "building tree 371 of 500\n",
      "building tree 372 of 500\n",
      "building tree 373 of 500\n",
      "building tree 374 of 500\n",
      "building tree 375 of 500\n",
      "building tree 376 of 500\n",
      "building tree 377 of 500\n",
      "building tree 378 of 500\n",
      "building tree 379 of 500\n",
      "building tree 380 of 500\n",
      "building tree 381 of 500\n",
      "building tree 382 of 500\n",
      "building tree 383 of 500\n",
      "building tree 384 of 500\n",
      "building tree 385 of 500\n",
      "building tree 386 of 500\n",
      "building tree 387 of 500\n",
      "building tree 388 of 500\n",
      "building tree 389 of 500\n",
      "building tree 390 of 500\n",
      "building tree 391 of 500\n",
      "building tree 392 of 500\n",
      "building tree 393 of 500\n",
      "building tree 394 of 500\n",
      "building tree 395 of 500\n",
      "building tree 396 of 500\n",
      "building tree 397 of 500\n",
      "building tree 398 of 500\n",
      "building tree 399 of 500\n",
      "building tree 400 of 500\n",
      "building tree 401 of 500\n",
      "building tree 402 of 500\n",
      "building tree 403 of 500\n",
      "building tree 404 of 500\n",
      "building tree 405 of 500\n",
      "building tree 406 of 500\n",
      "building tree 407 of 500\n",
      "building tree 408 of 500\n",
      "building tree 409 of 500\n",
      "building tree 410 of 500\n",
      "building tree 411 of 500\n",
      "building tree 412 of 500\n",
      "building tree 413 of 500\n",
      "building tree 414 of 500\n",
      "building tree 415 of 500\n",
      "building tree 416 of 500\n",
      "building tree 417 of 500\n",
      "building tree 418 of 500\n",
      "building tree 419 of 500\n",
      "building tree 420 of 500\n",
      "building tree 421 of 500\n",
      "building tree 422 of 500\n",
      "building tree 423 of 500\n",
      "building tree 424 of 500\n",
      "building tree 425 of 500\n",
      "building tree 426 of 500\n",
      "building tree 427 of 500\n",
      "building tree 428 of 500\n",
      "building tree 429 of 500\n",
      "building tree 430 of 500\n",
      "building tree 431 of 500\n",
      "building tree 432 of 500\n",
      "building tree 433 of 500\n",
      "building tree 434 of 500\n",
      "building tree 435 of 500\n",
      "building tree 436 of 500\n",
      "building tree 437 of 500\n",
      "building tree 438 of 500\n",
      "building tree 439 of 500\n",
      "building tree 440 of 500\n",
      "building tree 441 of 500\n",
      "building tree 442 of 500\n",
      "building tree 443 of 500\n",
      "building tree 444 of 500\n",
      "building tree 445 of 500\n",
      "building tree 446 of 500\n",
      "building tree 447 of 500\n",
      "building tree 448 of 500\n",
      "building tree 449 of 500\n",
      "building tree 450 of 500\n",
      "building tree 451 of 500\n",
      "building tree 452 of 500\n",
      "building tree 453 of 500\n",
      "building tree 454 of 500\n",
      "building tree 455 of 500\n",
      "building tree 456 of 500\n",
      "building tree 457 of 500\n",
      "building tree 458 of 500\n",
      "building tree 459 of 500\n",
      "building tree 460 of 500\n",
      "building tree 461 of 500\n",
      "building tree 462 of 500\n",
      "building tree 463 of 500\n",
      "building tree 464 of 500\n",
      "building tree 465 of 500\n",
      "building tree 466 of 500\n",
      "building tree 467 of 500\n",
      "building tree 468 of 500\n",
      "building tree 469 of 500\n",
      "building tree 470 of 500\n",
      "building tree 471 of 500\n",
      "building tree 472 of 500\n",
      "building tree 473 of 500\n",
      "building tree 474 of 500\n",
      "building tree 475 of 500\n",
      "building tree 476 of 500\n",
      "building tree 477 of 500\n",
      "building tree 478 of 500\n",
      "building tree 479 of 500\n",
      "building tree 480 of 500\n",
      "building tree 481 of 500\n",
      "building tree 482 of 500\n",
      "building tree 483 of 500\n",
      "building tree 484 of 500\n",
      "building tree 485 of 500\n",
      "building tree 486 of 500\n",
      "building tree 487 of 500\n",
      "building tree 488 of 500\n",
      "building tree 489 of 500\n",
      "building tree 490 of 500\n",
      "building tree 491 of 500\n",
      "building tree 492 of 500\n",
      "building tree 493 of 500\n",
      "building tree 494 of 500\n",
      "building tree 495 of 500\n",
      "building tree 496 of 500\n",
      "building tree 497 of 500\n",
      "building tree 498 of 500\n",
      "building tree 499 of 500\n",
      "building tree 500 of 500\n"
     ]
    },
    {
     "name": "stderr",
     "output_type": "stream",
     "text": [
      "[Parallel(n_jobs=1)]: Done 500 out of 500 | elapsed:  3.3min finished\n",
      "[Parallel(n_jobs=1)]: Using backend SequentialBackend with 1 concurrent workers.\n",
      "[Parallel(n_jobs=1)]: Done   1 out of   1 | elapsed:    0.0s remaining:    0.0s\n",
      "[Parallel(n_jobs=1)]: Done   2 out of   2 | elapsed:    0.0s remaining:    0.0s\n",
      "[Parallel(n_jobs=1)]: Done   3 out of   3 | elapsed:    0.0s remaining:    0.0s\n",
      "[Parallel(n_jobs=1)]: Done   4 out of   4 | elapsed:    0.0s remaining:    0.0s\n",
      "[Parallel(n_jobs=1)]: Done   5 out of   5 | elapsed:    0.0s remaining:    0.0s\n",
      "[Parallel(n_jobs=1)]: Done   6 out of   6 | elapsed:    0.0s remaining:    0.0s\n",
      "[Parallel(n_jobs=1)]: Done   7 out of   7 | elapsed:    0.0s remaining:    0.0s\n",
      "[Parallel(n_jobs=1)]: Done   8 out of   8 | elapsed:    0.0s remaining:    0.0s\n",
      "[Parallel(n_jobs=1)]: Done   9 out of   9 | elapsed:    0.0s remaining:    0.0s\n"
     ]
    },
    {
     "name": "stdout",
     "output_type": "stream",
     "text": [
      "[0 1 1 ... 0 0 1]\n",
      "[1 1 1 ... 0 1 1]\n",
      "Accuracy: 0.8835777126099706\n",
      "Precision: 0.9252095422308189\n",
      "Recall: 0.8362470862470862\n",
      "f1-score: 0.8784817875726967\n",
      "ROC_AUC: 0.8838850543395997\n",
      "Specificity: 0.9315230224321134\n"
     ]
    },
    {
     "name": "stderr",
     "output_type": "stream",
     "text": [
      "[Parallel(n_jobs=1)]: Done 500 out of 500 | elapsed:    0.5s finished\n"
     ]
    }
   ],
   "source": [
    "rf_gini = RandomForestClassifier(n_estimators=500, bootstrap=False, criterion ='gini', random_state=42, verbose=10)\n",
    "# Train the model on the training data\n",
    "rf_gini.fit(X_train, Y_train)\n",
    "# Make predictions on the test data\n",
    "Y_pred_rf_gini = rf_gini.predict(X_test)\n",
    "print(Y_test)\n",
    "print(Y_pred_rf_gini)\n",
    "print(\"Accuracy:\", accuracy_score(Y_test, Y_pred_rf_gini))\n",
    "print(\"Precision:\",precision_score(Y_test, Y_pred_rf_gini))\n",
    "print(\"Recall:\",recall_score(Y_test, Y_pred_rf_gini))\n",
    "print(\"f1-score:\", f1_score(Y_test, Y_pred_rf_gini))\n",
    "print(\"ROC_AUC:\", roc_auc_score(Y_test, Y_pred_rf_gini))\n",
    "print(\"Specificity:\", specificity_score(Y_test, Y_pred_rf_gini))"
   ]
  },
  {
   "cell_type": "markdown",
   "id": "78de88b3",
   "metadata": {},
   "source": [
    "# KNN models"
   ]
  },
  {
   "cell_type": "markdown",
   "id": "1abc9c9d",
   "metadata": {},
   "source": [
    "### KNN model with Hyper-parameters tuning using GridSearch"
   ]
  },
  {
   "cell_type": "code",
   "execution_count": 78,
   "id": "83c64df7",
   "metadata": {},
   "outputs": [
    {
     "name": "stdout",
     "output_type": "stream",
     "text": [
      "Best Parameters: {'n_neighbors': 3, 'p': 1, 'weights': 'distance'}\n",
      "Best Model Accuracy: 0.567741935483871\n"
     ]
    }
   ],
   "source": [
    "from sklearn.neighbors import KNeighborsClassifier\n",
    "from sklearn.model_selection import GridSearchCV, train_test_split\n",
    "# Create a KNN classifier\n",
    "knn = KNeighborsClassifier()\n",
    "\n",
    "# Define the hyperparameter grid\n",
    "param_grid = {\n",
    "    'n_neighbors': [3, 5, 7],\n",
    "    'weights': ['uniform', 'distance'],\n",
    "    'p': [1, 2],\n",
    "}\n",
    "\n",
    "# Perform grid search with cross-validation\n",
    "grid_search = GridSearchCV(knn, param_grid, cv=5)\n",
    "grid_search.fit(X_train, Y_train)\n",
    "\n",
    "# Get the best hyperparameters and model\n",
    "best_params = grid_search.best_params_\n",
    "best_model = grid_search.best_estimator_\n",
    "\n",
    "# Make predictions on the test set using the best model\n",
    "y_pred = best_model.predict(X_test)\n",
    "\n",
    "# Calculate the accuracy of the best model\n",
    "accuracy = accuracy_score(Y_test, y_pred)\n",
    "print(\"Best Parameters:\", best_params)\n",
    "print(\"Best Model Accuracy:\", accuracy)\n"
   ]
  },
  {
   "cell_type": "markdown",
   "id": "e8358c5e",
   "metadata": {},
   "source": [
    "Apply the GridSearch's result"
   ]
  },
  {
   "cell_type": "code",
   "execution_count": 96,
   "id": "3136b9f9",
   "metadata": {},
   "outputs": [
    {
     "name": "stdout",
     "output_type": "stream",
     "text": [
      "[0 1 1 ... 0 0 1]\n",
      "[1 1 1 ... 1 1 1]\n",
      "Accuracy: 0.567741935483871\n",
      "Precision: 0.5385105028644176\n",
      "Recall: 0.986013986013986\n",
      "f1-score: 0.6965829559489503\n",
      "ROC_AUC: 0.5650258832077014\n",
      "Specificity: 0.14403778040141677\n"
     ]
    }
   ],
   "source": [
    "from sklearn.neighbors import KNeighborsClassifier\n",
    "from sklearn.model_selection import train_test_split\n",
    "from sklearn.metrics import accuracy_score\n",
    "\n",
    "# Create a KNN classifier\n",
    "knn = KNeighborsClassifier(n_neighbors=3,weights='distance',p=1)\n",
    "\n",
    "# Train the KNN classifier\n",
    "knn.fit(X_train, Y_train)\n",
    "\n",
    "# Make predictions on the test set\n",
    "Y_pred_knn = knn.predict(X_test)\n",
    "print(Y_test)\n",
    "print(Y_pred_knn)\n",
    "print(\"Accuracy:\", accuracy_score(Y_test, Y_pred_knn))\n",
    "print(\"Precision:\",precision_score(Y_test, Y_pred_knn))\n",
    "print(\"Recall:\",recall_score(Y_test, Y_pred_knn))\n",
    "print(\"f1-score:\", f1_score(Y_test, Y_pred_knn))\n",
    "print(\"ROC_AUC:\", roc_auc_score(Y_test, Y_pred_knn))\n",
    "print(\"Specificity:\", specificity_score(Y_test, Y_pred_knn))"
   ]
  },
  {
   "cell_type": "markdown",
   "id": "cc01c401",
   "metadata": {},
   "source": [
    "# Decision Tree Classifier"
   ]
  },
  {
   "cell_type": "code",
   "execution_count": 97,
   "id": "abdd65d8",
   "metadata": {},
   "outputs": [
    {
     "name": "stdout",
     "output_type": "stream",
     "text": [
      "[0 1 1 ... 0 0 1]\n",
      "[0 0 0 ... 1 0 0]\n",
      "Accuracy: 0.658357771260997\n",
      "Precision: 0.6452293094359515\n",
      "Recall: 0.7132867132867133\n",
      "f1-score: 0.6775532798228618\n",
      "ROC_AUC: 0.6580010898192716\n",
      "Specificity: 0.60271546635183\n"
     ]
    }
   ],
   "source": [
    "from sklearn.tree import DecisionTreeClassifier\n",
    "\n",
    "# Create a decision tree classifier\n",
    "decision_tree = DecisionTreeClassifier(\n",
    "    criterion='gini',  # or 'entropy'\n",
    "    max_depth=None,  # or an integer value\n",
    "    min_samples_split=2,  # or an integer value\n",
    "    min_samples_leaf=1,  # or an integer value\n",
    "    max_features=None,  # or a fraction or an integer value\n",
    "    min_impurity_decrease=0.0  # or a float value\n",
    ")\n",
    "\n",
    "# Train the decision tree classifier\n",
    "decision_tree.fit(X_train, Y_train)\n",
    "\n",
    "# Make predictions on the test set\n",
    "y_pred_dt = decision_tree.predict(X_test)\n",
    "print(Y_test)\n",
    "print(y_pred_dt)\n",
    "print(\"Accuracy:\", accuracy_score(Y_test, y_pred_dt))\n",
    "print(\"Precision:\",precision_score(Y_test, y_pred_dt))\n",
    "print(\"Recall:\",recall_score(Y_test, y_pred_dt))\n",
    "print(\"f1-score:\", f1_score(Y_test, y_pred_dt))\n",
    "print(\"ROC_AUC:\", roc_auc_score(Y_test, y_pred_dt))\n",
    "print(\"Specificity:\", specificity_score(Y_test, y_pred_dt))\n"
   ]
  },
  {
   "cell_type": "markdown",
   "id": "ed25522c",
   "metadata": {},
   "source": [
    "# Extra Trees Classifier"
   ]
  },
  {
   "cell_type": "markdown",
   "id": "fe0dd404",
   "metadata": {},
   "source": [
    "Extra Trees uses the entire feature set Unlike Random Forests, where a subset of features is randomly chosen for each split. This leads to a higher level of randomness and diversity among the trees. Extra Trees randomly selects a split point for each feature, rather than searching for the best split. "
   ]
  },
  {
   "cell_type": "code",
   "execution_count": 325,
   "id": "28bf9a90",
   "metadata": {},
   "outputs": [
    {
     "name": "stdout",
     "output_type": "stream",
     "text": [
      "[0 1 1 ... 0 0 1]\n",
      "[1 1 1 ... 0 0 1]\n",
      "Accuracy: 0.8196480938416423\n",
      "Precision: 0.8236331569664903\n",
      "Recall: 0.8164335664335665\n",
      "f1-score: 0.820017559262511\n",
      "ROC_AUC: 0.8196689673962402\n",
      "Specificity: 0.8229043683589138\n"
     ]
    }
   ],
   "source": [
    "from sklearn.ensemble import ExtraTreesClassifier\n",
    "\n",
    "# Create an Extra Trees Classifier model\n",
    "ExtraTrees = ExtraTreesClassifier(\n",
    "    n_estimators=30,\n",
    "    max_depth=None,\n",
    "    min_samples_split=2,\n",
    "    min_samples_leaf=1,\n",
    "    max_features='auto',\n",
    "    bootstrap=True,\n",
    "    random_state=60\n",
    ")\n",
    "\n",
    "# Train the model\n",
    "ExtraTrees.fit(X_train, Y_train)\n",
    "# Make predictions on the test set\n",
    "Y_pred_ExtraTrees = ExtraTrees.predict(X_test)\n",
    "print(Y_test)\n",
    "print(Y_pred_ExtraTrees)\n",
    "print(\"Accuracy:\", accuracy_score(Y_test, Y_pred_ExtraTrees))\n",
    "print(\"Precision:\",precision_score(Y_test, Y_pred_ExtraTrees))\n",
    "print(\"Recall:\",recall_score(Y_test, Y_pred_ExtraTrees))\n",
    "print(\"f1-score:\", f1_score(Y_test, Y_pred_ExtraTrees))\n",
    "print(\"ROC_AUC:\", roc_auc_score(Y_test, Y_pred_ExtraTrees))\n",
    "print(\"Specificity:\", specificity_score(Y_test, Y_pred_ExtraTrees))"
   ]
  },
  {
   "cell_type": "markdown",
   "id": "5f533d55",
   "metadata": {},
   "source": [
    "## Extra trees classifier with different hyperparameters "
   ]
  },
  {
   "cell_type": "code",
   "execution_count": 176,
   "id": "94a60baf",
   "metadata": {},
   "outputs": [
    {
     "name": "stdout",
     "output_type": "stream",
     "text": [
      "[0 1 1 ... 0 0 1]\n",
      "[1 1 1 ... 0 0 1]\n",
      "Accuracy: 0.9005865102639297\n",
      "Precision: 0.9371428571428572\n",
      "Recall: 0.8601398601398601\n",
      "f1-score: 0.8969917958067456\n",
      "ROC_AUC: 0.9008491508491507\n",
      "Specificity: 0.9415584415584416\n"
     ]
    }
   ],
   "source": [
    "from sklearn.ensemble import ExtraTreesClassifier\n",
    "\n",
    "# Create an Extra Trees Classifier model\n",
    "ExtraTrees = ExtraTreesClassifier(\n",
    "    n_estimators=1000,\n",
    "    max_depth=None,\n",
    "    min_samples_split=2,\n",
    "    min_samples_leaf=1,\n",
    "    max_features='auto',\n",
    "    bootstrap=False,\n",
    "    random_state=60\n",
    ")\n",
    "\n",
    "# Train the model\n",
    "ExtraTrees.fit(X_train, Y_train)\n",
    "# Make predictions on the test set\n",
    "Y_pred_ExtraTrees = ExtraTrees.predict(X_test)\n",
    "print(Y_test)\n",
    "print(Y_pred_ExtraTrees)\n",
    "print(\"Accuracy:\", accuracy_score(Y_test, Y_pred_ExtraTrees))\n",
    "print(\"Precision:\",precision_score(Y_test, Y_pred_ExtraTrees))\n",
    "print(\"Recall:\",recall_score(Y_test, Y_pred_ExtraTrees))\n",
    "print(\"f1-score:\", f1_score(Y_test, Y_pred_ExtraTrees))\n",
    "print(\"ROC_AUC:\", roc_auc_score(Y_test, Y_pred_ExtraTrees))\n",
    "print(\"Specificity:\", specificity_score(Y_test, Y_pred_ExtraTrees))"
   ]
  },
  {
   "cell_type": "markdown",
   "id": "7185ef65",
   "metadata": {},
   "source": [
    "# -xgboost- XGB Classifier"
   ]
  },
  {
   "cell_type": "markdown",
   "id": "668e8c23",
   "metadata": {},
   "source": [
    "**-xgboost- xgb**"
   ]
  },
  {
   "cell_type": "code",
   "execution_count": 99,
   "id": "a426f88a",
   "metadata": {},
   "outputs": [
    {
     "name": "stdout",
     "output_type": "stream",
     "text": [
      "[0 1 1 ... 0 0 1]\n",
      "[1 1 1 ... 0 0 1]\n",
      "Accuracy: 0.8428152492668621\n",
      "Precision: 0.8394706559263522\n",
      "Recall: 0.8502331002331003\n",
      "f1-score: 0.8448176027793862\n",
      "ROC_AUC: 0.842767081403445\n",
      "Specificity: 0.8353010625737899\n"
     ]
    }
   ],
   "source": [
    "import xgboost as xgb\n",
    "\n",
    "# Create an XGBoost Classifier model\n",
    "xgb = xgb.XGBClassifier(\n",
    "    max_depth=5,\n",
    "    learning_rate=0.1,\n",
    "    n_estimators=900,\n",
    "    subsample=0.8,\n",
    "    colsample_bytree=0.8,\n",
    "    reg_alpha=0.1,\n",
    "    reg_lambda=1.0\n",
    ")\n",
    "\n",
    "# Train the model\n",
    "xgb.fit(X_train, Y_train)\n",
    "\n",
    "# Make predictions on the test set\n",
    "y_pred_xgb = xgb.predict(X_test)\n",
    "print(Y_test)\n",
    "print(y_pred_xgb)\n",
    "print(\"Accuracy:\", accuracy_score(Y_test, y_pred_xgb))\n",
    "print(\"Precision:\",precision_score(Y_test, y_pred_xgb))\n",
    "print(\"Recall:\",recall_score(Y_test, y_pred_xgb))\n",
    "print(\"f1-score:\", f1_score(Y_test, y_pred_xgb))\n",
    "print(\"ROC_AUC:\", roc_auc_score(Y_test, y_pred_xgb))\n",
    "print(\"Specificity:\", specificity_score(Y_test, y_pred_xgb))\n"
   ]
  },
  {
   "cell_type": "markdown",
   "id": "a422a61d",
   "metadata": {},
   "source": [
    "**XGBClassifier which is a specific class within the XGBoost library that focuses on classification tasks**"
   ]
  },
  {
   "cell_type": "code",
   "execution_count": 147,
   "id": "1d92c58f",
   "metadata": {},
   "outputs": [
    {
     "name": "stdout",
     "output_type": "stream",
     "text": [
      "accuracy: 0.8087976539589443\n",
      "f1-score: 0.814033086138049\n",
      "Precision: 0.7972067039106145\n",
      "Recall: 0.8315850815850816\n",
      "balanced accuracy: 0.8086496836496837\n"
     ]
    }
   ],
   "source": [
    "from xgboost import XGBClassifier\n",
    "XGB = XGBClassifier(use_label_encoder=False, eval_metric='mlogloss')\n",
    "XGB.fit(X_train, Y_train)\n",
    "XGBClassifier(base_score=0.5, booster='gbtree', colsample_bylevel=1,\n",
    "              colsample_bynode=1, colsample_bytree=1, eval_metric='mlogloss',\n",
    "              gamma=0, gpu_id=-1, importance_type='gain',\n",
    "              interaction_constraints='', learning_rate=0.300000012,\n",
    "              max_delta_step=0, max_depth=6, min_child_weight=1,\n",
    "              monotone_constraints='()', n_estimators=500, n_jobs=16,\n",
    "              num_parallel_tree=1, objective='multi:softprob', random_state=0,\n",
    "              reg_alpha=0, reg_lambda=1, scale_pos_weight=None, subsample=1,\n",
    "              tree_method='exact', use_label_encoder=False,\n",
    "              validate_parameters=1, verbosity=None)\n",
    "Y_pred_XGB = XGB.predict(X_test)\n",
    "print(Y_test)\n",
    "print(Y_pred_XGB)\n",
    "print(\"Accuracy:\", accuracy_score(Y_test, Y_pred_XGB))\n",
    "print(\"Precision:\",precision_score(Y_test, Y_pred_XGB))\n",
    "print(\"Recall:\",recall_score(Y_test, Y_pred_XGB))\n",
    "print(\"f1-score:\", f1_score(Y_test, Y_pred_XGB))\n",
    "print(\"ROC_AUC:\", roc_auc_score(Y_test, Y_pred_XGB))\n",
    "print(\"Specificity:\", specificity_score(Y_test, Y_pred_XGB))"
   ]
  },
  {
   "cell_type": "markdown",
   "id": "15e39b7d",
   "metadata": {},
   "source": [
    "# Logistic Regression"
   ]
  },
  {
   "cell_type": "code",
   "execution_count": 100,
   "id": "7aa0d8bb",
   "metadata": {},
   "outputs": [
    {
     "name": "stdout",
     "output_type": "stream",
     "text": [
      "[0 1 1 ... 0 0 1]\n",
      "[1 1 0 ... 1 0 1]\n",
      "Accuracy: 0.5689149560117303\n",
      "Precision: 0.5726950354609929\n",
      "Recall: 0.5646853146853147\n",
      "f1-score: 0.5686619718309859\n",
      "ROC_AUC: 0.5689424212151485\n",
      "Specificity: 0.5731995277449823\n"
     ]
    }
   ],
   "source": [
    "from sklearn.linear_model import LogisticRegression\n",
    "# Create a logistic regression classifier\n",
    "logreg = LogisticRegression(\n",
    "    penalty=\"l2\",\n",
    "    C=1.0,\n",
    "    solver=\"lbfgs\",\n",
    "    max_iter=100\n",
    ")\n",
    "# Train the logistic regression classifier\n",
    "logreg.fit(X_train, Y_train)\n",
    "# Make predictions on the test set\n",
    "y_pred_logreg = logreg.predict(X_test)\n",
    "print(Y_test)\n",
    "print(y_pred_logreg)\n",
    "print(\"Accuracy:\", accuracy_score(Y_test, y_pred_logreg))\n",
    "print(\"Precision:\",precision_score(Y_test, y_pred_logreg))\n",
    "print(\"Recall:\",recall_score(Y_test, y_pred_logreg))\n",
    "print(\"f1-score:\", f1_score(Y_test, y_pred_logreg))\n",
    "print(\"ROC_AUC:\", roc_auc_score(Y_test, y_pred_logreg))\n",
    "print(\"Specificity:\", specificity_score(Y_test, y_pred_logreg))"
   ]
  },
  {
   "cell_type": "markdown",
   "id": "4040140e",
   "metadata": {},
   "source": [
    "# naive bayes"
   ]
  },
  {
   "cell_type": "markdown",
   "id": "f7f507aa",
   "metadata": {},
   "source": [
    "**Gaussian Naive Bayes**"
   ]
  },
  {
   "cell_type": "code",
   "execution_count": 101,
   "id": "1970fbe2",
   "metadata": {},
   "outputs": [
    {
     "name": "stdout",
     "output_type": "stream",
     "text": [
      "[0 1 1 ... 0 0 1]\n",
      "[1 1 0 ... 1 1 1]\n",
      "Accuracy: 0.5419354838709678\n",
      "Precision: 0.52697967764541\n",
      "Recall: 0.8764568764568764\n",
      "f1-score: 0.6582056892778994\n",
      "ROC_AUC: 0.5397632670359943\n",
      "Specificity: 0.20306965761511217\n"
     ]
    }
   ],
   "source": [
    "from sklearn.naive_bayes import GaussianNB\n",
    "GaussianNB = GaussianNB()\n",
    "# Train the model\n",
    "GaussianNB.fit(X_train, Y_train)\n",
    "# Make predictions on the test set\n",
    "y_pred_GaussianNB = GaussianNB.predict(X_test)\n",
    "print(Y_test)\n",
    "print(y_pred_GaussianNB)\n",
    "print(\"Accuracy:\", accuracy_score(Y_test, y_pred_GaussianNB))\n",
    "print(\"Precision:\",precision_score(Y_test, y_pred_GaussianNB))\n",
    "print(\"Recall:\",recall_score(Y_test, y_pred_GaussianNB))\n",
    "print(\"f1-score:\", f1_score(Y_test, y_pred_GaussianNB))\n",
    "print(\"ROC_AUC:\", roc_auc_score(Y_test, y_pred_GaussianNB))\n",
    "print(\"Specificity:\", specificity_score(Y_test, y_pred_GaussianNB))"
   ]
  },
  {
   "cell_type": "markdown",
   "id": "d641235b",
   "metadata": {},
   "source": [
    "**Bernoulli Naive Bayes**"
   ]
  },
  {
   "cell_type": "code",
   "execution_count": 102,
   "id": "3a09b57a",
   "metadata": {},
   "outputs": [
    {
     "name": "stdout",
     "output_type": "stream",
     "text": [
      "[0 1 1 ... 0 0 1]\n",
      "[1 1 0 ... 1 1 1]\n",
      "Accuracy: 0.5366568914956011\n",
      "Precision: 0.5365984930032293\n",
      "Recall: 0.581002331002331\n",
      "f1-score: 0.5579182988248461\n",
      "ROC_AUC: 0.5363689340962068\n",
      "Specificity: 0.49173553719008267\n"
     ]
    }
   ],
   "source": [
    "from sklearn.naive_bayes import BernoulliNB\n",
    "\n",
    "BernoulliNB = BernoulliNB(alpha=0.1)\n",
    "# Train the model\n",
    "BernoulliNB.fit(X_train, Y_train)\n",
    "# Make predictions on the test set\n",
    "y_pred_BernoulliNB = BernoulliNB.predict(X_test)\n",
    "print(Y_test)\n",
    "print(y_pred_BernoulliNB)\n",
    "print(\"Accuracy:\", accuracy_score(Y_test, y_pred_BernoulliNB))\n",
    "print(\"Precision:\",precision_score(Y_test, y_pred_BernoulliNB))\n",
    "print(\"Recall:\",recall_score(Y_test, y_pred_BernoulliNB))\n",
    "print(\"f1-score:\", f1_score(Y_test, y_pred_BernoulliNB))\n",
    "print(\"ROC_AUC:\", roc_auc_score(Y_test, y_pred_BernoulliNB))\n",
    "print(\"Specificity:\", specificity_score(Y_test, y_pred_BernoulliNB))"
   ]
  },
  {
   "cell_type": "markdown",
   "id": "3826b382",
   "metadata": {},
   "source": [
    "# Linear Discriminant Analysis"
   ]
  },
  {
   "cell_type": "code",
   "execution_count": 110,
   "id": "503c7f95",
   "metadata": {},
   "outputs": [
    {
     "name": "stdout",
     "output_type": "stream",
     "text": [
      "[0 1 1 ... 0 0 1]\n",
      "[1 1 0 ... 1 0 0]\n",
      "Accuracy: 0.5627565982404692\n",
      "Precision: 0.5652930934416716\n",
      "Recall: 0.5675990675990676\n",
      "f1-score: 0.566443733643501\n",
      "ROC_AUC: 0.5627251536342446\n",
      "Specificity: 0.5578512396694215\n"
     ]
    }
   ],
   "source": [
    "from sklearn.discriminant_analysis import LinearDiscriminantAnalysis\n",
    "\n",
    "# Create an LDA object\n",
    "lda = LinearDiscriminantAnalysis(\n",
    "    solver='eigen',\n",
    "    shrinkage=0.5,\n",
    "    n_components=1\n",
    ")\n",
    "\n",
    "# Fit the LDA model on the training data\n",
    "lda.fit(X_train, Y_train)\n",
    "\n",
    "# Transform the training and testing data\n",
    "X_train_lda = lda.transform(X_train)\n",
    "X_test_lda = lda.transform(X_test)\n",
    "\n",
    "# Use a classifier on the transformed data (e.g., Logistic Regression)\n",
    "clf = LogisticRegression()\n",
    "clf.fit(X_train_lda, Y_train)\n",
    "\n",
    "# Make predictions on the test set\n",
    "y_pred_lda = clf.predict(X_test_lda)\n",
    "\n",
    "print(Y_test)\n",
    "print(y_pred_lda)\n",
    "print(\"Accuracy:\", accuracy_score(Y_test, y_pred_lda))\n",
    "print(\"Precision:\",precision_score(Y_test, y_pred_lda))\n",
    "print(\"Recall:\",recall_score(Y_test, y_pred_lda))\n",
    "print(\"f1-score:\", f1_score(Y_test, y_pred_lda))\n",
    "print(\"ROC_AUC:\", roc_auc_score(Y_test, y_pred_lda))\n",
    "print(\"Specificity:\", specificity_score(Y_test, y_pred_lda))"
   ]
  },
  {
   "cell_type": "markdown",
   "id": "0ee23cfa",
   "metadata": {},
   "source": [
    "# Gradient Boosting Classifier"
   ]
  },
  {
   "cell_type": "code",
   "execution_count": 111,
   "id": "0cd87eee",
   "metadata": {},
   "outputs": [
    {
     "name": "stdout",
     "output_type": "stream",
     "text": [
      "[0 1 1 ... 0 0 1]\n",
      "[1 1 1 ... 1 1 1]\n",
      "Accuracy: 0.6824046920821114\n",
      "Precision: 0.6706199460916442\n",
      "Recall: 0.7249417249417249\n",
      "f1-score: 0.69672360683282\n",
      "ROC_AUC: 0.6821284775830231\n",
      "Specificity: 0.6393152302243211\n"
     ]
    }
   ],
   "source": [
    "from sklearn.ensemble import GradientBoostingClassifier\n",
    "\n",
    "\n",
    "# Create a Gradient Boosting Classifier\n",
    "GboostingC = GradientBoostingClassifier(n_estimators=100, learning_rate=0.1, max_depth=3)\n",
    "\n",
    "# Train the model\n",
    "GboostingC.fit(X_train, Y_train)\n",
    "\n",
    "# Make predictions on the test set\n",
    "y_pred_GboostingC = GboostingC.predict(X_test)\n",
    "\n",
    "print(Y_test)\n",
    "print(y_pred_GboostingC)\n",
    "print(\"Accuracy:\", accuracy_score(Y_test, y_pred_GboostingC))\n",
    "print(\"Precision:\",precision_score(Y_test, y_pred_GboostingC))\n",
    "print(\"Recall:\",recall_score(Y_test, y_pred_GboostingC))\n",
    "print(\"f1-score:\", f1_score(Y_test, y_pred_GboostingC))\n",
    "print(\"ROC_AUC:\", roc_auc_score(Y_test, y_pred_GboostingC))\n",
    "print(\"Specificity:\", specificity_score(Y_test, y_pred_GboostingC))"
   ]
  },
  {
   "cell_type": "markdown",
   "id": "93660aa3",
   "metadata": {},
   "source": [
    "# V. Deep Learning Models <a class=\"anchor\" id=\"dlm\"></a>\n",
    "**[Back to top](#toc)**"
   ]
  },
  {
   "cell_type": "markdown",
   "id": "6fe52714",
   "metadata": {},
   "source": [
    "**In this section we will use different deep learning models with different Hyperparameter setups which allow us to compare and evaluate the performance of these DL models with the previous ML models under different settings, by using different deep learning models, we can assess how well each model fits the data and determine which model is most suitable for our problem. Additionally, adjusting the hyperparameters of each model helps fine-tune their behavior and optimize their performance.**"
   ]
  },
  {
   "cell_type": "markdown",
   "id": "69631681",
   "metadata": {},
   "source": [
    "# MLP (multi-layer perceptron) "
   ]
  },
  {
   "cell_type": "markdown",
   "id": "21044ef9",
   "metadata": {},
   "source": [
    "**MLP with six hidden layers and specified parameters include the number of neurons in each hidden layer (hidden_layer_sizes), the activation function (activation) which is tanh, the optimizer (solver) which is adam, and the random seed (random_state=42).**"
   ]
  },
  {
   "cell_type": "code",
   "execution_count": 112,
   "id": "5036ce7f",
   "metadata": {},
   "outputs": [
    {
     "name": "stdout",
     "output_type": "stream",
     "text": [
      "[0 1 1 ... 0 0 1]\n",
      "[1 1 1 ... 1 0 0]\n",
      "Accuracy: 0.8302052785923754\n",
      "Precision: 0.808130081300813\n",
      "Recall: 0.8688811188811189\n",
      "f1-score: 0.8374052232518955\n",
      "ROC_AUC: 0.8299541367723186\n",
      "Specificity: 0.7910271546635183\n"
     ]
    }
   ],
   "source": [
    "from sklearn.neural_network import MLPClassifier\n",
    "# Create an MLP Classifier\n",
    "MLP = MLPClassifier(hidden_layer_sizes=(500, 450, 300, 250, 150, 80), activation='tanh', solver='adam', random_state=42)\n",
    "\n",
    "# Train the model\n",
    "MLP.fit(X_train, Y_train)\n",
    "\n",
    "# Make predictions on the test set\n",
    "y_pred_MLP = MLP.predict(X_test)\n",
    "\n",
    "# Evaluate the model\n",
    "print(Y_test)\n",
    "print(y_pred_MLP)\n",
    "print(\"Accuracy:\", accuracy_score(Y_test, y_pred_MLP))\n",
    "print(\"Precision:\",precision_score(Y_test, y_pred_MLP))\n",
    "print(\"Recall:\",recall_score(Y_test, y_pred_MLP))\n",
    "print(\"f1-score:\", f1_score(Y_test, y_pred_MLP))\n",
    "print(\"ROC_AUC:\", roc_auc_score(Y_test, y_pred_MLP))\n",
    "print(\"Specificity:\", specificity_score(Y_test, y_pred_MLP))\n"
   ]
  },
  {
   "cell_type": "markdown",
   "id": "6360efb3",
   "metadata": {},
   "source": [
    "# basic neural network "
   ]
  },
  {
   "cell_type": "markdown",
   "id": "1d955e3e",
   "metadata": {},
   "source": [
    "**This section we import the necessary modules and classes from TensorFlow and Keras to build and train our neural network models.**"
   ]
  },
  {
   "cell_type": "code",
   "execution_count": 301,
   "id": "7e595941",
   "metadata": {},
   "outputs": [],
   "source": [
    "from tensorflow import keras\n",
    "from tensorflow.keras import layers\n",
    "from keras import metrics\n",
    "from keras.models import Sequential\n",
    "from keras.layers import Dense"
   ]
  },
  {
   "cell_type": "markdown",
   "id": "752c55b8",
   "metadata": {},
   "source": [
    "### Splitting the data into training and validation sets "
   ]
  },
  {
   "cell_type": "markdown",
   "id": "1160596d",
   "metadata": {},
   "source": [
    "**then we split the training data (X_train and Y_train) into two sets: X_train_ and X_val for features, and Y_train_ and Y_val for labels. The test_size parameter is set to 0.2, indicating that 20% of the training data will be used for validation**"
   ]
  },
  {
   "cell_type": "code",
   "execution_count": 116,
   "id": "3892a6a2",
   "metadata": {},
   "outputs": [
    {
     "name": "stderr",
     "output_type": "stream",
     "text": [
      "2023-06-12 23:46:45.093713: I tensorflow/core/platform/cpu_feature_guard.cc:182] This TensorFlow binary is optimized to use available CPU instructions in performance-critical operations.\n",
      "To enable the following instructions: AVX2 AVX512F AVX512_VNNI FMA, in other operations, rebuild TensorFlow with the appropriate compiler flags.\n"
     ]
    },
    {
     "name": "stdout",
     "output_type": "stream",
     "text": [
      "(13640, 234)\n",
      "(10912, 234)\n"
     ]
    }
   ],
   "source": [
    "X_train_, X_val, Y_train_, Y_val = train_test_split(X_train, Y_train, test_size=0.2, random_state=42)\n",
    "print(X_train.shape)\n",
    "print(X_train_.shape)"
   ]
  },
  {
   "cell_type": "code",
   "execution_count": 198,
   "id": "57eddce0",
   "metadata": {},
   "outputs": [
    {
     "name": "stdout",
     "output_type": "stream",
     "text": [
      "Epoch 1/50\n",
      "341/341 [==============================] - 1s 2ms/step - loss: 0.6734 - accuracy: 0.5925 - val_loss: 0.6494 - val_accuracy: 0.6261\n",
      "Epoch 2/50\n",
      "341/341 [==============================] - 1s 1ms/step - loss: 0.6028 - accuracy: 0.6782 - val_loss: 0.6362 - val_accuracy: 0.6408\n",
      "Epoch 3/50\n",
      "341/341 [==============================] - 0s 1ms/step - loss: 0.5460 - accuracy: 0.7274 - val_loss: 0.6068 - val_accuracy: 0.6851\n",
      "Epoch 4/50\n",
      "341/341 [==============================] - 1s 1ms/step - loss: 0.4872 - accuracy: 0.7680 - val_loss: 0.5932 - val_accuracy: 0.6994\n",
      "Epoch 5/50\n",
      "341/341 [==============================] - 1s 1ms/step - loss: 0.4346 - accuracy: 0.8012 - val_loss: 0.5883 - val_accuracy: 0.7122\n",
      "Epoch 6/50\n",
      "341/341 [==============================] - 1s 1ms/step - loss: 0.3753 - accuracy: 0.8335 - val_loss: 0.6116 - val_accuracy: 0.7122\n",
      "Epoch 7/50\n",
      "341/341 [==============================] - 1s 2ms/step - loss: 0.3207 - accuracy: 0.8603 - val_loss: 0.5980 - val_accuracy: 0.7324\n",
      "Epoch 8/50\n",
      "341/341 [==============================] - 1s 1ms/step - loss: 0.2758 - accuracy: 0.8873 - val_loss: 0.5958 - val_accuracy: 0.7511\n",
      "Epoch 9/50\n",
      "341/341 [==============================] - 1s 1ms/step - loss: 0.2368 - accuracy: 0.9052 - val_loss: 0.6091 - val_accuracy: 0.7515\n",
      "Epoch 10/50\n",
      "341/341 [==============================] - 1s 1ms/step - loss: 0.1953 - accuracy: 0.9244 - val_loss: 0.6088 - val_accuracy: 0.7639\n",
      "Epoch 11/50\n",
      "341/341 [==============================] - 1s 1ms/step - loss: 0.1641 - accuracy: 0.9382 - val_loss: 0.6313 - val_accuracy: 0.7848\n",
      "Epoch 12/50\n",
      "341/341 [==============================] - 1s 2ms/step - loss: 0.1316 - accuracy: 0.9534 - val_loss: 0.6849 - val_accuracy: 0.7749\n",
      "Epoch 13/50\n",
      "341/341 [==============================] - 1s 1ms/step - loss: 0.1051 - accuracy: 0.9617 - val_loss: 0.7308 - val_accuracy: 0.7753\n",
      "Epoch 14/50\n",
      "341/341 [==============================] - 1s 2ms/step - loss: 0.0843 - accuracy: 0.9721 - val_loss: 0.8034 - val_accuracy: 0.7753\n",
      "Epoch 15/50\n",
      "341/341 [==============================] - 1s 2ms/step - loss: 0.0825 - accuracy: 0.9735 - val_loss: 0.7934 - val_accuracy: 0.7757\n",
      "Epoch 16/50\n",
      "341/341 [==============================] - 1s 1ms/step - loss: 0.0646 - accuracy: 0.9789 - val_loss: 0.8088 - val_accuracy: 0.7999\n",
      "Epoch 17/50\n",
      "341/341 [==============================] - 1s 2ms/step - loss: 0.0495 - accuracy: 0.9852 - val_loss: 0.8930 - val_accuracy: 0.7859\n",
      "Epoch 18/50\n",
      "341/341 [==============================] - 1s 2ms/step - loss: 0.0534 - accuracy: 0.9810 - val_loss: 1.0527 - val_accuracy: 0.7702\n",
      "Epoch 19/50\n",
      "341/341 [==============================] - 1s 2ms/step - loss: 0.0685 - accuracy: 0.9763 - val_loss: 1.0243 - val_accuracy: 0.7742\n",
      "Epoch 20/50\n",
      "341/341 [==============================] - 1s 2ms/step - loss: 0.0555 - accuracy: 0.9837 - val_loss: 1.0098 - val_accuracy: 0.7801\n",
      "Epoch 21/50\n",
      "341/341 [==============================] - 1s 2ms/step - loss: 0.0240 - accuracy: 0.9946 - val_loss: 1.0515 - val_accuracy: 0.7900\n",
      "Epoch 22/50\n",
      "341/341 [==============================] - 1s 2ms/step - loss: 0.0165 - accuracy: 0.9954 - val_loss: 1.0167 - val_accuracy: 0.7896\n",
      "Epoch 23/50\n",
      "341/341 [==============================] - 1s 2ms/step - loss: 0.0519 - accuracy: 0.9813 - val_loss: 1.1149 - val_accuracy: 0.7823\n",
      "Epoch 24/50\n",
      "341/341 [==============================] - 1s 2ms/step - loss: 0.0785 - accuracy: 0.9707 - val_loss: 1.0492 - val_accuracy: 0.7944\n",
      "Epoch 25/50\n",
      "341/341 [==============================] - 1s 2ms/step - loss: 0.0465 - accuracy: 0.9853 - val_loss: 1.0556 - val_accuracy: 0.7955\n",
      "Epoch 26/50\n",
      "341/341 [==============================] - 1s 2ms/step - loss: 0.0212 - accuracy: 0.9940 - val_loss: 1.1648 - val_accuracy: 0.7801\n",
      "Epoch 27/50\n",
      "341/341 [==============================] - 1s 2ms/step - loss: 0.0120 - accuracy: 0.9967 - val_loss: 1.1738 - val_accuracy: 0.7896\n",
      "Epoch 28/50\n",
      "341/341 [==============================] - 1s 2ms/step - loss: 0.0136 - accuracy: 0.9972 - val_loss: 1.2227 - val_accuracy: 0.7885\n",
      "Epoch 29/50\n",
      "341/341 [==============================] - 1s 2ms/step - loss: 0.0190 - accuracy: 0.9944 - val_loss: 1.2610 - val_accuracy: 0.7848\n",
      "Epoch 30/50\n",
      "341/341 [==============================] - 1s 2ms/step - loss: 0.1043 - accuracy: 0.9634 - val_loss: 1.2256 - val_accuracy: 0.7735\n",
      "Epoch 31/50\n",
      "341/341 [==============================] - 1s 1ms/step - loss: 0.0389 - accuracy: 0.9863 - val_loss: 1.1788 - val_accuracy: 0.7940\n",
      "Epoch 32/50\n",
      "341/341 [==============================] - 1s 2ms/step - loss: 0.0096 - accuracy: 0.9982 - val_loss: 1.1113 - val_accuracy: 0.8050\n",
      "Epoch 33/50\n",
      "341/341 [==============================] - 1s 2ms/step - loss: 0.0061 - accuracy: 0.9991 - val_loss: 1.1710 - val_accuracy: 0.7973\n",
      "Epoch 34/50\n",
      "341/341 [==============================] - 1s 2ms/step - loss: 0.0102 - accuracy: 0.9974 - val_loss: 1.3036 - val_accuracy: 0.7826\n",
      "Epoch 35/50\n",
      "341/341 [==============================] - 1s 1ms/step - loss: 0.0755 - accuracy: 0.9749 - val_loss: 1.3820 - val_accuracy: 0.7687\n",
      "Epoch 36/50\n",
      "341/341 [==============================] - 1s 2ms/step - loss: 0.0498 - accuracy: 0.9812 - val_loss: 1.3152 - val_accuracy: 0.7790\n",
      "Epoch 37/50\n",
      "341/341 [==============================] - 1s 2ms/step - loss: 0.0189 - accuracy: 0.9934 - val_loss: 1.1828 - val_accuracy: 0.7980\n",
      "Epoch 38/50\n",
      "341/341 [==============================] - 1s 2ms/step - loss: 0.0107 - accuracy: 0.9972 - val_loss: 1.2699 - val_accuracy: 0.7991\n",
      "Epoch 39/50\n",
      "341/341 [==============================] - 1s 2ms/step - loss: 0.0522 - accuracy: 0.9835 - val_loss: 1.2506 - val_accuracy: 0.7885\n",
      "Epoch 40/50\n",
      "341/341 [==============================] - 1s 2ms/step - loss: 0.0270 - accuracy: 0.9923 - val_loss: 1.2575 - val_accuracy: 0.7885\n",
      "Epoch 41/50\n",
      "341/341 [==============================] - 1s 2ms/step - loss: 0.0209 - accuracy: 0.9927 - val_loss: 1.2426 - val_accuracy: 0.7988\n",
      "Epoch 42/50\n",
      "341/341 [==============================] - 1s 2ms/step - loss: 0.0162 - accuracy: 0.9950 - val_loss: 1.2284 - val_accuracy: 0.8050\n",
      "Epoch 43/50\n",
      "341/341 [==============================] - 1s 2ms/step - loss: 0.0201 - accuracy: 0.9930 - val_loss: 1.2412 - val_accuracy: 0.7889\n",
      "Epoch 44/50\n",
      "341/341 [==============================] - 1s 2ms/step - loss: 0.0262 - accuracy: 0.9913 - val_loss: 1.2834 - val_accuracy: 0.8006\n",
      "Epoch 45/50\n",
      "341/341 [==============================] - 1s 2ms/step - loss: 0.0183 - accuracy: 0.9940 - val_loss: 1.3588 - val_accuracy: 0.7925\n",
      "Epoch 46/50\n",
      "341/341 [==============================] - 1s 1ms/step - loss: 0.0225 - accuracy: 0.9933 - val_loss: 1.3934 - val_accuracy: 0.7889\n",
      "Epoch 47/50\n",
      "341/341 [==============================] - 1s 2ms/step - loss: 0.0529 - accuracy: 0.9824 - val_loss: 1.3528 - val_accuracy: 0.7911\n",
      "Epoch 48/50\n",
      "341/341 [==============================] - 1s 1ms/step - loss: 0.0281 - accuracy: 0.9896 - val_loss: 1.3480 - val_accuracy: 0.7929\n",
      "Epoch 49/50\n",
      "341/341 [==============================] - 1s 2ms/step - loss: 0.0104 - accuracy: 0.9967 - val_loss: 1.2458 - val_accuracy: 0.8021\n",
      "Epoch 50/50\n",
      "341/341 [==============================] - 1s 1ms/step - loss: 0.0029 - accuracy: 0.9994 - val_loss: 1.2275 - val_accuracy: 0.8087\n",
      "107/107 [==============================] - 0s 998us/step - loss: 1.3726 - accuracy: 0.7921\n",
      "Test accuracy: 0.792\n"
     ]
    }
   ],
   "source": [
    "########################################## Define the model architecture\n",
    "model = keras.Sequential([\n",
    "    layers.Dense(128, activation='elu', input_shape=[234]),\n",
    "    layers.Dense(64, activation='elu'),\n",
    "    layers.Dense(32, activation='elu'),\n",
    "    layers.Dense(1, activation='sigmoid')\n",
    "])\n",
    "\n",
    "# Compile the model\n",
    "model.compile(optimizer='adam', loss='binary_crossentropy', metrics=['accuracy'])\n",
    "\n",
    "# Train the model\n",
    "model.fit(X_train_, Y_train_, epochs=50, batch_size=32, validation_data=(X_val, Y_val))\n",
    "\n",
    "# Evaluate the model on the test set\n",
    "test_loss, test_acc = model.evaluate(X_test, Y_test)\n",
    "print(f'Test accuracy: {test_acc:.3f}')"
   ]
  },
  {
   "cell_type": "markdown",
   "id": "151339cc",
   "metadata": {},
   "source": [
    "# DNN Models"
   ]
  },
  {
   "cell_type": "markdown",
   "id": "8d050b6d",
   "metadata": {},
   "source": [
    "**We need to define custom metrics for evaluate our model**"
   ]
  },
  {
   "cell_type": "code",
   "execution_count": 259,
   "id": "fcb18c49",
   "metadata": {},
   "outputs": [],
   "source": [
    "import keras.backend as K\n",
    "from keras.models import Sequential\n",
    "from keras.layers import Dense\n",
    "from sklearn.metrics import roc_auc_score\n",
    "import tensorflow as tf\n",
    "# Define custom metrics\n",
    "def precision(y_true, y_pred):\n",
    "    true_positives = K.sum(K.round(K.clip(y_true * y_pred, 0, 1)))\n",
    "    predicted_positives = K.sum(K.round(K.clip(y_pred, 0, 1)))\n",
    "    precision_value = true_positives / (predicted_positives + K.epsilon())\n",
    "    return precision_value\n",
    "\n",
    "def recall(y_true, y_pred):\n",
    "    true_positives = K.sum(K.round(K.clip(y_true * y_pred, 0, 1)))\n",
    "    possible_positives = K.sum(K.round(K.clip(y_true, 0, 1)))\n",
    "    recall_value = true_positives / (possible_positives + K.epsilon())\n",
    "    return recall_value\n",
    "\n",
    "def f1_score(y_true, y_pred):\n",
    "    precision_value = precision(y_true, y_pred)\n",
    "    recall_value = recall(y_true, y_pred)\n",
    "    f1_score_value = 2 * ((precision_value * recall_value) / (precision_value + recall_value + K.epsilon()))\n",
    "    return f1_score_value\n",
    "\n",
    "def specificity(y_true, y_pred):\n",
    "    true_negatives = K.sum(K.round(K.clip((1 - y_true) * (1 - y_pred), 0, 1)))\n",
    "    possible_negatives = K.sum(K.round(K.clip(1 - y_true, 0, 1)))\n",
    "    specificity_value = true_negatives / (possible_negatives + K.epsilon())\n",
    "    return specificity_value"
   ]
  },
  {
   "cell_type": "markdown",
   "id": "d5b82a99",
   "metadata": {},
   "source": [
    "## Create our DNN model"
   ]
  },
  {
   "cell_type": "markdown",
   "id": "1d485eca",
   "metadata": {},
   "source": [
    "**In this section, a DNN model is defined. The model is built by adding multiple Dense layers with different configurations. Each Dense layer represents a fully connected layer in the neural network. The specified activation functions, such as 'relu', determine the non-linear activation applied to the output of each layer.**"
   ]
  },
  {
   "cell_type": "code",
   "execution_count": 190,
   "id": "948590bf",
   "metadata": {},
   "outputs": [
    {
     "name": "stdout",
     "output_type": "stream",
     "text": [
      "Epoch 1/10\n",
      "427/427 [==============================] - 2s 3ms/step - loss: 0.6736 - accuracy: 0.5875 - precision: 0.5990 - recall: 0.5416 - f1_score: 0.5570 - roc_auc: 0.6271 - specificity: 0.6333\n",
      "Epoch 2/10\n",
      "427/427 [==============================] - 1s 3ms/step - loss: 0.6130 - accuracy: 0.6746 - precision: 0.6763 - recall: 0.6702 - f1_score: 0.6638 - roc_auc: 0.7337 - specificity: 0.6777\n",
      "Epoch 3/10\n",
      "427/427 [==============================] - 1s 3ms/step - loss: 0.5549 - accuracy: 0.7268 - precision: 0.7229 - recall: 0.7371 - f1_score: 0.7228 - roc_auc: 0.7984 - specificity: 0.7145\n",
      "Epoch 4/10\n",
      "427/427 [==============================] - 1s 3ms/step - loss: 0.5041 - accuracy: 0.7620 - precision: 0.7566 - recall: 0.7743 - f1_score: 0.7579 - roc_auc: 0.8433 - specificity: 0.7473\n",
      "Epoch 5/10\n",
      "427/427 [==============================] - 1s 3ms/step - loss: 0.4512 - accuracy: 0.7963 - precision: 0.7885 - recall: 0.8104 - f1_score: 0.7935 - roc_auc: 0.8795 - specificity: 0.7820\n",
      "Epoch 6/10\n",
      "427/427 [==============================] - 1s 3ms/step - loss: 0.4034 - accuracy: 0.8248 - precision: 0.8138 - recall: 0.8410 - f1_score: 0.8215 - roc_auc: 0.9056 - specificity: 0.8094\n",
      "Epoch 7/10\n",
      "427/427 [==============================] - 2s 4ms/step - loss: 0.3607 - accuracy: 0.8517 - precision: 0.8426 - recall: 0.8632 - f1_score: 0.8483 - roc_auc: 0.9249 - specificity: 0.8369\n",
      "Epoch 8/10\n",
      "427/427 [==============================] - 1s 3ms/step - loss: 0.3259 - accuracy: 0.8650 - precision: 0.8561 - recall: 0.8763 - f1_score: 0.8617 - roc_auc: 0.9405 - specificity: 0.8536\n",
      "Epoch 9/10\n",
      "427/427 [==============================] - 2s 4ms/step - loss: 0.2888 - accuracy: 0.8841 - precision: 0.8759 - recall: 0.8949 - f1_score: 0.8814 - roc_auc: 0.9546 - specificity: 0.8730\n",
      "Epoch 10/10\n",
      "427/427 [==============================] - 1s 3ms/step - loss: 0.2563 - accuracy: 0.9040 - precision: 0.8959 - recall: 0.9134 - f1_score: 0.9023 - roc_auc: 0.9637 - specificity: 0.8932\n",
      "107/107 [==============================] - 0s 2ms/step\n",
      "107/107 [==============================] - 1s 3ms/step - loss: 0.5640 - accuracy: 0.7724 - precision: 0.7597 - recall: 0.8106 - f1_score: 0.7783 - roc_auc: 0.8413 - specificity: 0.7397\n",
      "Test accuracy: 0.772\n",
      "Test precision: 0.760\n",
      "Test recall: 0.811\n",
      "Test F1-score: 0.778\n",
      "Test ROC-AUC: 0.841\n",
      "Test specificity: 0.740\n"
     ]
    }
   ],
   "source": [
    "# Create a DNN model\n",
    "DNN = Sequential()\n",
    "DNN.add(Dense(64, activation='relu', input_shape=(234,)))\n",
    "DNN.add(Dense(32, activation='relu'))\n",
    "DNN.add(Dense(1, activation='sigmoid'))\n",
    "\n",
    "# Compile the model with custom metrics\n",
    "DNN.compile(optimizer='adam', loss='binary_crossentropy', metrics=['accuracy', precision, recall, f1_score, roc_auc, specificity])\n",
    "\n",
    "# Train the model\n",
    "DNN.fit(X_train, Y_train, epochs=10, batch_size=32)\n",
    "\n",
    "# Make predictions on the test set\n",
    "Y_pred_DNN = DNN.predict(X_test)\n",
    "test_loss, test_acc, test_precision, test_recall, test_f1, test_roc_auc, test_specificity = DNN.evaluate(X_test, Y_test)\n",
    "print(f'Test accuracy: {test_acc:.3f}')\n",
    "print(f'Test precision: {test_precision:.3f}')\n",
    "print(f'Test recall: {test_recall:.3f}')\n",
    "print(f'Test F1-score: {test_f1:.3f}')\n",
    "print(f'Test ROC-AUC: {test_roc_auc:.3f}')\n",
    "print(f'Test specificity: {test_specificity:.3f}')\n"
   ]
  },
  {
   "cell_type": "markdown",
   "id": "7b98b7f2",
   "metadata": {},
   "source": [
    "## DNN with different layers"
   ]
  },
  {
   "cell_type": "code",
   "execution_count": 192,
   "id": "d8eaacf3",
   "metadata": {},
   "outputs": [
    {
     "name": "stdout",
     "output_type": "stream",
     "text": [
      "Epoch 1/10\n",
      "427/427 [==============================] - 2s 3ms/step - loss: 0.6706 - accuracy: 0.5836 - precision: 0.5957 - recall: 0.5382 - f1_score: 0.5470 - roc_auc: 0.6271 - specificity: 0.6312\n",
      "Epoch 2/10\n",
      "427/427 [==============================] - 1s 3ms/step - loss: 0.6065 - accuracy: 0.6735 - precision: 0.6739 - recall: 0.6686 - f1_score: 0.6603 - roc_auc: 0.7382 - specificity: 0.6746\n",
      "Epoch 3/10\n",
      "427/427 [==============================] - 1s 3ms/step - loss: 0.5253 - accuracy: 0.7435 - precision: 0.7448 - recall: 0.7417 - f1_score: 0.7350 - roc_auc: 0.8196 - specificity: 0.7416\n",
      "Epoch 4/10\n",
      "427/427 [==============================] - 1s 3ms/step - loss: 0.4347 - accuracy: 0.8000 - precision: 0.8020 - recall: 0.7960 - f1_score: 0.7926 - roc_auc: 0.8862 - specificity: 0.8037\n",
      "Epoch 5/10\n",
      "427/427 [==============================] - 1s 3ms/step - loss: 0.3590 - accuracy: 0.8458 - precision: 0.8492 - recall: 0.8432 - f1_score: 0.8412 - roc_auc: 0.9239 - specificity: 0.8479\n",
      "Epoch 6/10\n",
      "427/427 [==============================] - 1s 3ms/step - loss: 0.2903 - accuracy: 0.8778 - precision: 0.8853 - recall: 0.8709 - f1_score: 0.8737 - roc_auc: 0.9502 - specificity: 0.8822\n",
      "Epoch 7/10\n",
      "427/427 [==============================] - 1s 3ms/step - loss: 0.2390 - accuracy: 0.9021 - precision: 0.9039 - recall: 0.9011 - f1_score: 0.8987 - roc_auc: 0.9675 - specificity: 0.9037\n",
      "Epoch 8/10\n",
      "427/427 [==============================] - 2s 4ms/step - loss: 0.1989 - accuracy: 0.9179 - precision: 0.9218 - recall: 0.9133 - f1_score: 0.9144 - roc_auc: 0.9774 - specificity: 0.9213\n",
      "Epoch 9/10\n",
      "427/427 [==============================] - 1s 3ms/step - loss: 0.1701 - accuracy: 0.9317 - precision: 0.9326 - recall: 0.9316 - f1_score: 0.9294 - roc_auc: 0.9835 - specificity: 0.9303\n",
      "Epoch 10/10\n",
      "427/427 [==============================] - 1s 3ms/step - loss: 0.1426 - accuracy: 0.9444 - precision: 0.9445 - recall: 0.9445 - f1_score: 0.9426 - roc_auc: 0.9882 - specificity: 0.9448\n",
      "107/107 [==============================] - 0s 1ms/step\n",
      "107/107 [==============================] - 1s 3ms/step - loss: 0.7214 - accuracy: 0.7812 - precision: 0.7447 - recall: 0.8645 - f1_score: 0.7955 - roc_auc: 0.8628 - specificity: 0.6949\n",
      "Test accuracy: 0.781\n",
      "Test precision: 0.745\n",
      "Test recall: 0.864\n",
      "Test F1-score: 0.795\n",
      "Test ROC-AUC: 0.863\n",
      "Test specificity: 0.695\n"
     ]
    }
   ],
   "source": [
    "# Create a DNN model\n",
    "DNN = Sequential()\n",
    "DNN.add(Dense(128, activation='relu', input_shape=(234,)))\n",
    "DNN.add(Dense(64, activation='relu'))\n",
    "DNN.add(Dense(32, activation='relu'))\n",
    "DNN.add(Dense(16, activation='relu'))\n",
    "DNN.add(Dense(1, activation='sigmoid'))\n",
    "\n",
    "# Compile the model with custom metrics\n",
    "DNN.compile(optimizer='adam', loss='binary_crossentropy', metrics=['accuracy', precision, recall, f1_score, roc_auc, specificity])\n",
    "\n",
    "# Train the model\n",
    "DNN.fit(X_train, Y_train, epochs=10, batch_size=32)\n",
    "\n",
    "# Make predictions on the test set\n",
    "Y_pred_DNN = DNN.predict(X_test)\n",
    "test_loss, test_acc, test_precision, test_recall, test_f1, test_roc_auc, test_specificity = DNN.evaluate(X_test, Y_test)\n",
    "print(f'Test accuracy: {test_acc:.3f}')\n",
    "print(f'Test precision: {test_precision:.3f}')\n",
    "print(f'Test recall: {test_recall:.3f}')\n",
    "print(f'Test F1-score: {test_f1:.3f}')\n",
    "print(f'Test ROC-AUC: {test_roc_auc:.3f}')\n",
    "print(f'Test specificity: {test_specificity:.3f}')\n"
   ]
  },
  {
   "cell_type": "markdown",
   "id": "51abaa6b",
   "metadata": {},
   "source": [
    "### DNN model with different Dense layers"
   ]
  },
  {
   "cell_type": "code",
   "execution_count": 193,
   "id": "a21b4bda",
   "metadata": {},
   "outputs": [
    {
     "name": "stdout",
     "output_type": "stream",
     "text": [
      "Epoch 1/10\n",
      "427/427 [==============================] - 2s 3ms/step - loss: 0.6700 - accuracy: 0.5935 - precision: 0.6029 - recall: 0.5593 - f1_score: 0.5506 - roc_auc: 0.6373 - specificity: 0.6293\n",
      "Epoch 2/10\n",
      "427/427 [==============================] - 1s 3ms/step - loss: 0.5951 - accuracy: 0.6848 - precision: 0.6865 - recall: 0.6861 - f1_score: 0.6748 - roc_auc: 0.7524 - specificity: 0.6787\n",
      "Epoch 3/10\n",
      "427/427 [==============================] - 2s 4ms/step - loss: 0.5043 - accuracy: 0.7572 - precision: 0.7517 - recall: 0.7765 - f1_score: 0.7550 - roc_auc: 0.8406 - specificity: 0.7356\n",
      "Epoch 4/10\n",
      "427/427 [==============================] - 2s 4ms/step - loss: 0.4031 - accuracy: 0.8189 - precision: 0.8158 - recall: 0.8289 - f1_score: 0.8152 - roc_auc: 0.9036 - specificity: 0.8118\n",
      "Epoch 5/10\n",
      "427/427 [==============================] - 1s 3ms/step - loss: 0.3210 - accuracy: 0.8629 - precision: 0.8585 - recall: 0.8711 - f1_score: 0.8592 - roc_auc: 0.9400 - specificity: 0.8562\n",
      "Epoch 6/10\n",
      "427/427 [==============================] - 1s 3ms/step - loss: 0.2479 - accuracy: 0.8974 - precision: 0.8933 - recall: 0.9040 - f1_score: 0.8949 - roc_auc: 0.9649 - specificity: 0.8904\n",
      "Epoch 7/10\n",
      "427/427 [==============================] - 1s 3ms/step - loss: 0.1954 - accuracy: 0.9189 - precision: 0.9153 - recall: 0.9251 - f1_score: 0.9172 - roc_auc: 0.9782 - specificity: 0.9139\n",
      "Epoch 8/10\n",
      "427/427 [==============================] - 2s 4ms/step - loss: 0.1595 - accuracy: 0.9349 - precision: 0.9334 - recall: 0.9373 - f1_score: 0.9327 - roc_auc: 0.9857 - specificity: 0.9335\n",
      "Epoch 9/10\n",
      "427/427 [==============================] - 1s 3ms/step - loss: 0.1335 - accuracy: 0.9495 - precision: 0.9502 - recall: 0.9482 - f1_score: 0.9473 - roc_auc: 0.9897 - specificity: 0.9497\n",
      "Epoch 10/10\n",
      "427/427 [==============================] - 1s 3ms/step - loss: 0.1213 - accuracy: 0.9526 - precision: 0.9518 - recall: 0.9535 - f1_score: 0.9508 - roc_auc: 0.9915 - specificity: 0.9522\n",
      "107/107 [==============================] - 0s 904us/step\n",
      "107/107 [==============================] - 1s 3ms/step - loss: 0.6666 - accuracy: 0.8170 - precision: 0.8010 - recall: 0.8505 - f1_score: 0.8206 - roc_auc: 0.8821 - specificity: 0.7830\n",
      "Test accuracy: 0.817\n",
      "Test precision: 0.801\n",
      "Test recall: 0.850\n",
      "Test F1-score: 0.821\n",
      "Test ROC-AUC: 0.882\n",
      "Test specificity: 0.783\n"
     ]
    }
   ],
   "source": [
    "\n",
    "# Create a DNN model\n",
    "DNN = Sequential()\n",
    "DNN.add(Dense(256, activation='relu', input_shape=(234,)))\n",
    "DNN.add(Dense(128, activation='relu'))\n",
    "DNN.add(Dense(64, activation='relu'))\n",
    "DNN.add(Dense(32, activation='relu'))\n",
    "DNN.add(Dense(1, activation='sigmoid'))\n",
    "\n",
    "# Compile the model with custom metrics\n",
    "DNN.compile(optimizer='adam', loss='binary_crossentropy', metrics=['accuracy', precision, recall, f1_score, roc_auc, specificity])\n",
    "\n",
    "# Train the model\n",
    "DNN.fit(X_train, Y_train, epochs=10, batch_size=32)\n",
    "\n",
    "# Make predictions on the test set\n",
    "Y_pred_DNN = DNN.predict(X_test)\n",
    "test_loss, test_acc, test_precision, test_recall, test_f1, test_roc_auc, test_specificity = DNN.evaluate(X_test, Y_test)\n",
    "print(f'Test accuracy: {test_acc:.3f}')\n",
    "print(f'Test precision: {test_precision:.3f}')\n",
    "print(f'Test recall: {test_recall:.3f}')\n",
    "print(f'Test F1-score: {test_f1:.3f}')\n",
    "print(f'Test ROC-AUC: {test_roc_auc:.3f}')\n",
    "print(f'Test specificity: {test_specificity:.3f}')\n"
   ]
  },
  {
   "cell_type": "markdown",
   "id": "233a1050",
   "metadata": {},
   "source": [
    "### Another DNN Configuration"
   ]
  },
  {
   "cell_type": "code",
   "execution_count": 194,
   "id": "37f8b9b5",
   "metadata": {},
   "outputs": [
    {
     "name": "stdout",
     "output_type": "stream",
     "text": [
      "Epoch 1/10\n",
      "427/427 [==============================] - 3s 5ms/step - loss: 0.6722 - accuracy: 0.5855 - precision: 0.5908 - recall: 0.5488 - f1_score: 0.5442 - roc_auc: 0.6300 - specificity: 0.6241\n",
      "Epoch 2/10\n",
      "427/427 [==============================] - 2s 5ms/step - loss: 0.6081 - accuracy: 0.6723 - precision: 0.6808 - recall: 0.6658 - f1_score: 0.6593 - roc_auc: 0.7429 - specificity: 0.6814\n",
      "Epoch 3/10\n",
      "427/427 [==============================] - 2s 5ms/step - loss: 0.5266 - accuracy: 0.7363 - precision: 0.7448 - recall: 0.7251 - f1_score: 0.7232 - roc_auc: 0.8223 - specificity: 0.7470\n",
      "Epoch 4/10\n",
      "427/427 [==============================] - 2s 5ms/step - loss: 0.4348 - accuracy: 0.8021 - precision: 0.8187 - recall: 0.7779 - f1_score: 0.7904 - roc_auc: 0.8859 - specificity: 0.8277\n",
      "Epoch 5/10\n",
      "427/427 [==============================] - 2s 5ms/step - loss: 0.3527 - accuracy: 0.8428 - precision: 0.8507 - recall: 0.8301 - f1_score: 0.8350 - roc_auc: 0.9244 - specificity: 0.8534\n",
      "Epoch 6/10\n",
      "427/427 [==============================] - 2s 5ms/step - loss: 0.2822 - accuracy: 0.8783 - precision: 0.8825 - recall: 0.8750 - f1_score: 0.8741 - roc_auc: 0.9536 - specificity: 0.8815\n",
      "Epoch 7/10\n",
      "427/427 [==============================] - 2s 5ms/step - loss: 0.2258 - accuracy: 0.9053 - precision: 0.9100 - recall: 0.9010 - f1_score: 0.9018 - roc_auc: 0.9710 - specificity: 0.9100\n",
      "Epoch 8/10\n",
      "427/427 [==============================] - 2s 5ms/step - loss: 0.1783 - accuracy: 0.9298 - precision: 0.9322 - recall: 0.9279 - f1_score: 0.9270 - roc_auc: 0.9825 - specificity: 0.9329\n",
      "Epoch 9/10\n",
      "427/427 [==============================] - 2s 5ms/step - loss: 0.1514 - accuracy: 0.9402 - precision: 0.9417 - recall: 0.9395 - f1_score: 0.9379 - roc_auc: 0.9873 - specificity: 0.9413\n",
      "Epoch 10/10\n",
      "427/427 [==============================] - 2s 5ms/step - loss: 0.1273 - accuracy: 0.9511 - precision: 0.9535 - recall: 0.9487 - f1_score: 0.9491 - roc_auc: 0.9917 - specificity: 0.9544\n",
      "107/107 [==============================] - 0s 2ms/step\n",
      "107/107 [==============================] - 1s 4ms/step - loss: 0.7123 - accuracy: 0.7962 - precision: 0.7577 - recall: 0.8728 - f1_score: 0.8078 - roc_auc: 0.8776 - specificity: 0.7175\n",
      "Test accuracy: 0.796\n",
      "Test precision: 0.758\n",
      "Test recall: 0.873\n",
      "Test F1-score: 0.808\n",
      "Test ROC-AUC: 0.878\n",
      "Test specificity: 0.717\n"
     ]
    }
   ],
   "source": [
    "# Create a DNN model\n",
    "DNN = Sequential()\n",
    "DNN.add(Dense(512, activation='relu', input_shape=(234,)))\n",
    "DNN.add(Dense(256, activation='relu'))\n",
    "DNN.add(Dense(128, activation='relu'))\n",
    "DNN.add(Dense(64, activation='relu'))\n",
    "DNN.add(Dense(32, activation='relu'))\n",
    "DNN.add(Dense(1, activation='sigmoid'))\n",
    "\n",
    "# Compile the model with custom metrics\n",
    "DNN.compile(optimizer='adam', loss='binary_crossentropy', metrics=['accuracy', precision, recall, f1_score, roc_auc, specificity])\n",
    "\n",
    "# Train the model\n",
    "DNN.fit(X_train, Y_train, epochs=10, batch_size=32)\n",
    "\n",
    "# Make predictions on the test set\n",
    "Y_pred_DNN = DNN.predict(X_test)\n",
    "test_loss, test_acc, test_precision, test_recall, test_f1, test_roc_auc, test_specificity = DNN.evaluate(X_test, Y_test)\n",
    "print(f'Test accuracy: {test_acc:.3f}')\n",
    "print(f'Test precision: {test_precision:.3f}')\n",
    "print(f'Test recall: {test_recall:.3f}')\n",
    "print(f'Test F1-score: {test_f1:.3f}')\n",
    "print(f'Test ROC-AUC: {test_roc_auc:.3f}')\n",
    "print(f'Test specificity: {test_specificity:.3f}')\n"
   ]
  },
  {
   "cell_type": "markdown",
   "id": "7b1f38a2",
   "metadata": {},
   "source": [
    "### DNN with another layer config"
   ]
  },
  {
   "cell_type": "code",
   "execution_count": 195,
   "id": "a6ae74b5",
   "metadata": {},
   "outputs": [
    {
     "name": "stdout",
     "output_type": "stream",
     "text": [
      "Epoch 1/10\n",
      "427/427 [==============================] - 3s 5ms/step - loss: 0.6768 - accuracy: 0.5750 - precision: 0.5719 - recall: 0.5928 - f1_score: 0.5522 - roc_auc: 0.6058 - specificity: 0.5559\n",
      "Epoch 2/10\n",
      "427/427 [==============================] - 2s 5ms/step - loss: 0.6330 - accuracy: 0.6408 - precision: 0.6447 - recall: 0.6408 - f1_score: 0.6268 - roc_auc: 0.7085 - specificity: 0.6389\n",
      "Epoch 3/10\n",
      "427/427 [==============================] - 2s 5ms/step - loss: 0.5600 - accuracy: 0.7089 - precision: 0.7166 - recall: 0.7065 - f1_score: 0.7002 - roc_auc: 0.7908 - specificity: 0.7134\n",
      "Epoch 4/10\n",
      "427/427 [==============================] - 2s 5ms/step - loss: 0.4783 - accuracy: 0.7676 - precision: 0.7703 - recall: 0.7661 - f1_score: 0.7591 - roc_auc: 0.8575 - specificity: 0.7681\n",
      "Epoch 5/10\n",
      "427/427 [==============================] - 2s 5ms/step - loss: 0.3913 - accuracy: 0.8151 - precision: 0.8221 - recall: 0.8082 - f1_score: 0.8074 - roc_auc: 0.9080 - specificity: 0.8227\n",
      "Epoch 6/10\n",
      "427/427 [==============================] - 2s 5ms/step - loss: 0.3206 - accuracy: 0.8556 - precision: 0.8582 - recall: 0.8542 - f1_score: 0.8508 - roc_auc: 0.9386 - specificity: 0.8570\n",
      "Epoch 7/10\n",
      "427/427 [==============================] - 2s 5ms/step - loss: 0.2595 - accuracy: 0.8858 - precision: 0.8881 - recall: 0.8835 - f1_score: 0.8812 - roc_auc: 0.9619 - specificity: 0.8899\n",
      "Epoch 8/10\n",
      "427/427 [==============================] - 2s 5ms/step - loss: 0.2077 - accuracy: 0.9127 - precision: 0.9112 - recall: 0.9149 - f1_score: 0.9096 - roc_auc: 0.9742 - specificity: 0.9092\n",
      "Epoch 9/10\n",
      "427/427 [==============================] - 2s 5ms/step - loss: 0.1747 - accuracy: 0.9303 - precision: 0.9273 - recall: 0.9334 - f1_score: 0.9278 - roc_auc: 0.9831 - specificity: 0.9269\n",
      "Epoch 10/10\n",
      "427/427 [==============================] - 2s 5ms/step - loss: 0.1382 - accuracy: 0.9446 - precision: 0.9412 - recall: 0.9484 - f1_score: 0.9425 - roc_auc: 0.9893 - specificity: 0.9410\n",
      "107/107 [==============================] - 0s 2ms/step\n",
      "107/107 [==============================] - 1s 3ms/step - loss: 0.5884 - accuracy: 0.8196 - precision: 0.8120 - recall: 0.8396 - f1_score: 0.8213 - roc_auc: 0.8872 - specificity: 0.7995\n",
      "Test accuracy: 0.820\n",
      "Test precision: 0.812\n",
      "Test recall: 0.840\n",
      "Test F1-score: 0.821\n",
      "Test ROC-AUC: 0.887\n",
      "Test specificity: 0.800\n"
     ]
    }
   ],
   "source": [
    "# Create a DNN model\n",
    "DNN = Sequential()\n",
    "DNN.add(Dense(512, activation='relu', input_shape=(234,)))\n",
    "DNN.add(Dense(256, activation='relu'))\n",
    "DNN.add(Dense(128, activation='relu'))\n",
    "DNN.add(Dense(64, activation='relu'))\n",
    "DNN.add(Dense(32, activation='relu'))\n",
    "DNN.add(Dense(16, activation='relu'))\n",
    "DNN.add(Dense(8, activation='relu'))\n",
    "DNN.add(Dense(1, activation='sigmoid'))\n",
    "\n",
    "# Compile the model with custom metrics\n",
    "DNN.compile(optimizer='adam', loss='binary_crossentropy', metrics=['accuracy', precision, recall, f1_score, roc_auc, specificity])\n",
    "\n",
    "# Train the model\n",
    "DNN.fit(X_train, Y_train, epochs=10, batch_size=32)\n",
    "\n",
    "# Make predictions on the test set\n",
    "Y_pred_DNN = DNN.predict(X_test)\n",
    "test_loss, test_acc, test_precision, test_recall, test_f1, test_roc_auc, test_specificity = DNN.evaluate(X_test, Y_test)\n",
    "print(f'Test accuracy: {test_acc:.3f}')\n",
    "print(f'Test precision: {test_precision:.3f}')\n",
    "print(f'Test recall: {test_recall:.3f}')\n",
    "print(f'Test F1-score: {test_f1:.3f}')\n",
    "print(f'Test ROC-AUC: {test_roc_auc:.3f}')\n",
    "print(f'Test specificity: {test_specificity:.3f}')\n",
    "\n"
   ]
  },
  {
   "cell_type": "markdown",
   "id": "6bf21e1e",
   "metadata": {},
   "source": [
    "### another config (fair result in DNN)"
   ]
  },
  {
   "cell_type": "code",
   "execution_count": 196,
   "id": "026e266c",
   "metadata": {},
   "outputs": [
    {
     "name": "stdout",
     "output_type": "stream",
     "text": [
      "Epoch 1/30\n",
      "427/427 [==============================] - 3s 5ms/step - loss: 0.6824 - accuracy: 0.5578 - precision: 0.5672 - recall: 0.5071 - f1_score: 0.4946 - roc_auc: 0.5960 - specificity: 0.6128\n",
      "Epoch 2/30\n",
      "427/427 [==============================] - 2s 5ms/step - loss: 0.6394 - accuracy: 0.6406 - precision: 0.6430 - recall: 0.6279 - f1_score: 0.6219 - roc_auc: 0.6935 - specificity: 0.6492\n",
      "Epoch 3/30\n",
      "427/427 [==============================] - 2s 5ms/step - loss: 0.5687 - accuracy: 0.7041 - precision: 0.7255 - recall: 0.6675 - f1_score: 0.6826 - roc_auc: 0.7862 - specificity: 0.7388\n",
      "Epoch 4/30\n",
      "427/427 [==============================] - 2s 5ms/step - loss: 0.4864 - accuracy: 0.7658 - precision: 0.7818 - recall: 0.7445 - f1_score: 0.7534 - roc_auc: 0.8544 - specificity: 0.7866\n",
      "Epoch 5/30\n",
      "427/427 [==============================] - 2s 5ms/step - loss: 0.4010 - accuracy: 0.8161 - precision: 0.8362 - recall: 0.7903 - f1_score: 0.8047 - roc_auc: 0.9042 - specificity: 0.8413\n",
      "Epoch 6/30\n",
      "427/427 [==============================] - 2s 5ms/step - loss: 0.3355 - accuracy: 0.8523 - precision: 0.8628 - recall: 0.8393 - f1_score: 0.8449 - roc_auc: 0.9340 - specificity: 0.8641\n",
      "Epoch 7/30\n",
      "427/427 [==============================] - 2s 5ms/step - loss: 0.2693 - accuracy: 0.8817 - precision: 0.8847 - recall: 0.8822 - f1_score: 0.8792 - roc_auc: 0.9576 - specificity: 0.8799\n",
      "Epoch 8/30\n",
      "427/427 [==============================] - 2s 5ms/step - loss: 0.2101 - accuracy: 0.9118 - precision: 0.9172 - recall: 0.9078 - f1_score: 0.9092 - roc_auc: 0.9751 - specificity: 0.9148\n",
      "Epoch 9/30\n",
      "427/427 [==============================] - 2s 5ms/step - loss: 0.1789 - accuracy: 0.9274 - precision: 0.9271 - recall: 0.9273 - f1_score: 0.9240 - roc_auc: 0.9816 - specificity: 0.9273\n",
      "Epoch 10/30\n",
      "427/427 [==============================] - 2s 5ms/step - loss: 0.1450 - accuracy: 0.9411 - precision: 0.9413 - recall: 0.9405 - f1_score: 0.9385 - roc_auc: 0.9883 - specificity: 0.9396\n",
      "Epoch 11/30\n",
      "427/427 [==============================] - 2s 6ms/step - loss: 0.1208 - accuracy: 0.9529 - precision: 0.9515 - recall: 0.9560 - f1_score: 0.9518 - roc_auc: 0.9923 - specificity: 0.9506\n",
      "Epoch 12/30\n",
      "427/427 [==============================] - 2s 5ms/step - loss: 0.0949 - accuracy: 0.9641 - precision: 0.9648 - recall: 0.9636 - f1_score: 0.9631 - roc_auc: 0.9942 - specificity: 0.9654\n",
      "Epoch 13/30\n",
      "427/427 [==============================] - 3s 8ms/step - loss: 0.0909 - accuracy: 0.9649 - precision: 0.9649 - recall: 0.9656 - f1_score: 0.9639 - roc_auc: 0.9957 - specificity: 0.9633\n",
      "Epoch 14/30\n",
      "427/427 [==============================] - 3s 7ms/step - loss: 0.0774 - accuracy: 0.9694 - precision: 0.9703 - recall: 0.9682 - f1_score: 0.9680 - roc_auc: 0.9969 - specificity: 0.9698\n",
      "Epoch 15/30\n",
      "427/427 [==============================] - 3s 6ms/step - loss: 0.0703 - accuracy: 0.9735 - precision: 0.9740 - recall: 0.9726 - f1_score: 0.9723 - roc_auc: 0.9971 - specificity: 0.9737\n",
      "Epoch 16/30\n",
      "427/427 [==============================] - 2s 5ms/step - loss: 0.0664 - accuracy: 0.9770 - precision: 0.9776 - recall: 0.9760 - f1_score: 0.9760 - roc_auc: 0.9973 - specificity: 0.9778\n",
      "Epoch 17/30\n",
      "427/427 [==============================] - 2s 6ms/step - loss: 0.0612 - accuracy: 0.9765 - precision: 0.9778 - recall: 0.9758 - f1_score: 0.9759 - roc_auc: 0.9979 - specificity: 0.9777\n",
      "Epoch 18/30\n",
      "427/427 [==============================] - 2s 5ms/step - loss: 0.0595 - accuracy: 0.9776 - precision: 0.9799 - recall: 0.9752 - f1_score: 0.9767 - roc_auc: 0.9977 - specificity: 0.9799\n",
      "Epoch 19/30\n",
      "427/427 [==============================] - 2s 5ms/step - loss: 0.0591 - accuracy: 0.9783 - precision: 0.9786 - recall: 0.9788 - f1_score: 0.9778 - roc_auc: 0.9978 - specificity: 0.9779\n",
      "Epoch 20/30\n",
      "427/427 [==============================] - 2s 5ms/step - loss: 0.0499 - accuracy: 0.9817 - precision: 0.9825 - recall: 0.9807 - f1_score: 0.9809 - roc_auc: 0.9986 - specificity: 0.9828\n",
      "Epoch 21/30\n",
      "427/427 [==============================] - 2s 5ms/step - loss: 0.0452 - accuracy: 0.9835 - precision: 0.9824 - recall: 0.9847 - f1_score: 0.9830 - roc_auc: 0.9989 - specificity: 0.9821\n",
      "Epoch 22/30\n",
      "427/427 [==============================] - 2s 5ms/step - loss: 0.0455 - accuracy: 0.9848 - precision: 0.9875 - recall: 0.9826 - f1_score: 0.9845 - roc_auc: 0.9987 - specificity: 0.9866\n",
      "Epoch 23/30\n",
      "427/427 [==============================] - 2s 5ms/step - loss: 0.0464 - accuracy: 0.9839 - precision: 0.9829 - recall: 0.9841 - f1_score: 0.9829 - roc_auc: 0.9986 - specificity: 0.9838\n",
      "Epoch 24/30\n",
      "427/427 [==============================] - 2s 5ms/step - loss: 0.0475 - accuracy: 0.9848 - precision: 0.9833 - recall: 0.9864 - f1_score: 0.9843 - roc_auc: 0.9983 - specificity: 0.9841\n",
      "Epoch 25/30\n",
      "427/427 [==============================] - 2s 5ms/step - loss: 0.0371 - accuracy: 0.9865 - precision: 0.9879 - recall: 0.9861 - f1_score: 0.9865 - roc_auc: 0.9991 - specificity: 0.9874\n",
      "Epoch 26/30\n",
      "427/427 [==============================] - 2s 5ms/step - loss: 0.0372 - accuracy: 0.9871 - precision: 0.9877 - recall: 0.9858 - f1_score: 0.9862 - roc_auc: 0.9991 - specificity: 0.9876\n",
      "Epoch 27/30\n",
      "427/427 [==============================] - 2s 6ms/step - loss: 0.0391 - accuracy: 0.9857 - precision: 0.9870 - recall: 0.9853 - f1_score: 0.9856 - roc_auc: 0.9990 - specificity: 0.9869\n",
      "Epoch 28/30\n",
      "427/427 [==============================] - 3s 6ms/step - loss: 0.0409 - accuracy: 0.9849 - precision: 0.9861 - recall: 0.9835 - f1_score: 0.9843 - roc_auc: 0.9990 - specificity: 0.9861\n",
      "Epoch 29/30\n",
      "427/427 [==============================] - 2s 5ms/step - loss: 0.0374 - accuracy: 0.9866 - precision: 0.9876 - recall: 0.9860 - f1_score: 0.9863 - roc_auc: 0.9993 - specificity: 0.9871\n",
      "Epoch 30/30\n",
      "427/427 [==============================] - 2s 6ms/step - loss: 0.0333 - accuracy: 0.9881 - precision: 0.9868 - recall: 0.9890 - f1_score: 0.9875 - roc_auc: 0.9995 - specificity: 0.9876\n",
      "107/107 [==============================] - 0s 1ms/step\n",
      "107/107 [==============================] - 1s 3ms/step - loss: 0.9112 - accuracy: 0.8443 - precision: 0.8322 - recall: 0.8661 - f1_score: 0.8449 - roc_auc: 0.9083 - specificity: 0.8205\n",
      "Test accuracy: 0.844\n",
      "Test precision: 0.832\n",
      "Test recall: 0.866\n",
      "Test F1-score: 0.845\n",
      "Test ROC-AUC: 0.908\n",
      "Test specificity: 0.820\n"
     ]
    }
   ],
   "source": [
    "# Create a DNN model with deffirect layer and different epochs (30)\n",
    "DNN = Sequential()\n",
    "DNN.add(Dense(512, activation='relu', input_shape=(234,)))\n",
    "DNN.add(Dense(256, activation='relu'))\n",
    "DNN.add(Dense(128, activation='relu'))\n",
    "DNN.add(Dense(64, activation='relu'))\n",
    "DNN.add(Dense(32, activation='relu'))\n",
    "DNN.add(Dense(32, activation='relu'))\n",
    "DNN.add(Dense(16, activation='relu'))\n",
    "DNN.add(Dense(8, activation='relu'))\n",
    "DNN.add(Dense(1, activation='sigmoid'))\n",
    "\n",
    "# Compile the model with custom metrics\n",
    "DNN.compile(optimizer='adam', loss='binary_crossentropy', metrics=['accuracy', precision, recall, f1_score, roc_auc, specificity])\n",
    "\n",
    "# Train the model\n",
    "DNN.fit(X_train, Y_train, epochs=30, batch_size=32)\n",
    "\n",
    "# Make predictions on the test set\n",
    "Y_pred_DNN = DNN.predict(X_test)\n",
    "test_loss, test_acc, test_precision, test_recall, test_f1, test_roc_auc, test_specificity = DNN.evaluate(X_test, Y_test)\n",
    "print(f'Test accuracy: {test_acc:.3f}')\n",
    "print(f'Test precision: {test_precision:.3f}')\n",
    "print(f'Test recall: {test_recall:.3f}')\n",
    "print(f'Test F1-score: {test_f1:.3f}')\n",
    "print(f'Test ROC-AUC: {test_roc_auc:.3f}')\n",
    "print(f'Test specificity: {test_specificity:.3f}')"
   ]
  },
  {
   "cell_type": "markdown",
   "id": "10a4a055",
   "metadata": {},
   "source": [
    "### Other DNN configuration which we use after each layer an dropout"
   ]
  },
  {
   "cell_type": "markdown",
   "id": "9deca133",
   "metadata": {},
   "source": [
    "**I have added dropout layers with a dropout rate of 0.1 after each dense layer to reduce overfitting. Additionally, the learning rate of the Adam optimizer has been reduced to 0.00001 to fine-tune the optimization process.**"
   ]
  },
  {
   "cell_type": "code",
   "execution_count": 263,
   "id": "784de231",
   "metadata": {},
   "outputs": [
    {
     "name": "stdout",
     "output_type": "stream",
     "text": [
      "Epoch 1/100\n",
      "427/427 [==============================] - 6s 11ms/step - loss: 0.6932 - accuracy: 0.5052 - precision: 0.5061 - recall: 0.4208 - f1_score: 0.4467 - specificity: 0.5914\n",
      "Epoch 2/100\n",
      "427/427 [==============================] - 5s 11ms/step - loss: 0.6925 - accuracy: 0.5028 - precision: 0.5035 - recall: 0.3304 - f1_score: 0.3900 - specificity: 0.6741\n",
      "Epoch 3/100\n",
      "427/427 [==============================] - 5s 11ms/step - loss: 0.6921 - accuracy: 0.5180 - precision: 0.5241 - recall: 0.3432 - f1_score: 0.4053 - specificity: 0.6940\n",
      "Epoch 4/100\n",
      "427/427 [==============================] - 5s 12ms/step - loss: 0.6914 - accuracy: 0.5173 - precision: 0.5282 - recall: 0.3152 - f1_score: 0.3851 - specificity: 0.7205\n",
      "Epoch 5/100\n",
      "427/427 [==============================] - 5s 11ms/step - loss: 0.6901 - accuracy: 0.5273 - precision: 0.5489 - recall: 0.2978 - f1_score: 0.3771 - specificity: 0.7528\n",
      "Epoch 6/100\n",
      "427/427 [==============================] - 5s 12ms/step - loss: 0.6872 - accuracy: 0.5413 - precision: 0.5708 - recall: 0.3136 - f1_score: 0.3942 - specificity: 0.7658\n",
      "Epoch 7/100\n",
      "427/427 [==============================] - 5s 11ms/step - loss: 0.6854 - accuracy: 0.5477 - precision: 0.5748 - recall: 0.3582 - f1_score: 0.4287 - specificity: 0.7345\n",
      "Epoch 8/100\n",
      "427/427 [==============================] - 5s 11ms/step - loss: 0.6798 - accuracy: 0.5649 - precision: 0.6021 - recall: 0.3800 - f1_score: 0.4531 - specificity: 0.7456\n",
      "Epoch 9/100\n",
      "427/427 [==============================] - 5s 11ms/step - loss: 0.6773 - accuracy: 0.5719 - precision: 0.6050 - recall: 0.4269 - f1_score: 0.4881 - specificity: 0.7235\n",
      "Epoch 10/100\n",
      "427/427 [==============================] - 5s 12ms/step - loss: 0.6699 - accuracy: 0.5908 - precision: 0.6228 - recall: 0.4592 - f1_score: 0.5186 - specificity: 0.7211\n",
      "Epoch 11/100\n",
      "427/427 [==============================] - 5s 11ms/step - loss: 0.6622 - accuracy: 0.6008 - precision: 0.6285 - recall: 0.4870 - f1_score: 0.5384 - specificity: 0.7141\n",
      "Epoch 12/100\n",
      "427/427 [==============================] - 6s 13ms/step - loss: 0.6566 - accuracy: 0.6150 - precision: 0.6365 - recall: 0.5273 - f1_score: 0.5668 - specificity: 0.6980\n",
      "Epoch 13/100\n",
      "427/427 [==============================] - 6s 13ms/step - loss: 0.6524 - accuracy: 0.6251 - precision: 0.6478 - recall: 0.5551 - f1_score: 0.5872 - specificity: 0.6983\n",
      "Epoch 14/100\n",
      "427/427 [==============================] - 5s 12ms/step - loss: 0.6417 - accuracy: 0.6411 - precision: 0.6663 - recall: 0.5695 - f1_score: 0.6050 - specificity: 0.7152\n",
      "Epoch 15/100\n",
      "427/427 [==============================] - 5s 11ms/step - loss: 0.6362 - accuracy: 0.6494 - precision: 0.6676 - recall: 0.5972 - f1_score: 0.6206 - specificity: 0.7027\n",
      "Epoch 16/100\n",
      "427/427 [==============================] - 5s 12ms/step - loss: 0.6254 - accuracy: 0.6617 - precision: 0.6813 - recall: 0.6137 - f1_score: 0.6366 - specificity: 0.7120\n",
      "Epoch 17/100\n",
      "427/427 [==============================] - 5s 11ms/step - loss: 0.6169 - accuracy: 0.6732 - precision: 0.6926 - recall: 0.6221 - f1_score: 0.6472 - specificity: 0.7243\n",
      "Epoch 18/100\n",
      "427/427 [==============================] - 5s 12ms/step - loss: 0.6071 - accuracy: 0.6831 - precision: 0.6960 - recall: 0.6461 - f1_score: 0.6624 - specificity: 0.7201\n",
      "Epoch 19/100\n",
      "427/427 [==============================] - 5s 11ms/step - loss: 0.5986 - accuracy: 0.6942 - precision: 0.7055 - recall: 0.6630 - f1_score: 0.6755 - specificity: 0.7229\n",
      "Epoch 20/100\n",
      "427/427 [==============================] - 5s 11ms/step - loss: 0.5872 - accuracy: 0.6995 - precision: 0.7178 - recall: 0.6621 - f1_score: 0.6810 - specificity: 0.7364\n",
      "Epoch 21/100\n",
      "427/427 [==============================] - 5s 11ms/step - loss: 0.5786 - accuracy: 0.7064 - precision: 0.7234 - recall: 0.6720 - f1_score: 0.6874 - specificity: 0.7425\n",
      "Epoch 22/100\n",
      "427/427 [==============================] - 5s 12ms/step - loss: 0.5669 - accuracy: 0.7202 - precision: 0.7360 - recall: 0.6858 - f1_score: 0.7031 - specificity: 0.7533\n",
      "Epoch 23/100\n",
      "427/427 [==============================] - 5s 12ms/step - loss: 0.5588 - accuracy: 0.7237 - precision: 0.7422 - recall: 0.6825 - f1_score: 0.7032 - specificity: 0.7626\n",
      "Epoch 24/100\n",
      "427/427 [==============================] - 5s 12ms/step - loss: 0.5452 - accuracy: 0.7370 - precision: 0.7567 - recall: 0.7011 - f1_score: 0.7205 - specificity: 0.7736\n",
      "Epoch 25/100\n",
      "427/427 [==============================] - 5s 12ms/step - loss: 0.5321 - accuracy: 0.7454 - precision: 0.7612 - recall: 0.7131 - f1_score: 0.7290 - specificity: 0.7770\n",
      "Epoch 26/100\n",
      "427/427 [==============================] - 5s 12ms/step - loss: 0.5237 - accuracy: 0.7553 - precision: 0.7726 - recall: 0.7229 - f1_score: 0.7395 - specificity: 0.7861\n",
      "Epoch 27/100\n",
      "427/427 [==============================] - 5s 11ms/step - loss: 0.5126 - accuracy: 0.7549 - precision: 0.7722 - recall: 0.7209 - f1_score: 0.7388 - specificity: 0.7894\n",
      "Epoch 28/100\n",
      "427/427 [==============================] - 5s 12ms/step - loss: 0.5054 - accuracy: 0.7630 - precision: 0.7827 - recall: 0.7339 - f1_score: 0.7510 - specificity: 0.7932\n",
      "Epoch 29/100\n",
      "427/427 [==============================] - 5s 12ms/step - loss: 0.4920 - accuracy: 0.7717 - precision: 0.7942 - recall: 0.7332 - f1_score: 0.7555 - specificity: 0.8098\n",
      "Epoch 30/100\n",
      "427/427 [==============================] - 5s 11ms/step - loss: 0.4784 - accuracy: 0.7837 - precision: 0.8059 - recall: 0.7494 - f1_score: 0.7706 - specificity: 0.8171\n",
      "Epoch 31/100\n",
      "427/427 [==============================] - 5s 11ms/step - loss: 0.4724 - accuracy: 0.7884 - precision: 0.8038 - recall: 0.7630 - f1_score: 0.7771 - specificity: 0.8164\n",
      "Epoch 32/100\n",
      "427/427 [==============================] - 5s 12ms/step - loss: 0.4637 - accuracy: 0.7922 - precision: 0.8142 - recall: 0.7559 - f1_score: 0.7780 - specificity: 0.8281\n",
      "Epoch 33/100\n",
      "427/427 [==============================] - 5s 12ms/step - loss: 0.4481 - accuracy: 0.8030 - precision: 0.8203 - recall: 0.7735 - f1_score: 0.7899 - specificity: 0.8304\n",
      "Epoch 34/100\n",
      "427/427 [==============================] - 5s 13ms/step - loss: 0.4412 - accuracy: 0.8089 - precision: 0.8292 - recall: 0.7798 - f1_score: 0.7976 - specificity: 0.8397\n",
      "Epoch 35/100\n",
      "427/427 [==============================] - 6s 13ms/step - loss: 0.4290 - accuracy: 0.8163 - precision: 0.8362 - recall: 0.7859 - f1_score: 0.8051 - specificity: 0.8477\n",
      "Epoch 36/100\n",
      "427/427 [==============================] - 5s 12ms/step - loss: 0.4161 - accuracy: 0.8235 - precision: 0.8402 - recall: 0.7963 - f1_score: 0.8123 - specificity: 0.8491\n",
      "Epoch 37/100\n",
      "427/427 [==============================] - 5s 12ms/step - loss: 0.4046 - accuracy: 0.8273 - precision: 0.8459 - recall: 0.8010 - f1_score: 0.8177 - specificity: 0.8521\n",
      "Epoch 38/100\n",
      "427/427 [==============================] - 5s 12ms/step - loss: 0.3985 - accuracy: 0.8316 - precision: 0.8581 - recall: 0.7966 - f1_score: 0.8204 - specificity: 0.8658\n",
      "Epoch 39/100\n",
      "427/427 [==============================] - 5s 12ms/step - loss: 0.3943 - accuracy: 0.8338 - precision: 0.8528 - recall: 0.8053 - f1_score: 0.8226 - specificity: 0.8638\n",
      "Epoch 40/100\n",
      "427/427 [==============================] - 5s 12ms/step - loss: 0.3801 - accuracy: 0.8455 - precision: 0.8645 - recall: 0.8201 - f1_score: 0.8367 - specificity: 0.8708\n",
      "Epoch 41/100\n",
      "427/427 [==============================] - 6s 13ms/step - loss: 0.3667 - accuracy: 0.8531 - precision: 0.8689 - recall: 0.8325 - f1_score: 0.8457 - specificity: 0.8732\n",
      "Epoch 42/100\n",
      "427/427 [==============================] - 5s 13ms/step - loss: 0.3480 - accuracy: 0.8620 - precision: 0.8744 - recall: 0.8407 - f1_score: 0.8535 - specificity: 0.8810\n",
      "Epoch 43/100\n",
      "427/427 [==============================] - 5s 12ms/step - loss: 0.3534 - accuracy: 0.8590 - precision: 0.8757 - recall: 0.8372 - f1_score: 0.8514 - specificity: 0.8817\n",
      "Epoch 44/100\n",
      "427/427 [==============================] - 5s 11ms/step - loss: 0.3361 - accuracy: 0.8686 - precision: 0.8810 - recall: 0.8528 - f1_score: 0.8626 - specificity: 0.8852\n",
      "Epoch 45/100\n",
      "427/427 [==============================] - 5s 12ms/step - loss: 0.3346 - accuracy: 0.8710 - precision: 0.8811 - recall: 0.8561 - f1_score: 0.8651 - specificity: 0.8838\n",
      "Epoch 46/100\n",
      "427/427 [==============================] - 5s 11ms/step - loss: 0.3234 - accuracy: 0.8743 - precision: 0.8911 - recall: 0.8536 - f1_score: 0.8683 - specificity: 0.8949\n",
      "Epoch 47/100\n",
      "427/427 [==============================] - 5s 12ms/step - loss: 0.3149 - accuracy: 0.8830 - precision: 0.8971 - recall: 0.8653 - f1_score: 0.8771 - specificity: 0.8988\n",
      "Epoch 48/100\n",
      "427/427 [==============================] - 5s 12ms/step - loss: 0.3055 - accuracy: 0.8870 - precision: 0.8984 - recall: 0.8732 - f1_score: 0.8822 - specificity: 0.8998\n",
      "Epoch 49/100\n",
      "427/427 [==============================] - 5s 12ms/step - loss: 0.2998 - accuracy: 0.8911 - precision: 0.9040 - recall: 0.8761 - f1_score: 0.8861 - specificity: 0.9054\n",
      "Epoch 50/100\n",
      "427/427 [==============================] - 5s 12ms/step - loss: 0.2876 - accuracy: 0.8957 - precision: 0.9081 - recall: 0.8831 - f1_score: 0.8922 - specificity: 0.9082\n",
      "Epoch 51/100\n",
      "427/427 [==============================] - 5s 11ms/step - loss: 0.2823 - accuracy: 0.9010 - precision: 0.9091 - recall: 0.8921 - f1_score: 0.8970 - specificity: 0.9099\n",
      "Epoch 52/100\n",
      "427/427 [==============================] - 5s 11ms/step - loss: 0.2779 - accuracy: 0.9017 - precision: 0.9110 - recall: 0.8899 - f1_score: 0.8972 - specificity: 0.9156\n",
      "Epoch 53/100\n",
      "427/427 [==============================] - 5s 11ms/step - loss: 0.2638 - accuracy: 0.9089 - precision: 0.9185 - recall: 0.9001 - f1_score: 0.9060 - specificity: 0.9177\n",
      "Epoch 54/100\n",
      "427/427 [==============================] - 5s 12ms/step - loss: 0.2570 - accuracy: 0.9092 - precision: 0.9185 - recall: 0.8963 - f1_score: 0.9043 - specificity: 0.9210\n",
      "Epoch 55/100\n",
      "427/427 [==============================] - 5s 11ms/step - loss: 0.2510 - accuracy: 0.9136 - precision: 0.9236 - recall: 0.9035 - f1_score: 0.9105 - specificity: 0.9231\n",
      "Epoch 56/100\n",
      "427/427 [==============================] - 5s 12ms/step - loss: 0.2431 - accuracy: 0.9166 - precision: 0.9240 - recall: 0.9084 - f1_score: 0.9134 - specificity: 0.9240\n",
      "Epoch 57/100\n",
      "427/427 [==============================] - 5s 12ms/step - loss: 0.2376 - accuracy: 0.9199 - precision: 0.9294 - recall: 0.9083 - f1_score: 0.9163 - specificity: 0.9317\n",
      "Epoch 58/100\n",
      "427/427 [==============================] - 5s 13ms/step - loss: 0.2299 - accuracy: 0.9239 - precision: 0.9298 - recall: 0.9178 - f1_score: 0.9214 - specificity: 0.9299\n",
      "Epoch 59/100\n",
      "427/427 [==============================] - 5s 12ms/step - loss: 0.2369 - accuracy: 0.9218 - precision: 0.9263 - recall: 0.9171 - f1_score: 0.9192 - specificity: 0.9275\n",
      "Epoch 60/100\n",
      "427/427 [==============================] - 5s 12ms/step - loss: 0.2213 - accuracy: 0.9260 - precision: 0.9303 - recall: 0.9213 - f1_score: 0.9232 - specificity: 0.9313\n",
      "Epoch 61/100\n",
      "427/427 [==============================] - 5s 12ms/step - loss: 0.2159 - accuracy: 0.9323 - precision: 0.9371 - recall: 0.9277 - f1_score: 0.9302 - specificity: 0.9362\n",
      "Epoch 62/100\n",
      "427/427 [==============================] - 5s 12ms/step - loss: 0.2173 - accuracy: 0.9326 - precision: 0.9385 - recall: 0.9267 - f1_score: 0.9304 - specificity: 0.9384\n",
      "Epoch 63/100\n",
      "427/427 [==============================] - 5s 12ms/step - loss: 0.2001 - accuracy: 0.9383 - precision: 0.9407 - recall: 0.9349 - f1_score: 0.9358 - specificity: 0.9428\n",
      "Epoch 64/100\n",
      "427/427 [==============================] - 5s 12ms/step - loss: 0.2046 - accuracy: 0.9336 - precision: 0.9388 - recall: 0.9283 - f1_score: 0.9315 - specificity: 0.9375\n",
      "Epoch 65/100\n",
      "427/427 [==============================] - 5s 12ms/step - loss: 0.1917 - accuracy: 0.9379 - precision: 0.9427 - recall: 0.9321 - f1_score: 0.9354 - specificity: 0.9442\n",
      "Epoch 66/100\n",
      "427/427 [==============================] - 5s 12ms/step - loss: 0.1841 - accuracy: 0.9413 - precision: 0.9433 - recall: 0.9394 - f1_score: 0.9393 - specificity: 0.9418\n",
      "Epoch 67/100\n",
      "427/427 [==============================] - 5s 11ms/step - loss: 0.1880 - accuracy: 0.9421 - precision: 0.9439 - recall: 0.9411 - f1_score: 0.9408 - specificity: 0.9429\n",
      "Epoch 68/100\n",
      "427/427 [==============================] - 5s 11ms/step - loss: 0.1775 - accuracy: 0.9465 - precision: 0.9512 - recall: 0.9421 - f1_score: 0.9448 - specificity: 0.9508\n",
      "Epoch 69/100\n",
      "427/427 [==============================] - 5s 12ms/step - loss: 0.1777 - accuracy: 0.9438 - precision: 0.9486 - recall: 0.9377 - f1_score: 0.9412 - specificity: 0.9499\n",
      "Epoch 70/100\n",
      "427/427 [==============================] - 5s 12ms/step - loss: 0.1792 - accuracy: 0.9421 - precision: 0.9438 - recall: 0.9396 - f1_score: 0.9396 - specificity: 0.9450\n",
      "Epoch 71/100\n",
      "427/427 [==============================] - 5s 13ms/step - loss: 0.1648 - accuracy: 0.9513 - precision: 0.9551 - recall: 0.9493 - f1_score: 0.9506 - specificity: 0.9540\n",
      "Epoch 72/100\n",
      "427/427 [==============================] - 6s 14ms/step - loss: 0.1635 - accuracy: 0.9498 - precision: 0.9552 - recall: 0.9460 - f1_score: 0.9488 - specificity: 0.9544\n",
      "Epoch 73/100\n",
      "427/427 [==============================] - 6s 13ms/step - loss: 0.1589 - accuracy: 0.9518 - precision: 0.9562 - recall: 0.9472 - f1_score: 0.9501 - specificity: 0.9560\n",
      "Epoch 74/100\n",
      "427/427 [==============================] - 5s 12ms/step - loss: 0.1510 - accuracy: 0.9536 - precision: 0.9561 - recall: 0.9512 - f1_score: 0.9521 - specificity: 0.9567\n",
      "Epoch 75/100\n",
      "427/427 [==============================] - 5s 11ms/step - loss: 0.1478 - accuracy: 0.9538 - precision: 0.9559 - recall: 0.9530 - f1_score: 0.9528 - specificity: 0.9564\n",
      "Epoch 76/100\n",
      "427/427 [==============================] - 5s 12ms/step - loss: 0.1542 - accuracy: 0.9524 - precision: 0.9545 - recall: 0.9503 - f1_score: 0.9505 - specificity: 0.9552\n",
      "Epoch 77/100\n",
      "427/427 [==============================] - 5s 12ms/step - loss: 0.1389 - accuracy: 0.9574 - precision: 0.9617 - recall: 0.9542 - f1_score: 0.9566 - specificity: 0.9600\n",
      "Epoch 78/100\n",
      "427/427 [==============================] - 5s 13ms/step - loss: 0.1349 - accuracy: 0.9610 - precision: 0.9645 - recall: 0.9565 - f1_score: 0.9591 - specificity: 0.9648\n",
      "Epoch 79/100\n",
      "427/427 [==============================] - 5s 13ms/step - loss: 0.1306 - accuracy: 0.9612 - precision: 0.9654 - recall: 0.9580 - f1_score: 0.9605 - specificity: 0.9637\n",
      "Epoch 80/100\n",
      "427/427 [==============================] - 5s 13ms/step - loss: 0.1369 - accuracy: 0.9593 - precision: 0.9640 - recall: 0.9532 - f1_score: 0.9572 - specificity: 0.9653\n",
      "Epoch 81/100\n",
      "427/427 [==============================] - 5s 12ms/step - loss: 0.1321 - accuracy: 0.9616 - precision: 0.9618 - recall: 0.9602 - f1_score: 0.9596 - specificity: 0.9629\n",
      "Epoch 82/100\n",
      "427/427 [==============================] - 5s 12ms/step - loss: 0.1255 - accuracy: 0.9634 - precision: 0.9681 - recall: 0.9586 - f1_score: 0.9620 - specificity: 0.9684\n",
      "Epoch 83/100\n",
      "427/427 [==============================] - 5s 12ms/step - loss: 0.1217 - accuracy: 0.9644 - precision: 0.9649 - recall: 0.9639 - f1_score: 0.9633 - specificity: 0.9649\n",
      "Epoch 84/100\n",
      "427/427 [==============================] - 5s 13ms/step - loss: 0.1159 - accuracy: 0.9634 - precision: 0.9653 - recall: 0.9609 - f1_score: 0.9618 - specificity: 0.9665\n",
      "Epoch 85/100\n",
      "427/427 [==============================] - 6s 13ms/step - loss: 0.1118 - accuracy: 0.9677 - precision: 0.9692 - recall: 0.9662 - f1_score: 0.9667 - specificity: 0.9689\n",
      "Epoch 86/100\n",
      "427/427 [==============================] - 6s 13ms/step - loss: 0.1192 - accuracy: 0.9640 - precision: 0.9663 - recall: 0.9619 - f1_score: 0.9628 - specificity: 0.9675\n",
      "Epoch 87/100\n",
      "427/427 [==============================] - 5s 12ms/step - loss: 0.1093 - accuracy: 0.9693 - precision: 0.9702 - recall: 0.9678 - f1_score: 0.9680 - specificity: 0.9716\n",
      "Epoch 88/100\n",
      "427/427 [==============================] - 5s 12ms/step - loss: 0.1113 - accuracy: 0.9669 - precision: 0.9701 - recall: 0.9634 - f1_score: 0.9657 - specificity: 0.9707\n",
      "Epoch 89/100\n",
      "427/427 [==============================] - 5s 12ms/step - loss: 0.1055 - accuracy: 0.9699 - precision: 0.9708 - recall: 0.9685 - f1_score: 0.9687 - specificity: 0.9711\n",
      "Epoch 90/100\n",
      "427/427 [==============================] - 5s 12ms/step - loss: 0.1035 - accuracy: 0.9707 - precision: 0.9732 - recall: 0.9678 - f1_score: 0.9696 - specificity: 0.9728\n",
      "Epoch 91/100\n"
     ]
    },
    {
     "name": "stdout",
     "output_type": "stream",
     "text": [
      "427/427 [==============================] - 5s 12ms/step - loss: 0.0997 - accuracy: 0.9713 - precision: 0.9730 - recall: 0.9698 - f1_score: 0.9704 - specificity: 0.9727\n",
      "Epoch 92/100\n",
      "427/427 [==============================] - 5s 12ms/step - loss: 0.0993 - accuracy: 0.9702 - precision: 0.9710 - recall: 0.9688 - f1_score: 0.9689 - specificity: 0.9715\n",
      "Epoch 93/100\n",
      "427/427 [==============================] - 5s 12ms/step - loss: 0.0986 - accuracy: 0.9713 - precision: 0.9728 - recall: 0.9693 - f1_score: 0.9701 - specificity: 0.9741\n",
      "Epoch 94/100\n",
      "427/427 [==============================] - 6s 13ms/step - loss: 0.0881 - accuracy: 0.9748 - precision: 0.9756 - recall: 0.9745 - f1_score: 0.9742 - specificity: 0.9752\n",
      "Epoch 95/100\n",
      "427/427 [==============================] - 5s 13ms/step - loss: 0.0879 - accuracy: 0.9758 - precision: 0.9762 - recall: 0.9751 - f1_score: 0.9748 - specificity: 0.9762\n",
      "Epoch 96/100\n",
      "427/427 [==============================] - 5s 12ms/step - loss: 0.0868 - accuracy: 0.9729 - precision: 0.9752 - recall: 0.9701 - f1_score: 0.9718 - specificity: 0.9745\n",
      "Epoch 97/100\n",
      "427/427 [==============================] - 5s 13ms/step - loss: 0.0853 - accuracy: 0.9747 - precision: 0.9754 - recall: 0.9728 - f1_score: 0.9731 - specificity: 0.9766\n",
      "Epoch 98/100\n",
      "427/427 [==============================] - 5s 12ms/step - loss: 0.0821 - accuracy: 0.9761 - precision: 0.9776 - recall: 0.9747 - f1_score: 0.9753 - specificity: 0.9773\n",
      "Epoch 99/100\n",
      "427/427 [==============================] - 5s 12ms/step - loss: 0.0858 - accuracy: 0.9744 - precision: 0.9738 - recall: 0.9744 - f1_score: 0.9732 - specificity: 0.9743\n",
      "Epoch 100/100\n",
      "427/427 [==============================] - 5s 12ms/step - loss: 0.0794 - accuracy: 0.9762 - precision: 0.9771 - recall: 0.9757 - f1_score: 0.9755 - specificity: 0.9769\n",
      "107/107 [==============================] - 0s 4ms/step\n",
      "107/107 [==============================] - 1s 4ms/step - loss: 0.6789 - accuracy: 0.8299 - precision: 0.7943 - recall: 0.8937 - f1_score: 0.8376 - specificity: 0.7655\n",
      "Test accuracy: 0.830\n",
      "Test precision: 0.794\n",
      "Test recall: 0.894\n",
      "Test specificity: 0.765\n"
     ]
    }
   ],
   "source": [
    "from keras.optimizers import Adam\n",
    "from keras.layers import Dropout\n",
    "\n",
    "# Create a DNN model with regularization\n",
    "DNN = Sequential()\n",
    "DNN.add(Dense(1014, activation='relu', input_shape=(234,)))\n",
    "DNN.add(Dropout(0.1))\n",
    "DNN.add(Dense(820, activation='relu'))\n",
    "DNN.add(Dropout(0.1))\n",
    "DNN.add(Dense(512, activation='relu'))\n",
    "DNN.add(Dropout(0.1))\n",
    "DNN.add(Dense(256, activation='relu'))\n",
    "DNN.add(Dropout(0.1))\n",
    "DNN.add(Dense(128, activation='relu'))\n",
    "DNN.add(Dropout(0.1))\n",
    "DNN.add(Dense(64, activation='relu'))\n",
    "DNN.add(Dropout(0.1))\n",
    "DNN.add(Dense(32, activation='relu'))\n",
    "DNN.add(Dropout(0.1))\n",
    "DNN.add(Dense(32, activation='relu'))\n",
    "DNN.add(Dropout(0.1))\n",
    "DNN.add(Dense(16, activation='relu'))\n",
    "DNN.add(Dropout(0.1))\n",
    "DNN.add(Dense(8, activation='relu'))\n",
    "DNN.add(Dropout(0.1))\n",
    "DNN.add(Dense(1, activation='sigmoid'))\n",
    "\n",
    "# Compile the model with a lower learning rate and Adam optimizer\n",
    "optimizer = Adam(lr=0.00001)\n",
    "DNN.compile(optimizer=optimizer, loss='binary_crossentropy', metrics=['accuracy', precision, recall, f1_score, specificity])\n",
    "\n",
    "# Train the model with 30 epochs\n",
    "DNN.fit(X_train, Y_train, epochs=100, batch_size=32)\n",
    "\n",
    "# Make predictions on the test set\n",
    "Y_pred_DNN = DNN.predict(X_test)\n",
    "test_loss, test_acc, test_precision, test_recall, test_f1, test_specificity = DNN.evaluate(X_test, Y_test)\n",
    "print(f'Test accuracy: {test_acc:.3f}')\n",
    "print(f'Test precision: {test_precision:.3f}')\n",
    "print(f'Test recall: {test_recall:.3f}')\n",
    "print(f'Test specificity: {test_specificity:.3f}')"
   ]
  },
  {
   "cell_type": "markdown",
   "id": "f3997871",
   "metadata": {},
   "source": [
    "# CNN Models"
   ]
  },
  {
   "cell_type": "code",
   "execution_count": 247,
   "id": "37bc6e93",
   "metadata": {},
   "outputs": [
    {
     "name": "stdout",
     "output_type": "stream",
     "text": [
      "Epoch 1/10\n",
      "427/427 [==============================] - 6s 11ms/step - loss: 0.6444 - accuracy: 0.6293 - precision: 0.6675 - recall: 0.5769 - f1_score: 0.5693 - auc: 0.6795\n",
      "Epoch 2/10\n",
      "427/427 [==============================] - 5s 12ms/step - loss: 0.5642 - accuracy: 0.7117 - precision: 0.7445 - recall: 0.6672 - f1_score: 0.6873 - auc: 0.7750\n",
      "Epoch 3/10\n",
      "427/427 [==============================] - 5s 11ms/step - loss: 0.5262 - accuracy: 0.7369 - precision: 0.7722 - recall: 0.6861 - f1_score: 0.7123 - auc: 0.8093\n",
      "Epoch 4/10\n",
      "427/427 [==============================] - 5s 11ms/step - loss: 0.4799 - accuracy: 0.7652 - precision: 0.8031 - recall: 0.7186 - f1_score: 0.7459 - auc: 0.8471\n",
      "Epoch 5/10\n",
      "427/427 [==============================] - 5s 11ms/step - loss: 0.4254 - accuracy: 0.8026 - precision: 0.8314 - recall: 0.7698 - f1_score: 0.7890 - auc: 0.8843\n",
      "Epoch 6/10\n",
      "427/427 [==============================] - 5s 11ms/step - loss: 0.3558 - accuracy: 0.8455 - precision: 0.8671 - recall: 0.8208 - f1_score: 0.8366 - auc: 0.9228\n",
      "Epoch 7/10\n",
      "427/427 [==============================] - 5s 11ms/step - loss: 0.2813 - accuracy: 0.8880 - precision: 0.9043 - recall: 0.8707 - f1_score: 0.8827 - auc: 0.9536\n",
      "Epoch 8/10\n",
      "427/427 [==============================] - 5s 11ms/step - loss: 0.2108 - accuracy: 0.9218 - precision: 0.9332 - recall: 0.9106 - f1_score: 0.9180 - auc: 0.9748\n",
      "Epoch 9/10\n",
      "427/427 [==============================] - 5s 11ms/step - loss: 0.1499 - accuracy: 0.9482 - precision: 0.9565 - recall: 0.9404 - f1_score: 0.9461 - auc: 0.9882\n",
      "Epoch 10/10\n",
      "427/427 [==============================] - 5s 11ms/step - loss: 0.1031 - accuracy: 0.9684 - precision: 0.9741 - recall: 0.9636 - f1_score: 0.9677 - auc: 0.9944\n",
      "107/107 [==============================] - 0s 3ms/step\n",
      "107/107 [==============================] - 1s 3ms/step - loss: 0.5792 - accuracy: 0.8076 - precision: 0.8111 - recall: 0.8109 - f1_score: 0.8062 - auc: 0.8740\n",
      "Test accuracy: 0.808\n",
      "Test precision: 0.811\n",
      "Test recall: 0.811\n",
      "Test ROC-AUC: 0.874\n"
     ]
    }
   ],
   "source": [
    "import tensorflow as tf\n",
    "from tensorflow.keras.models import Sequential\n",
    "from tensorflow.keras.layers import Conv1D, MaxPooling1D, Flatten, Dense\n",
    "\n",
    "# Define custom metrics functions\n",
    "def precision(y_true, y_pred):\n",
    "    true_positives = tf.keras.backend.sum(tf.keras.backend.round(tf.keras.backend.clip(y_true * y_pred, 0, 1)))\n",
    "    predicted_positives = tf.keras.backend.sum(tf.keras.backend.round(tf.keras.backend.clip(y_pred, 0, 1)))\n",
    "    precision_value = true_positives / (predicted_positives + tf.keras.backend.epsilon())\n",
    "    return precision_value\n",
    "\n",
    "def recall(y_true, y_pred):\n",
    "    true_positives = tf.keras.backend.sum(tf.keras.backend.round(tf.keras.backend.clip(y_true * y_pred, 0, 1)))\n",
    "    possible_positives = tf.keras.backend.sum(tf.keras.backend.round(tf.keras.backend.clip(y_true, 0, 1)))\n",
    "    recall_value = true_positives / (possible_positives + tf.keras.backend.epsilon())\n",
    "    return recall_value\n",
    "\n",
    "def f1_score(y_true, y_pred):\n",
    "    precision_value = precision(y_true, y_pred)\n",
    "    recall_value = recall(y_true, y_pred)\n",
    "    f1_score_value = 2 * ((precision_value * recall_value) / (precision_value + recall_value + tf.keras.backend.epsilon()))\n",
    "    return f1_score_value\n",
    "\n",
    "# Update the dimensions\n",
    "width = 234  # Number of time steps\n",
    "height = 1   # Number of features per time step\n",
    "channels = 1 \n",
    "num_classes = 2  # Number of classes in your classification task\n",
    "\n",
    "# Reshape the input data\n",
    "X_train_CNN = X_train.reshape((X_train.shape[0], width, height))\n",
    "X_test_CNN = X_test.reshape((X_test.shape[0], width, height))\n",
    "\n",
    "# Create a CNN model\n",
    "CNN = Sequential()\n",
    "CNN.add(Conv1D(32, kernel_size=3, activation='relu', input_shape=(width, channels)))\n",
    "CNN.add(MaxPooling1D(pool_size=2))\n",
    "CNN.add(Conv1D(64, kernel_size=3, activation='relu'))\n",
    "CNN.add(MaxPooling1D(pool_size=2))\n",
    "CNN.add(Flatten())\n",
    "CNN.add(Dense(128, activation='relu'))\n",
    "CNN.add(Dense(1, activation='sigmoid'))  # Use sigmoid activation for binary classification\n",
    "\n",
    "# Compile the model\n",
    "CNN.compile(optimizer='adam', loss='binary_crossentropy',\n",
    "            metrics=['accuracy', precision, recall, f1_score, 'AUC'])\n",
    "\n",
    "# Train the model\n",
    "CNN.fit(X_train_CNN, Y_train, epochs=10, batch_size=32)\n",
    "\n",
    "# Evaluate the model\n",
    "Y_pred = CNN.predict(X_test_CNN)\n",
    "test_loss, test_acc, test_precision, test_recall, test_f1_score, test_auc = CNN.evaluate(X_test_CNN, Y_test)\n",
    "\n",
    "print(f'Test accuracy: {test_acc:.3f}')\n",
    "print(f'Test precision: {test_precision:.3f}')\n",
    "print(f'Test recall: {test_recall:.3f}')\n",
    "print(f'Test ROC-AUC: {test_auc:.3f}')\n"
   ]
  },
  {
   "cell_type": "markdown",
   "id": "2827a64d",
   "metadata": {},
   "source": [
    "# Custom deep neural network"
   ]
  },
  {
   "cell_type": "markdown",
   "id": "0388b78b",
   "metadata": {},
   "source": [
    "custom deep neural network architecture that contains a multiple dense layers with batch normalization and dropout regularization."
   ]
  },
  {
   "cell_type": "code",
   "execution_count": 253,
   "id": "c6344697",
   "metadata": {},
   "outputs": [
    {
     "name": "stdout",
     "output_type": "stream",
     "text": [
      "Epoch 1/20\n",
      "341/341 [==============================] - 3s 4ms/step - loss: 0.8299 - accuracy: 0.5420 - precision: 0.5417 - recall: 0.5343 - f1_score: 0.5316 - auc: 0.5552 - specificity: 0.5499 - val_loss: 0.6544 - val_accuracy: 0.6136 - val_precision: 0.5871 - val_recall: 0.7638 - val_f1_score: 0.6578 - val_auc: 0.6663 - val_specificity: 0.4636\n",
      "Epoch 2/20\n",
      "341/341 [==============================] - 1s 3ms/step - loss: 0.7075 - accuracy: 0.5714 - precision: 0.5701 - recall: 0.5742 - f1_score: 0.5661 - auc: 0.5930 - specificity: 0.5710 - val_loss: 0.6575 - val_accuracy: 0.6019 - val_precision: 0.5761 - val_recall: 0.7696 - val_f1_score: 0.6531 - val_auc: 0.6654 - val_specificity: 0.4365\n",
      "Epoch 3/20\n",
      "341/341 [==============================] - 1s 3ms/step - loss: 0.6693 - accuracy: 0.5941 - precision: 0.5924 - recall: 0.5988 - f1_score: 0.5902 - auc: 0.6321 - specificity: 0.5934 - val_loss: 0.6506 - val_accuracy: 0.6056 - val_precision: 0.5755 - val_recall: 0.8026 - val_f1_score: 0.6629 - val_auc: 0.6796 - val_specificity: 0.4061\n",
      "Epoch 4/20\n",
      "341/341 [==============================] - 1s 3ms/step - loss: 0.6505 - accuracy: 0.6167 - precision: 0.6138 - recall: 0.6252 - f1_score: 0.6157 - auc: 0.6650 - specificity: 0.6127 - val_loss: 0.6350 - val_accuracy: 0.6426 - val_precision: 0.6140 - val_recall: 0.7667 - val_f1_score: 0.6750 - val_auc: 0.7016 - val_specificity: 0.5180\n",
      "Epoch 5/20\n",
      "341/341 [==============================] - 1s 3ms/step - loss: 0.6331 - accuracy: 0.6420 - precision: 0.6429 - recall: 0.6361 - f1_score: 0.6351 - auc: 0.6946 - specificity: 0.6520 - val_loss: 0.6116 - val_accuracy: 0.6587 - val_precision: 0.6311 - val_recall: 0.7630 - val_f1_score: 0.6833 - val_auc: 0.7355 - val_specificity: 0.5512\n",
      "Epoch 6/20\n",
      "341/341 [==============================] - 1s 3ms/step - loss: 0.6202 - accuracy: 0.6559 - precision: 0.6581 - recall: 0.6463 - f1_score: 0.6485 - auc: 0.7136 - specificity: 0.6706 - val_loss: 0.6030 - val_accuracy: 0.6628 - val_precision: 0.6390 - val_recall: 0.7469 - val_f1_score: 0.6821 - val_auc: 0.7442 - val_specificity: 0.5801\n",
      "Epoch 7/20\n",
      "341/341 [==============================] - 1s 3ms/step - loss: 0.6090 - accuracy: 0.6672 - precision: 0.6687 - recall: 0.6605 - f1_score: 0.6603 - auc: 0.7287 - specificity: 0.6811 - val_loss: 0.5975 - val_accuracy: 0.6719 - val_precision: 0.6590 - val_recall: 0.7117 - val_f1_score: 0.6767 - val_auc: 0.7442 - val_specificity: 0.6287\n",
      "Epoch 8/20\n",
      "341/341 [==============================] - 1s 3ms/step - loss: 0.5911 - accuracy: 0.6857 - precision: 0.6884 - recall: 0.6763 - f1_score: 0.6800 - auc: 0.7502 - specificity: 0.6994 - val_loss: 0.5820 - val_accuracy: 0.6789 - val_precision: 0.6595 - val_recall: 0.7388 - val_f1_score: 0.6906 - val_auc: 0.7637 - val_specificity: 0.6184\n",
      "Epoch 9/20\n",
      "341/341 [==============================] - 1s 3ms/step - loss: 0.5834 - accuracy: 0.6940 - precision: 0.6999 - recall: 0.6772 - f1_score: 0.6848 - auc: 0.7598 - specificity: 0.7174 - val_loss: 0.5804 - val_accuracy: 0.6870 - val_precision: 0.6682 - val_recall: 0.7417 - val_f1_score: 0.6967 - val_auc: 0.7647 - val_specificity: 0.6315\n",
      "Epoch 10/20\n",
      "341/341 [==============================] - 1s 3ms/step - loss: 0.5674 - accuracy: 0.7064 - precision: 0.7105 - recall: 0.6948 - f1_score: 0.6986 - auc: 0.7766 - specificity: 0.7262 - val_loss: 0.5629 - val_accuracy: 0.7097 - val_precision: 0.7001 - val_recall: 0.7329 - val_f1_score: 0.7091 - val_auc: 0.7807 - val_specificity: 0.6842\n",
      "Epoch 11/20\n",
      "341/341 [==============================] - 1s 3ms/step - loss: 0.5480 - accuracy: 0.7180 - precision: 0.7258 - recall: 0.6990 - f1_score: 0.7098 - auc: 0.7938 - specificity: 0.7420 - val_loss: 0.5633 - val_accuracy: 0.7093 - val_precision: 0.6999 - val_recall: 0.7322 - val_f1_score: 0.7090 - val_auc: 0.7790 - val_specificity: 0.6844\n",
      "Epoch 12/20\n",
      "341/341 [==============================] - 1s 4ms/step - loss: 0.5383 - accuracy: 0.7333 - precision: 0.7455 - recall: 0.7071 - f1_score: 0.7237 - auc: 0.8049 - specificity: 0.7662 - val_loss: 0.5524 - val_accuracy: 0.7097 - val_precision: 0.6998 - val_recall: 0.7337 - val_f1_score: 0.7110 - val_auc: 0.7914 - val_specificity: 0.6775\n",
      "Epoch 13/20\n",
      "341/341 [==============================] - 1s 4ms/step - loss: 0.5267 - accuracy: 0.7359 - precision: 0.7454 - recall: 0.7150 - f1_score: 0.7266 - auc: 0.8135 - specificity: 0.7640 - val_loss: 0.5424 - val_accuracy: 0.7152 - val_precision: 0.7151 - val_recall: 0.7146 - val_f1_score: 0.7076 - val_auc: 0.7979 - val_specificity: 0.7110\n",
      "Epoch 14/20\n",
      "341/341 [==============================] - 1s 3ms/step - loss: 0.5185 - accuracy: 0.7458 - precision: 0.7577 - recall: 0.7213 - f1_score: 0.7363 - auc: 0.8209 - specificity: 0.7770 - val_loss: 0.5404 - val_accuracy: 0.7203 - val_precision: 0.7168 - val_recall: 0.7278 - val_f1_score: 0.7150 - val_auc: 0.8007 - val_specificity: 0.7072\n",
      "Epoch 15/20\n",
      "341/341 [==============================] - 1s 3ms/step - loss: 0.5084 - accuracy: 0.7482 - precision: 0.7556 - recall: 0.7323 - f1_score: 0.7418 - auc: 0.8283 - specificity: 0.7707 - val_loss: 0.5392 - val_accuracy: 0.7240 - val_precision: 0.7243 - val_recall: 0.7227 - val_f1_score: 0.7171 - val_auc: 0.8020 - val_specificity: 0.7211\n",
      "Epoch 16/20\n",
      "341/341 [==============================] - 1s 3ms/step - loss: 0.5030 - accuracy: 0.7538 - precision: 0.7697 - recall: 0.7229 - f1_score: 0.7424 - auc: 0.8322 - specificity: 0.7915 - val_loss: 0.5310 - val_accuracy: 0.7284 - val_precision: 0.7231 - val_recall: 0.7395 - val_f1_score: 0.7255 - val_auc: 0.8100 - val_specificity: 0.7181\n",
      "Epoch 17/20\n",
      "341/341 [==============================] - 1s 3ms/step - loss: 0.4815 - accuracy: 0.7747 - precision: 0.7905 - recall: 0.7464 - f1_score: 0.7644 - auc: 0.8499 - specificity: 0.8101 - val_loss: 0.5370 - val_accuracy: 0.7174 - val_precision: 0.7117 - val_recall: 0.7300 - val_f1_score: 0.7158 - val_auc: 0.8064 - val_specificity: 0.7046\n",
      "Epoch 18/20\n",
      "341/341 [==============================] - 1s 3ms/step - loss: 0.4777 - accuracy: 0.7740 - precision: 0.7892 - recall: 0.7466 - f1_score: 0.7649 - auc: 0.8514 - specificity: 0.8093 - val_loss: 0.5224 - val_accuracy: 0.7335 - val_precision: 0.7331 - val_recall: 0.7337 - val_f1_score: 0.7269 - val_auc: 0.8175 - val_specificity: 0.7261\n",
      "Epoch 19/20\n",
      "341/341 [==============================] - 1s 3ms/step - loss: 0.4730 - accuracy: 0.7780 - precision: 0.7929 - recall: 0.7514 - f1_score: 0.7692 - auc: 0.8557 - specificity: 0.8121 - val_loss: 0.5431 - val_accuracy: 0.7210 - val_precision: 0.7210 - val_recall: 0.7205 - val_f1_score: 0.7142 - val_auc: 0.8014 - val_specificity: 0.7179\n",
      "Epoch 20/20\n",
      "341/341 [==============================] - 1s 3ms/step - loss: 0.4681 - accuracy: 0.7802 - precision: 0.7897 - recall: 0.7628 - f1_score: 0.7741 - auc: 0.8583 - specificity: 0.8041 - val_loss: 0.5256 - val_accuracy: 0.7309 - val_precision: 0.7274 - val_recall: 0.7381 - val_f1_score: 0.7266 - val_auc: 0.8169 - val_specificity: 0.7168\n",
      "107/107 [==============================] - 0s 2ms/step - loss: 0.5324 - accuracy: 0.7390 - precision: 0.7382 - recall: 0.7459 - f1_score: 0.7396 - auc: 0.8128 - specificity: 0.7319\n",
      "Test accuracy: 0.739\n",
      "Test precision: 0.738\n",
      "Test recall: 0.746\n",
      "Test F1-score: 0.740\n",
      "Test ROC-AUC: 0.813\n",
      "Test specificity: 0.732\n"
     ]
    }
   ],
   "source": [
    "import tensorflow as tf\n",
    "from tensorflow.keras.models import Sequential\n",
    "from tensorflow.keras.layers import Dense, Dropout, BatchNormalization\n",
    "\n",
    "# Define custom metrics functions\n",
    "def specificity(y_true, y_pred):\n",
    "    true_negatives = tf.keras.backend.sum(tf.keras.backend.round(tf.keras.backend.clip((1 - y_true) * (1 - y_pred), 0, 1)))\n",
    "    possible_negatives = tf.keras.backend.sum(tf.keras.backend.round(tf.keras.backend.clip(1 - y_true, 0, 1)))\n",
    "    specificity_value = true_negatives / (possible_negatives + tf.keras.backend.epsilon())\n",
    "    return specificity_value\n",
    "\n",
    "# Update the dimensions\n",
    "input_shape = (234,)\n",
    "num_classes = 1  # Binary classification\n",
    "\n",
    "# Create a deep model\n",
    "model = Sequential()\n",
    "model.add(Dense(256, activation='relu', input_shape=input_shape))\n",
    "model.add(BatchNormalization())\n",
    "model.add(Dropout(0.5))\n",
    "model.add(Dense(128, activation='relu'))\n",
    "model.add(BatchNormalization())\n",
    "model.add(Dropout(0.5))\n",
    "model.add(Dense(64, activation='relu'))\n",
    "model.add(BatchNormalization())\n",
    "model.add(Dropout(0.5))\n",
    "model.add(Dense(num_classes, activation='sigmoid'))\n",
    "\n",
    "# Compile the model\n",
    "model.compile(optimizer='adam', loss='binary_crossentropy',\n",
    "              metrics=['accuracy', tf.keras.metrics.Precision(),\n",
    "                       tf.keras.metrics.Recall(), f1_score, 'AUC', specificity])\n",
    "\n",
    "# Train the model\n",
    "model.fit(X_train, Y_train, epochs=20, batch_size=32, validation_split=0.2)\n",
    "\n",
    "# Evaluate the model\n",
    "test_loss, test_acc, test_precision, test_recall, test_f1_score, test_auc, test_specificity = model.evaluate(X_test, Y_test)\n",
    "\n",
    "print(f'Test accuracy: {test_acc:.3f}')\n",
    "print(f'Test precision: {test_precision:.3f}')\n",
    "print(f'Test recall: {test_recall:.3f}')\n",
    "print(f'Test F1-score: {test_f1_score:.3f}')\n",
    "print(f'Test ROC-AUC: {test_auc:.3f}')\n",
    "print(f'Test specificity: {test_specificity:.3f}')\n"
   ]
  },
  {
   "cell_type": "markdown",
   "id": "0a6e5be2",
   "metadata": {},
   "source": [
    "**Custom DNN with different layers and 50 epochs**"
   ]
  },
  {
   "cell_type": "code",
   "execution_count": 262,
   "id": "fa12d37f",
   "metadata": {},
   "outputs": [
    {
     "name": "stdout",
     "output_type": "stream",
     "text": [
      "Epoch 1/50\n",
      "341/341 [==============================] - 4s 6ms/step - loss: 0.8483 - accuracy: 0.5220 - precision_3: 0.5210 - recall_3: 0.5237 - f1_score: 0.5154 - auc: 0.5297 - specificity: 0.5202 - val_loss: 0.6779 - val_accuracy: 0.5579 - val_precision_3: 0.5399 - val_recall_3: 0.7799 - val_f1_score: 0.6348 - val_auc: 0.6139 - val_specificity: 0.3374\n",
      "Epoch 2/50\n",
      "341/341 [==============================] - 2s 5ms/step - loss: 0.7170 - accuracy: 0.5433 - precision_3: 0.5429 - recall_3: 0.5365 - f1_score: 0.5341 - auc: 0.5609 - specificity: 0.5508 - val_loss: 0.6726 - val_accuracy: 0.5806 - val_precision_3: 0.5507 - val_recall_3: 0.8731 - val_f1_score: 0.6702 - val_auc: 0.6341 - val_specificity: 0.2821\n",
      "Epoch 3/50\n",
      "341/341 [==============================] - 2s 5ms/step - loss: 0.6778 - accuracy: 0.5847 - precision_3: 0.5810 - recall_3: 0.6021 - f1_score: 0.5865 - auc: 0.6152 - specificity: 0.5684 - val_loss: 0.6535 - val_accuracy: 0.6151 - val_precision_3: 0.5797 - val_recall_3: 0.8349 - val_f1_score: 0.6782 - val_auc: 0.6833 - val_specificity: 0.3920\n",
      "Epoch 4/50\n",
      "341/341 [==============================] - 2s 5ms/step - loss: 0.6555 - accuracy: 0.6137 - precision_3: 0.6135 - recall_3: 0.6107 - f1_score: 0.6080 - auc: 0.6542 - specificity: 0.6192 - val_loss: 0.6424 - val_accuracy: 0.6250 - val_precision_3: 0.5902 - val_recall_3: 0.8158 - val_f1_score: 0.6785 - val_auc: 0.6965 - val_specificity: 0.4314\n",
      "Epoch 5/50\n",
      "341/341 [==============================] - 2s 6ms/step - loss: 0.6365 - accuracy: 0.6385 - precision_3: 0.6361 - recall_3: 0.6441 - f1_score: 0.6359 - auc: 0.6905 - specificity: 0.6380 - val_loss: 0.6348 - val_accuracy: 0.6254 - val_precision_3: 0.5875 - val_recall_3: 0.8401 - val_f1_score: 0.6853 - val_auc: 0.7196 - val_specificity: 0.4071\n",
      "Epoch 6/50\n",
      "341/341 [==============================] - 2s 6ms/step - loss: 0.6144 - accuracy: 0.6606 - precision_3: 0.6601 - recall_3: 0.6599 - f1_score: 0.6578 - auc: 0.7212 - specificity: 0.6640 - val_loss: 0.6059 - val_accuracy: 0.6701 - val_precision_3: 0.6459 - val_recall_3: 0.7520 - val_f1_score: 0.6889 - val_auc: 0.7369 - val_specificity: 0.5827\n",
      "Epoch 7/50\n",
      "341/341 [==============================] - 2s 5ms/step - loss: 0.6017 - accuracy: 0.6759 - precision_3: 0.6803 - recall_3: 0.6614 - f1_score: 0.6675 - auc: 0.7382 - specificity: 0.6939 - val_loss: 0.5975 - val_accuracy: 0.6657 - val_precision_3: 0.6408 - val_recall_3: 0.7528 - val_f1_score: 0.6862 - val_auc: 0.7487 - val_specificity: 0.5735\n",
      "Epoch 8/50\n",
      "341/341 [==============================] - 2s 5ms/step - loss: 0.5776 - accuracy: 0.6990 - precision_3: 0.7106 - recall_3: 0.6695 - f1_score: 0.6860 - auc: 0.7655 - specificity: 0.7342 - val_loss: 0.5872 - val_accuracy: 0.6913 - val_precision_3: 0.6771 - val_recall_3: 0.7307 - val_f1_score: 0.6952 - val_auc: 0.7615 - val_specificity: 0.6465\n",
      "Epoch 9/50\n",
      "341/341 [==============================] - 2s 6ms/step - loss: 0.5700 - accuracy: 0.7070 - precision_3: 0.7160 - recall_3: 0.6844 - f1_score: 0.6961 - auc: 0.7738 - specificity: 0.7370 - val_loss: 0.5849 - val_accuracy: 0.6870 - val_precision_3: 0.6632 - val_recall_3: 0.7586 - val_f1_score: 0.6996 - val_auc: 0.7641 - val_specificity: 0.6084\n",
      "Epoch 10/50\n",
      "341/341 [==============================] - 2s 6ms/step - loss: 0.5553 - accuracy: 0.7106 - precision_3: 0.7202 - recall_3: 0.6871 - f1_score: 0.7003 - auc: 0.7877 - specificity: 0.7410 - val_loss: 0.5874 - val_accuracy: 0.6804 - val_precision_3: 0.6669 - val_recall_3: 0.7197 - val_f1_score: 0.6862 - val_auc: 0.7586 - val_specificity: 0.6394\n",
      "Epoch 11/50\n",
      "341/341 [==============================] - 2s 6ms/step - loss: 0.5411 - accuracy: 0.7233 - precision_3: 0.7368 - recall_3: 0.6934 - f1_score: 0.7122 - auc: 0.8000 - specificity: 0.7610 - val_loss: 0.5678 - val_accuracy: 0.7053 - val_precision_3: 0.6875 - val_recall_3: 0.7520 - val_f1_score: 0.7124 - val_auc: 0.7815 - val_specificity: 0.6562\n",
      "Epoch 12/50\n",
      "341/341 [==============================] - 2s 5ms/step - loss: 0.5240 - accuracy: 0.7378 - precision_3: 0.7523 - recall_3: 0.7077 - f1_score: 0.7261 - auc: 0.8159 - specificity: 0.7748 - val_loss: 0.5607 - val_accuracy: 0.7126 - val_precision_3: 0.7137 - val_recall_3: 0.7095 - val_f1_score: 0.7051 - val_auc: 0.7875 - val_specificity: 0.7056\n",
      "Epoch 13/50\n",
      "341/341 [==============================] - 2s 6ms/step - loss: 0.5198 - accuracy: 0.7447 - precision_3: 0.7594 - recall_3: 0.7150 - f1_score: 0.7339 - auc: 0.8203 - specificity: 0.7818 - val_loss: 0.5438 - val_accuracy: 0.7280 - val_precision_3: 0.7285 - val_recall_3: 0.7263 - val_f1_score: 0.7198 - val_auc: 0.7961 - val_specificity: 0.7240\n",
      "Epoch 14/50\n",
      "341/341 [==============================] - 2s 5ms/step - loss: 0.5031 - accuracy: 0.7544 - precision_3: 0.7644 - recall_3: 0.7341 - f1_score: 0.7467 - auc: 0.8346 - specificity: 0.7815 - val_loss: 0.5515 - val_accuracy: 0.7177 - val_precision_3: 0.7043 - val_recall_3: 0.7498 - val_f1_score: 0.7184 - val_auc: 0.7966 - val_specificity: 0.6803\n",
      "Epoch 15/50\n",
      "341/341 [==============================] - 2s 6ms/step - loss: 0.4892 - accuracy: 0.7613 - precision_3: 0.7748 - recall_3: 0.7354 - f1_score: 0.7525 - auc: 0.8436 - specificity: 0.7955 - val_loss: 0.5455 - val_accuracy: 0.7221 - val_precision_3: 0.7102 - val_recall_3: 0.7498 - val_f1_score: 0.7203 - val_auc: 0.8035 - val_specificity: 0.6893\n",
      "Epoch 16/50\n",
      "341/341 [==============================] - 2s 6ms/step - loss: 0.4735 - accuracy: 0.7691 - precision_3: 0.7836 - recall_3: 0.7422 - f1_score: 0.7605 - auc: 0.8540 - specificity: 0.8024 - val_loss: 0.5364 - val_accuracy: 0.7324 - val_precision_3: 0.7249 - val_recall_3: 0.7483 - val_f1_score: 0.7298 - val_auc: 0.8105 - val_specificity: 0.7093\n",
      "Epoch 17/50\n",
      "341/341 [==============================] - 2s 5ms/step - loss: 0.4711 - accuracy: 0.7729 - precision_3: 0.7873 - recall_3: 0.7468 - f1_score: 0.7628 - auc: 0.8561 - specificity: 0.8070 - val_loss: 0.5367 - val_accuracy: 0.7317 - val_precision_3: 0.7183 - val_recall_3: 0.7616 - val_f1_score: 0.7340 - val_auc: 0.8126 - val_specificity: 0.6946\n",
      "Epoch 18/50\n",
      "341/341 [==============================] - 2s 5ms/step - loss: 0.4585 - accuracy: 0.7827 - precision_3: 0.7929 - recall_3: 0.7642 - f1_score: 0.7766 - auc: 0.8645 - specificity: 0.8081 - val_loss: 0.5329 - val_accuracy: 0.7258 - val_precision_3: 0.7140 - val_recall_3: 0.7528 - val_f1_score: 0.7257 - val_auc: 0.8130 - val_specificity: 0.6938\n",
      "Epoch 19/50\n",
      "341/341 [==============================] - 2s 5ms/step - loss: 0.4539 - accuracy: 0.7873 - precision_3: 0.8022 - recall_3: 0.7617 - f1_score: 0.7797 - auc: 0.8680 - specificity: 0.8209 - val_loss: 0.5422 - val_accuracy: 0.7218 - val_precision_3: 0.7230 - val_recall_3: 0.7183 - val_f1_score: 0.7125 - val_auc: 0.8060 - val_specificity: 0.7179\n",
      "Epoch 20/50\n",
      "341/341 [==============================] - 2s 5ms/step - loss: 0.4419 - accuracy: 0.7895 - precision_3: 0.8051 - recall_3: 0.7629 - f1_score: 0.7810 - auc: 0.8748 - specificity: 0.8235 - val_loss: 0.5167 - val_accuracy: 0.7441 - val_precision_3: 0.7394 - val_recall_3: 0.7535 - val_f1_score: 0.7392 - val_auc: 0.8266 - val_specificity: 0.7289\n",
      "Epoch 21/50\n",
      "341/341 [==============================] - 2s 5ms/step - loss: 0.4336 - accuracy: 0.7967 - precision_3: 0.8124 - recall_3: 0.7707 - f1_score: 0.7892 - auc: 0.8796 - specificity: 0.8310 - val_loss: 0.5334 - val_accuracy: 0.7438 - val_precision_3: 0.7268 - val_recall_3: 0.7806 - val_f1_score: 0.7442 - val_auc: 0.8231 - val_specificity: 0.7010\n",
      "Epoch 22/50\n",
      "341/341 [==============================] - 2s 5ms/step - loss: 0.4213 - accuracy: 0.8047 - precision_3: 0.8171 - recall_3: 0.7842 - f1_score: 0.7974 - auc: 0.8870 - specificity: 0.8337 - val_loss: 0.5165 - val_accuracy: 0.7405 - val_precision_3: 0.7311 - val_recall_3: 0.7601 - val_f1_score: 0.7393 - val_auc: 0.8305 - val_specificity: 0.7147\n",
      "Epoch 23/50\n",
      "341/341 [==============================] - 2s 5ms/step - loss: 0.4240 - accuracy: 0.8053 - precision_3: 0.8187 - recall_3: 0.7833 - f1_score: 0.7978 - auc: 0.8864 - specificity: 0.8367 - val_loss: 0.5077 - val_accuracy: 0.7504 - val_precision_3: 0.7515 - val_recall_3: 0.7476 - val_f1_score: 0.7431 - val_auc: 0.8329 - val_specificity: 0.7482\n",
      "Epoch 24/50\n",
      "341/341 [==============================] - 2s 5ms/step - loss: 0.4051 - accuracy: 0.8161 - precision_3: 0.8362 - recall_3: 0.7853 - f1_score: 0.8089 - auc: 0.8963 - specificity: 0.8541 - val_loss: 0.5523 - val_accuracy: 0.7427 - val_precision_3: 0.7306 - val_recall_3: 0.7682 - val_f1_score: 0.7425 - val_auc: 0.8186 - val_specificity: 0.7126\n",
      "Epoch 25/50\n",
      "341/341 [==============================] - 2s 5ms/step - loss: 0.4020 - accuracy: 0.8177 - precision_3: 0.8325 - recall_3: 0.7947 - f1_score: 0.8116 - auc: 0.8981 - specificity: 0.8483 - val_loss: 0.5112 - val_accuracy: 0.7526 - val_precision_3: 0.7443 - val_recall_3: 0.7689 - val_f1_score: 0.7505 - val_auc: 0.8366 - val_specificity: 0.7346\n",
      "Epoch 26/50\n",
      "341/341 [==============================] - 2s 5ms/step - loss: 0.3992 - accuracy: 0.8210 - precision_3: 0.8330 - recall_3: 0.8022 - f1_score: 0.8151 - auc: 0.8997 - specificity: 0.8494 - val_loss: 0.5054 - val_accuracy: 0.7544 - val_precision_3: 0.7395 - val_recall_3: 0.7850 - val_f1_score: 0.7552 - val_auc: 0.8427 - val_specificity: 0.7171\n",
      "Epoch 27/50\n",
      "341/341 [==============================] - 2s 6ms/step - loss: 0.3923 - accuracy: 0.8254 - precision_3: 0.8351 - recall_3: 0.8101 - f1_score: 0.8210 - auc: 0.9036 - specificity: 0.8475 - val_loss: 0.5132 - val_accuracy: 0.7478 - val_precision_3: 0.7483 - val_recall_3: 0.7461 - val_f1_score: 0.7404 - val_auc: 0.8310 - val_specificity: 0.7457\n",
      "Epoch 28/50\n",
      "341/341 [==============================] - 2s 6ms/step - loss: 0.3861 - accuracy: 0.8213 - precision_3: 0.8365 - recall_3: 0.7978 - f1_score: 0.8158 - auc: 0.9063 - specificity: 0.8526 - val_loss: 0.5281 - val_accuracy: 0.7548 - val_precision_3: 0.7486 - val_recall_3: 0.7667 - val_f1_score: 0.7499 - val_auc: 0.8390 - val_specificity: 0.7369\n",
      "Epoch 29/50\n",
      "341/341 [==============================] - 2s 5ms/step - loss: 0.3796 - accuracy: 0.8289 - precision_3: 0.8398 - recall_3: 0.8122 - f1_score: 0.8231 - auc: 0.9100 - specificity: 0.8556 - val_loss: 0.5047 - val_accuracy: 0.7654 - val_precision_3: 0.7692 - val_recall_3: 0.7579 - val_f1_score: 0.7578 - val_auc: 0.8457 - val_specificity: 0.7645\n",
      "Epoch 30/50\n",
      "341/341 [==============================] - 2s 5ms/step - loss: 0.3716 - accuracy: 0.8353 - precision_3: 0.8421 - recall_3: 0.8246 - f1_score: 0.8318 - auc: 0.9139 - specificity: 0.8543 - val_loss: 0.5035 - val_accuracy: 0.7680 - val_precision_3: 0.7668 - val_recall_3: 0.7696 - val_f1_score: 0.7659 - val_auc: 0.8443 - val_specificity: 0.7636\n",
      "Epoch 31/50\n",
      "341/341 [==============================] - 2s 5ms/step - loss: 0.3630 - accuracy: 0.8385 - precision_3: 0.8477 - recall_3: 0.8246 - f1_score: 0.8350 - auc: 0.9178 - specificity: 0.8591 - val_loss: 0.4979 - val_accuracy: 0.7650 - val_precision_3: 0.7639 - val_recall_3: 0.7667 - val_f1_score: 0.7596 - val_auc: 0.8432 - val_specificity: 0.7588\n",
      "Epoch 32/50\n",
      "341/341 [==============================] - 2s 5ms/step - loss: 0.3571 - accuracy: 0.8393 - precision_3: 0.8484 - recall_3: 0.8254 - f1_score: 0.8343 - auc: 0.9206 - specificity: 0.8633 - val_loss: 0.5082 - val_accuracy: 0.7625 - val_precision_3: 0.7654 - val_recall_3: 0.7564 - val_f1_score: 0.7557 - val_auc: 0.8402 - val_specificity: 0.7611\n",
      "Epoch 33/50\n",
      "341/341 [==============================] - 2s 5ms/step - loss: 0.3495 - accuracy: 0.8486 - precision_3: 0.8556 - recall_3: 0.8380 - f1_score: 0.8448 - auc: 0.9246 - specificity: 0.8673 - val_loss: 0.5063 - val_accuracy: 0.7617 - val_precision_3: 0.7414 - val_recall_3: 0.8034 - val_f1_score: 0.7658 - val_auc: 0.8502 - val_specificity: 0.7154\n",
      "Epoch 34/50\n",
      "341/341 [==============================] - 2s 5ms/step - loss: 0.3454 - accuracy: 0.8461 - precision_3: 0.8558 - recall_3: 0.8318 - f1_score: 0.8419 - auc: 0.9261 - specificity: 0.8686 - val_loss: 0.5008 - val_accuracy: 0.7676 - val_precision_3: 0.7674 - val_recall_3: 0.7674 - val_f1_score: 0.7620 - val_auc: 0.8485 - val_specificity: 0.7603\n",
      "Epoch 35/50\n",
      "341/341 [==============================] - 2s 6ms/step - loss: 0.3404 - accuracy: 0.8503 - precision_3: 0.8588 - recall_3: 0.8377 - f1_score: 0.8466 - auc: 0.9283 - specificity: 0.8694 - val_loss: 0.5110 - val_accuracy: 0.7680 - val_precision_3: 0.7524 - val_recall_3: 0.7982 - val_f1_score: 0.7693 - val_auc: 0.8515 - val_specificity: 0.7301\n",
      "Epoch 36/50\n",
      "341/341 [==============================] - 2s 6ms/step - loss: 0.3348 - accuracy: 0.8553 - precision_3: 0.8628 - recall_3: 0.8443 - f1_score: 0.8517 - auc: 0.9306 - specificity: 0.8751 - val_loss: 0.5009 - val_accuracy: 0.7702 - val_precision_3: 0.7514 - val_recall_3: 0.8070 - val_f1_score: 0.7721 - val_auc: 0.8574 - val_specificity: 0.7266\n",
      "Epoch 37/50\n",
      "341/341 [==============================] - 2s 6ms/step - loss: 0.3262 - accuracy: 0.8557 - precision_3: 0.8572 - recall_3: 0.8529 - f1_score: 0.8531 - auc: 0.9348 - specificity: 0.8687 - val_loss: 0.5042 - val_accuracy: 0.7757 - val_precision_3: 0.7613 - val_recall_3: 0.8026 - val_f1_score: 0.7747 - val_auc: 0.8587 - val_specificity: 0.7415\n",
      "Epoch 38/50\n",
      "341/341 [==============================] - 2s 5ms/step - loss: 0.3245 - accuracy: 0.8593 - precision_3: 0.8652 - recall_3: 0.8507 - f1_score: 0.8561 - auc: 0.9350 - specificity: 0.8763 - val_loss: 0.4916 - val_accuracy: 0.7812 - val_precision_3: 0.7808 - val_recall_3: 0.7814 - val_f1_score: 0.7757 - val_auc: 0.8603 - val_specificity: 0.7792\n",
      "Epoch 39/50\n",
      "341/341 [==============================] - 2s 5ms/step - loss: 0.3254 - accuracy: 0.8549 - precision_3: 0.8631 - recall_3: 0.8430 - f1_score: 0.8512 - auc: 0.9347 - specificity: 0.8759 - val_loss: 0.4977 - val_accuracy: 0.7757 - val_precision_3: 0.7665 - val_recall_3: 0.7924 - val_f1_score: 0.7734 - val_auc: 0.8568 - val_specificity: 0.7531\n",
      "Epoch 40/50\n",
      "341/341 [==============================] - 2s 6ms/step - loss: 0.3109 - accuracy: 0.8613 - precision_3: 0.8647 - recall_3: 0.8559 - f1_score: 0.8586 - auc: 0.9408 - specificity: 0.8765 - val_loss: 0.4830 - val_accuracy: 0.7896 - val_precision_3: 0.7852 - val_recall_3: 0.7968 - val_f1_score: 0.7859 - val_auc: 0.8626 - val_specificity: 0.7775\n",
      "Epoch 41/50\n",
      "341/341 [==============================] - 2s 6ms/step - loss: 0.3084 - accuracy: 0.8646 - precision_3: 0.8684 - recall_3: 0.8588 - f1_score: 0.8613 - auc: 0.9415 - specificity: 0.8813 - val_loss: 0.5218 - val_accuracy: 0.7735 - val_precision_3: 0.7581 - val_recall_3: 0.8026 - val_f1_score: 0.7732 - val_auc: 0.8581 - val_specificity: 0.7417\n",
      "Epoch 42/50\n",
      "341/341 [==============================] - 2s 6ms/step - loss: 0.3114 - accuracy: 0.8672 - precision_3: 0.8707 - recall_3: 0.8619 - f1_score: 0.8646 - auc: 0.9406 - specificity: 0.8813 - val_loss: 0.4948 - val_accuracy: 0.7830 - val_precision_3: 0.7824 - val_recall_3: 0.7836 - val_f1_score: 0.7757 - val_auc: 0.8600 - val_specificity: 0.7763\n",
      "Epoch 43/50\n",
      "341/341 [==============================] - 2s 5ms/step - loss: 0.3050 - accuracy: 0.8669 - precision_3: 0.8713 - recall_3: 0.8604 - f1_score: 0.8638 - auc: 0.9429 - specificity: 0.8833 - val_loss: 0.4894 - val_accuracy: 0.7870 - val_precision_3: 0.7829 - val_recall_3: 0.7938 - val_f1_score: 0.7824 - val_auc: 0.8666 - val_specificity: 0.7746\n",
      "Epoch 44/50\n",
      "341/341 [==============================] - 2s 5ms/step - loss: 0.2928 - accuracy: 0.8768 - precision_3: 0.8783 - recall_3: 0.8744 - f1_score: 0.8752 - auc: 0.9474 - specificity: 0.8878 - val_loss: 0.4862 - val_accuracy: 0.7874 - val_precision_3: 0.7877 - val_recall_3: 0.7865 - val_f1_score: 0.7836 - val_auc: 0.8639 - val_specificity: 0.7841\n",
      "Epoch 45/50\n",
      "341/341 [==============================] - 2s 5ms/step - loss: 0.2945 - accuracy: 0.8716 - precision_3: 0.8775 - recall_3: 0.8632 - f1_score: 0.8687 - auc: 0.9468 - specificity: 0.8900 - val_loss: 0.4913 - val_accuracy: 0.7936 - val_precision_3: 0.7861 - val_recall_3: 0.8063 - val_f1_score: 0.7906 - val_auc: 0.8662 - val_specificity: 0.7720\n",
      "Epoch 46/50\n",
      "341/341 [==============================] - 2s 5ms/step - loss: 0.3018 - accuracy: 0.8713 - precision_3: 0.8805 - recall_3: 0.8588 - f1_score: 0.8680 - auc: 0.9440 - specificity: 0.8926 - val_loss: 0.4893 - val_accuracy: 0.7856 - val_precision_3: 0.7807 - val_recall_3: 0.7938 - val_f1_score: 0.7824 - val_auc: 0.8643 - val_specificity: 0.7718\n",
      "Epoch 47/50\n"
     ]
    },
    {
     "name": "stdout",
     "output_type": "stream",
     "text": [
      "341/341 [==============================] - 2s 5ms/step - loss: 0.2865 - accuracy: 0.8778 - precision_3: 0.8829 - recall_3: 0.8707 - f1_score: 0.8751 - auc: 0.9497 - specificity: 0.8941 - val_loss: 0.5090 - val_accuracy: 0.7823 - val_precision_3: 0.7760 - val_recall_3: 0.7931 - val_f1_score: 0.7805 - val_auc: 0.8623 - val_specificity: 0.7634\n",
      "Epoch 48/50\n",
      "341/341 [==============================] - 2s 6ms/step - loss: 0.2882 - accuracy: 0.8781 - precision_3: 0.8808 - recall_3: 0.8740 - f1_score: 0.8763 - auc: 0.9492 - specificity: 0.8913 - val_loss: 0.5088 - val_accuracy: 0.7889 - val_precision_3: 0.7904 - val_recall_3: 0.7858 - val_f1_score: 0.7824 - val_auc: 0.8646 - val_specificity: 0.7844\n",
      "Epoch 49/50\n",
      "341/341 [==============================] - 2s 6ms/step - loss: 0.2728 - accuracy: 0.8849 - precision_3: 0.8875 - recall_3: 0.8810 - f1_score: 0.8829 - auc: 0.9546 - specificity: 0.8961 - val_loss: 0.4895 - val_accuracy: 0.8006 - val_precision_3: 0.8067 - val_recall_3: 0.7902 - val_f1_score: 0.7921 - val_auc: 0.8700 - val_specificity: 0.8029\n",
      "Epoch 50/50\n",
      "341/341 [==============================] - 2s 5ms/step - loss: 0.2713 - accuracy: 0.8887 - precision_3: 0.8926 - recall_3: 0.8834 - f1_score: 0.8870 - auc: 0.9549 - specificity: 0.9017 - val_loss: 0.5044 - val_accuracy: 0.7859 - val_precision_3: 0.7718 - val_recall_3: 0.8114 - val_f1_score: 0.7860 - val_auc: 0.8672 - val_specificity: 0.7534\n",
      "107/107 [==============================] - 0s 2ms/step - loss: 0.5208 - accuracy: 0.7789 - precision_3: 0.7663 - recall_3: 0.8065 - f1_score: 0.7823 - auc: 0.8608 - specificity: 0.7519\n",
      "Test accuracy: 0.779\n",
      "Test precision: 0.766\n",
      "Test recall: 0.807\n",
      "Test F1-score: 0.782\n",
      "Test ROC-AUC: 0.861\n",
      "Test specificity: 0.752\n"
     ]
    }
   ],
   "source": [
    "import tensorflow as tf\n",
    "from tensorflow.keras.models import Sequential\n",
    "from tensorflow.keras.layers import Dense, Dropout, BatchNormalization\n",
    "\n",
    "# Define custom metrics functions\n",
    "def specificity(y_true, y_pred):\n",
    "    true_negatives = tf.keras.backend.sum(tf.keras.backend.round(tf.keras.backend.clip((1 - y_true) * (1 - y_pred), 0, 1)))\n",
    "    possible_negatives = tf.keras.backend.sum(tf.keras.backend.round(tf.keras.backend.clip(1 - y_true, 0, 1)))\n",
    "    specificity_value = true_negatives / (possible_negatives + tf.keras.backend.epsilon())\n",
    "    return specificity_value\n",
    "\n",
    "# Update the dimensions\n",
    "input_shape = (234,)\n",
    "num_classes = 1  # Binary classification\n",
    "\n",
    "# Create a deep model\n",
    "model = Sequential()\n",
    "model.add(Dense(512, activation='relu', input_shape=input_shape))\n",
    "model.add(BatchNormalization())\n",
    "model.add(Dropout(0.5))\n",
    "model.add(Dense(256, activation='relu'))\n",
    "model.add(BatchNormalization())\n",
    "model.add(Dropout(0.5))\n",
    "model.add(Dense(128, activation='relu'))\n",
    "model.add(BatchNormalization())\n",
    "model.add(Dropout(0.5))\n",
    "model.add(Dense(64, activation='relu'))\n",
    "model.add(BatchNormalization())\n",
    "model.add(Dropout(0.5))\n",
    "model.add(Dense(num_classes, activation='sigmoid'))\n",
    "\n",
    "# Compile the model\n",
    "model.compile(optimizer='adam', loss='binary_crossentropy',\n",
    "              metrics=['accuracy', tf.keras.metrics.Precision(),\n",
    "                       tf.keras.metrics.Recall(), f1_score, 'AUC', specificity])\n",
    "\n",
    "# Train the model\n",
    "model.fit(X_train, Y_train, epochs=50, batch_size=32, validation_split=0.2)\n",
    "\n",
    "# Evaluate the model\n",
    "test_loss, test_acc, test_precision, test_recall, test_f1_score, test_auc, test_specificity = model.evaluate(X_test, Y_test)\n",
    "\n",
    "print(f'Test accuracy: {test_acc:.3f}')\n",
    "print(f'Test precision: {test_precision:.3f}')\n",
    "print(f'Test recall: {test_recall:.3f}')\n",
    "print(f'Test F1-score: {test_f1_score:.3f}')\n",
    "print(f'Test ROC-AUC: {test_auc:.3f}')\n",
    "print(f'Test specificity: {test_specificity:.3f}')\n"
   ]
  },
  {
   "cell_type": "markdown",
   "id": "df41a281",
   "metadata": {},
   "source": [
    "# VI. Pick the Best Model<a class=\"anchor\" id=\"pbm\"></a>\n",
    "**[Back to top](#toc)**"
   ]
  },
  {
   "cell_type": "markdown",
   "id": "488f6b7d",
   "metadata": {},
   "source": [
    "**In this section we will Compare the previous models and Chose the best model**"
   ]
  },
  {
   "cell_type": "code",
   "execution_count": 343,
   "id": "904a9175",
   "metadata": {},
   "outputs": [],
   "source": [
    "import numpy as np\n",
    "import matplotlib.pyplot as plt\n",
    "from matplotlib.ticker import PercentFormatter\n",
    "import matplotlib.ticker as mtick\n",
    "\n",
    "def display_grouped_bar_chart(data):\n",
    "    models = list(data.keys())\n",
    "    metrics = list(data[models[0]].keys())\n",
    "\n",
    "    # Prepare the data for plotting\n",
    "    accuracy_values = [data[model]['validation accuracy'] for model in models]\n",
    "    precision_values = [data[model]['validation precision'] for model in models]\n",
    "    recall_values = [data[model]['validation recall'] for model in models]\n",
    "    f1_score_values = [data[model]['validation F1 score'] for model in models]\n",
    "\n",
    "    # Set the positions of the bars on the x-axis\n",
    "    bar_width = 0.2\n",
    "    r = np.arange(len(models))  # x-coordinates of the bars\n",
    "\n",
    "    # Plot the grouped bars with spacing\n",
    "    plt.bar(r, accuracy_values, color='#3680ab', width=bar_width, edgecolor='white', label='Accuracy')\n",
    "    plt.bar(r + bar_width, precision_values, color='#e69238', width=bar_width, edgecolor='white', label='Precision')\n",
    "    plt.bar(r + 2 * bar_width, recall_values, color='#769f4f', width=bar_width, edgecolor='white', label='Recall')\n",
    "    plt.bar(r + 3 * bar_width, f1_score_values, color='#e25b74', width=bar_width, edgecolor='white', label='ROC-AUC')\n",
    "\n",
    "    # Add x-axis labels, y-axis label, and a title\n",
    "    mapping = {\n",
    "        0: 'Polynomial SVM',\n",
    "        1: 'Random Forest ',\n",
    "        2: 'KNN',\n",
    "        3: 'Decision Tree',\n",
    "        4: 'Extra Trees C',\n",
    "        5: 'XGBoost',\n",
    "        6: 'Logistic Reg',\n",
    "        7: 'Naive Bayes ',\n",
    "        8: 'LDA',\n",
    "        9: 'MLP',\n",
    "        10: 'DNN',\n",
    "        11: 'CNN'\n",
    "    }\n",
    "    x_labels = [mapping[i] for i in r]  # Use r instead of range(len(models))\n",
    "    plt.xlabel('Models')\n",
    "    plt.ylabel('Scores (%)')\n",
    "    plt.title('Models Comparing')\n",
    "\n",
    "    # Position the legend in the middle\n",
    "    plt.legend(loc='upper center', bbox_to_anchor=(0.5, -0.3), fancybox=True, shadow=True, ncol=4)\n",
    "\n",
    "    # Rotate the x-axis labels\n",
    "    plt.xticks(r + 1.5 * bar_width, x_labels, rotation=45, ha='right')\n",
    "\n",
    "    # Format y-axis labels as percentages\n",
    "    plt.gca().yaxis.set_major_formatter(mtick.PercentFormatter(1.0))\n",
    "\n",
    "    # Add percentages on top of each bar with smaller font size\n",
    "    for i, value in enumerate(accuracy_values):\n",
    "        plt.text(r[i], value, f'{value:.2}', ha='center', va='bottom', fontsize=6)\n",
    "    for i, value in enumerate(precision_values):\n",
    "        plt.text(r[i] + bar_width, value, f'{value:.2}', ha='center', va='bottom', fontsize=6)\n",
    "    for i, value in enumerate(recall_values):\n",
    "        plt.text(r[i] + 2 * bar_width, value, f'{value:.2}', ha='center', va='bottom', fontsize=6)\n",
    "    for i, value in enumerate(f1_score_values):\n",
    "        plt.text(r[i] + 3 * bar_width, value, f'{value:.2}', ha='center', va='bottom', fontsize=6)\n",
    "\n",
    "    # Adjust the layout to prevent overlapping of labels\n",
    "    plt.tight_layout()\n",
    "\n",
    "    # Increase the width of the figure if needed\n",
    "    fig = plt.gcf()\n",
    "    fig.set_size_inches(10, 6)\n",
    "\n",
    "    # Display the chart\n",
    "    plt.show()"
   ]
  },
  {
   "cell_type": "markdown",
   "id": "73d8673e",
   "metadata": {},
   "source": [
    "**plot the bar chart**"
   ]
  },
  {
   "cell_type": "code",
   "execution_count": 344,
   "id": "382f3aff",
   "metadata": {},
   "outputs": [
    {
     "data": {
      "image/png": "[encoded data removed]",
      "text/plain": [
       "<Figure size 1000x600 with 1 Axes>"
      ]
     },
     "metadata": {},
     "output_type": "display_data"
    }
   ],
   "source": [
    "data = {\n",
    "        'Polynomial SVM': {\n",
    "        'validation accuracy': 0.80,\n",
    "        'validation precision': 0.74,\n",
    "        'validation recall': 0.93,\n",
    "        'validation F1 score': 0.80\n",
    "    },\n",
    "    'Random Forest': {\n",
    "        'validation accuracy': 0.88,\n",
    "        'validation precision': 0.92,\n",
    "        'validation recall': 0.83,\n",
    "        'validation F1 score': 0.88\n",
    "    },\n",
    "    'KNN': {\n",
    "        'validation accuracy': 0.56,\n",
    "        'validation precision': 0.53,\n",
    "        'validation recall': 0.98,\n",
    "        'validation F1 score': 0.56\n",
    "    },\n",
    "    'Decision Tree': {\n",
    "        'validation accuracy': 0.65,\n",
    "        'validation precision': 0.64,\n",
    "        'validation recall': 0.71,\n",
    "        'validation F1 score': 0.65\n",
    "    },\n",
    "    'Extra Trees Classifier': {\n",
    "        'validation accuracy': 0.9005,\n",
    "        'validation precision': 0.9371,\n",
    "        'validation recall': 0.8601,\n",
    "        'validation F1 score': 0.9008\n",
    "    },\n",
    "    'XGBoost': {\n",
    "        'validation accuracy': 0.84,\n",
    "        'validation precision': 0.83,\n",
    "        'validation recall': 0.85,\n",
    "        'validation F1 score': 0.84\n",
    "    },\n",
    "    'Logistic Regression': {\n",
    "        'validation accuracy': 0.56,\n",
    "        'validation precision': 0.57,\n",
    "        'validation recall': 0.56,\n",
    "        'validation F1 score': 0.56\n",
    "    },\n",
    "    'Naive Bayes': {\n",
    "        'validation accuracy': 0.54,\n",
    "        'validation precision': 0.52,\n",
    "        'validation recall': 0.87,\n",
    "        'validation F1 score': 0.53\n",
    "    },\n",
    "    'Linear Discriminant Analysis': {\n",
    "        'validation accuracy': 0.56,\n",
    "        'validation precision': 0.56,\n",
    "        'validation recall': 0.56,\n",
    "        'validation F1 score': 0.56\n",
    "    },\n",
    "    'Multi-layer perceptron': {\n",
    "        'validation accuracy': 0.83,\n",
    "        'validation precision': 0.80,\n",
    "        'validation recall': 0.86,\n",
    "        'validation F1 score': 0.82\n",
    "    },\n",
    "    'DNN': {\n",
    "        'validation accuracy': 0.84,\n",
    "        'validation precision': 0.83,\n",
    "        'validation recall': 0.86,\n",
    "        'validation F1 score': 0.90\n",
    "    },\n",
    "    'CNN': {\n",
    "        'validation accuracy': 0.80,\n",
    "        'validation precision': 0.81,\n",
    "        'validation recall': 0.81,\n",
    "        'validation F1 score': 0.87\n",
    "    }\n",
    "}\n",
    "\n",
    "display_grouped_bar_chart(data)\n"
   ]
  },
  {
   "cell_type": "markdown",
   "id": "32c7cd9b",
   "metadata": {},
   "source": [
    "**By examining the performance metrics obtained from each model, we were able to chose the best model which is the Extra Trees Classifier**"
   ]
  },
  {
   "cell_type": "markdown",
   "id": "8b38a059",
   "metadata": {},
   "source": [
    "# VII. Best Model Evaluation<a class=\"anchor\" id=\"bme\"></a>\n",
    "**[Back to top](#toc)**"
   ]
  },
  {
   "cell_type": "markdown",
   "id": "37229ec6",
   "metadata": {},
   "source": [
    "**We chose the Extra Trees Classifier Because it's the one that achieve the best result comparing to other models**"
   ]
  },
  {
   "cell_type": "markdown",
   "id": "6ec00af1",
   "metadata": {},
   "source": [
    "### Evaluate extra trees using cross validation"
   ]
  },
  {
   "cell_type": "markdown",
   "id": "9ed53085",
   "metadata": {},
   "source": [
    "**We employed 5-fold cross-validation. This technique allowed us to evaluate the performance of the model across different subsets of the dataset. By dividing the data into five equally sized folds, we trained the model on four folds while validating its performance on the remaining fold. This process was repeated five times, with each fold serving as the validation set once.**"
   ]
  },
  {
   "cell_type": "code",
   "execution_count": 134,
   "id": "036d7f4d",
   "metadata": {},
   "outputs": [
    {
     "name": "stdout",
     "output_type": "stream",
     "text": [
      "Cross-Validation Results:\n",
      "Accuracy: [0.87280059 0.87793255 0.88123167 0.87756598 0.86950147]\n",
      "Precision: [0.89180835 0.91727494 0.90801887 0.90345369 0.90630048]\n",
      "Recall: [0.84790595 0.83039648 0.84801762 0.84508076 0.82378855]\n",
      "F1-Score: [0.8693032  0.8716763  0.87699317 0.87329287 0.86307692]\n",
      "ROC-AUC Score: [0.87274595 0.87786295 0.88118304 0.87751842 0.86943454]\n",
      "Specificity: [0.89758595 0.92532943 0.91434846 0.90995608 0.91508053]\n",
      "Avg+-Sd Results:\n",
      "Accuracy: 0.876 +- 0.004\n",
      "Precision: 0.905 +- 0.008\n",
      "Recall: 0.839 +- 0.010\n",
      "F1-Score: 0.871 +- 0.005\n",
      "ROC-AUC Score: 0.876 +- 0.004\n",
      "Specificity: 0.912 +- 0.009\n"
     ]
    }
   ],
   "source": [
    "from sklearn.ensemble import ExtraTreesClassifier\n",
    "\n",
    "# Create an Extra Trees Classifier model\n",
    "ExtraTrees = ExtraTreesClassifier(\n",
    "    n_estimators=1000,\n",
    "    max_depth=None,\n",
    "    min_samples_split=2,\n",
    "    min_samples_leaf=1,\n",
    "    max_features='auto',\n",
    "    bootstrap=False,\n",
    "    random_state=60\n",
    ")\n",
    "\n",
    "# Define the scoring metrics\n",
    "scoring = {\n",
    "    'accuracy': make_scorer(accuracy_score),\n",
    "    'precision': make_scorer(precision_score),\n",
    "    'recall': make_scorer(recall_score),\n",
    "    'f1_score': make_scorer(f1_score),\n",
    "    'roc_auc': make_scorer(roc_auc_score),\n",
    "    'balanced_accuracy': make_scorer(balanced_accuracy_score),\n",
    "}\n",
    "\n",
    "# Perform cross-validation with scoring metrics\n",
    "cv_results = cross_validate(ExtraTrees, X_train, Y_train, cv=5, scoring=scoring, return_train_score=False)\n",
    "specificity_cv = (2*cv_results['test_balanced_accuracy'])-cv_results['test_recall']\n",
    "# Print the evaluation metrics from cross-validation\n",
    "print(\"Cross-Validation Results:\")\n",
    "print(\"Accuracy:\", cv_results['test_accuracy'])\n",
    "print(\"Precision:\", cv_results['test_precision'])\n",
    "print(\"Recall:\", cv_results['test_recall'])\n",
    "print(\"F1-Score:\", cv_results['test_f1_score'])\n",
    "print(\"ROC-AUC Score:\", cv_results['test_roc_auc'])\n",
    "print(\"Specificity:\", specificity_cv)\n",
    "# Print the evaluation metrics with average and standard deviation\n",
    "print(\"Avg+-Sd Results:\")\n",
    "print(\"Accuracy: {:.3f} +- {:.3f}\".format(np.mean(cv_results['test_accuracy']), np.std(cv_results['test_accuracy'])))\n",
    "print(\"Precision: {:.3f} +- {:.3f}\".format(np.mean(cv_results['test_precision']), np.std(cv_results['test_precision'])))\n",
    "print(\"Recall: {:.3f} +- {:.3f}\".format(np.mean(cv_results['test_recall']), np.std(cv_results['test_recall'])))\n",
    "print(\"F1-Score: {:.3f} +- {:.3f}\".format(np.mean(cv_results['test_f1_score']), np.std(cv_results['test_f1_score'])))\n",
    "print(\"ROC-AUC Score: {:.3f} +- {:.3f}\".format(np.mean(cv_results['test_roc_auc']), np.std(cv_results['test_roc_auc'])))\n",
    "print(\"Specificity: {:.3f} +- {:.3f}\".format(np.mean(specificity_cv), np.std(specificity_cv)))\n"
   ]
  },
  {
   "cell_type": "markdown",
   "id": "7a4a17e2",
   "metadata": {},
   "source": [
    "### Area Under Curve (AUC)"
   ]
  },
  {
   "cell_type": "code",
   "execution_count": 65,
   "id": "cb0bb593",
   "metadata": {
    "scrolled": true
   },
   "outputs": [
    {
     "data": {
      "image/png": "[encoded data removed]",
      "text/plain": [
       "<Figure size 640x480 with 1 Axes>"
      ]
     },
     "metadata": {},
     "output_type": "display_data"
    }
   ],
   "source": [
    "import matplotlib.pyplot as plt\n",
    "from sklearn.metrics import roc_auc_score\n",
    "\n",
    "# Assuming you have the true labels Y_test and predicted probabilities Y_pred_proba\n",
    "Y_pred_proba = ExtraTrees.predict_proba(X_test)\n",
    "\n",
    "# The predicted probabilities for the positive class are typically in the second column\n",
    "# Assuming you want the probabilities for the positive class (index 1)\n",
    "Y_pred_proba_positive = Y_pred_proba[:, 1]\n",
    "# Calculate the AUC\n",
    "roc_auc = roc_auc_score(Y_test, Y_pred_proba_positive)\n",
    "\n",
    "# Plot the AUC\n",
    "plt.figure()\n",
    "plt.plot([0, 1], [0, 1], color='navy', lw=2, linestyle='--')\n",
    "plt.xlim([0.0, 1.0])\n",
    "plt.ylim([0.0, 1.05])\n",
    "plt.xlabel('False Positive Rate')\n",
    "plt.ylabel('True Positive Rate')\n",
    "plt.title('Area Under Curve (AUC)')\n",
    "plt.text(0.5, 0.5, 'AUC = %0.2f' % roc_auc, ha='center', va='center', fontsize=12)\n",
    "plt.show()\n"
   ]
  },
  {
   "cell_type": "markdown",
   "id": "a22eb2d5",
   "metadata": {},
   "source": [
    "### Receiver Operating Characteristic"
   ]
  },
  {
   "cell_type": "code",
   "execution_count": 60,
   "id": "e9061855",
   "metadata": {},
   "outputs": [
    {
     "data": {
      "image/png": "[encoded data removed]",
      "text/plain": [
       "<Figure size 640x480 with 1 Axes>"
      ]
     },
     "metadata": {},
     "output_type": "display_data"
    }
   ],
   "source": [
    "import matplotlib.pyplot as plt\n",
    "from sklearn.metrics import roc_curve, auc\n",
    "\n",
    "# Assuming you have the true labels Y_test and predicted probabilities Y_pred_proba\n",
    "\n",
    "# Calculate the false positive rate (FPR), true positive rate (TPR), and thresholds\n",
    "fpr, tpr, thresholds = roc_curve(Y_test, Y_pred_proba_positive)\n",
    "\n",
    "# Calculate the AUC\n",
    "roc_auc = auc(fpr, tpr)\n",
    "\n",
    "# Plot the ROC curve\n",
    "plt.figure()\n",
    "plt.plot(fpr, tpr, color='darkorange', lw=2, label='ROC curve (area = %0.2f)' % roc_auc)\n",
    "plt.plot([0, 1], [0, 1], color='navy', lw=2, linestyle='--')\n",
    "plt.xlim([0.0, 1.0s])\n",
    "plt.ylim([0.0, 1.05])\n",
    "plt.xlabel('False Positive Rate')\n",
    "plt.ylabel('True Positive Rate')\n",
    "plt.title('Receiver Operating Characteristic')\n",
    "plt.legend(loc=\"lower right\")\n",
    "plt.show()\n"
   ]
  },
  {
   "cell_type": "markdown",
   "id": "0a434115",
   "metadata": {},
   "source": [
    "### Learning Curve"
   ]
  },
  {
   "cell_type": "code",
   "execution_count": 62,
   "id": "fc698b82",
   "metadata": {},
   "outputs": [
    {
     "data": {
      "image/png": "[encoded data removed]",
      "text/plain": [
       "<Figure size 640x480 with 1 Axes>"
      ]
     },
     "metadata": {},
     "output_type": "display_data"
    }
   ],
   "source": [
    "import numpy as np\n",
    "import matplotlib.pyplot as plt\n",
    "from sklearn.model_selection import learning_curve\n",
    "\n",
    "def plot_learning_curve(estimator, X, y, cv=None, train_sizes=np.linspace(0.1, 1.0, 5)):\n",
    "    train_sizes, train_scores, val_scores = learning_curve(estimator, X, y, cv=cv, train_sizes=train_sizes, scoring='accuracy')\n",
    "    \n",
    "    train_scores_mean = np.mean(train_scores, axis=1)\n",
    "    train_scores_std = np.std(train_scores, axis=1)\n",
    "    val_scores_mean = np.mean(val_scores, axis=1)\n",
    "    val_scores_std = np.std(val_scores, axis=1)\n",
    "    \n",
    "    plt.figure()\n",
    "    plt.plot(train_sizes, train_scores_mean, 'o-', color='r', label='Training accuracy')\n",
    "    plt.plot(train_sizes, val_scores_mean, 'o-', color='g', label='Validation accuracy')\n",
    "    plt.fill_between(train_sizes, train_scores_mean - train_scores_std,\n",
    "                     train_scores_mean + train_scores_std, alpha=0.2, color='r')\n",
    "    plt.fill_between(train_sizes, val_scores_mean - val_scores_std,\n",
    "                     val_scores_mean + val_scores_std, alpha=0.2, color='g')\n",
    "    plt.xlabel('Training examples')\n",
    "    plt.ylabel('Accuracy')\n",
    "    plt.title('Learning Curve')\n",
    "    plt.legend(loc='best')\n",
    "    plt.grid(True)\n",
    "    plt.show()\n",
    "\n",
    "# Assuming you have your model, training data X_train, and corresponding labels y_train\n",
    "\n",
    "# Call the function to plot the learning curve\n",
    "plot_learning_curve(ExtraTrees, X_train, Y_train, cv=5)\n"
   ]
  },
  {
   "cell_type": "markdown",
   "id": "c8188f63",
   "metadata": {},
   "source": [
    "### confusion matrix"
   ]
  },
  {
   "cell_type": "code",
   "execution_count": 75,
   "id": "546f034f",
   "metadata": {},
   "outputs": [
    {
     "data": {
      "image/png": "[encoded data removed]",
      "text/plain": [
       "<Figure size 640x480 with 2 Axes>"
      ]
     },
     "metadata": {},
     "output_type": "display_data"
    }
   ],
   "source": [
    "import numpy as np\n",
    "import matplotlib.pyplot as plt\n",
    "from sklearn.metrics import confusion_matrix\n",
    "\n",
    "# Assuming you have the true labels Y_test and predicted labels Y_pred\n",
    "\n",
    "# Calculate the confusion matrix\n",
    "cm = confusion_matrix(Y_test, Y_pred_ExtraTrees)\n",
    "\n",
    "# Create a function to plot the confusion matrix with details\n",
    "def plot_confusion_matrix(cm, classes):\n",
    "    plt.imshow(cm, interpolation='nearest', cmap=plt.cm.Blues)\n",
    "    plt.colorbar()\n",
    "    tick_marks = np.arange(len(classes))\n",
    "    plt.xticks(tick_marks, classes, rotation=45)\n",
    "    plt.yticks(tick_marks, classes)\n",
    "\n",
    "    # Add numerical values to the confusion matrix cells\n",
    "    thresh = cm.max() / 2.0\n",
    "    for i in range(cm.shape[0]):\n",
    "        for j in range(cm.shape[1]):\n",
    "            plt.text(j, i, format(cm[i, j], 'd'), ha=\"center\", va=\"center\",\n",
    "                     color=\"white\" if cm[i, j] > thresh else \"black\")\n",
    "\n",
    "    plt.xlabel('Predicted Label')\n",
    "    plt.ylabel('True Label')\n",
    "    plt.title('Confusion Matrix')\n",
    "    plt.show()\n",
    "\n",
    "# Define the class labels\n",
    "class_labels = ['Non-Covid-19', 'Covid-19']\n",
    "\n",
    "# Plot the confusion matrix with details\n",
    "plot_confusion_matrix(cm, class_labels)\n"
   ]
  },
  {
   "cell_type": "markdown",
   "id": "bfbaa112",
   "metadata": {},
   "source": [
    "### Precision-Recall Curve"
   ]
  },
  {
   "cell_type": "code",
   "execution_count": 66,
   "id": "64e1ecf7",
   "metadata": {},
   "outputs": [
    {
     "data": {
      "image/png": "[encoded data removed]",
      "text/plain": [
       "<Figure size 640x480 with 1 Axes>"
      ]
     },
     "metadata": {},
     "output_type": "display_data"
    }
   ],
   "source": [
    "import matplotlib.pyplot as plt\n",
    "from sklearn.metrics import precision_recall_curve\n",
    "\n",
    "# Assuming you have the true labels Y_test and predicted probabilities Y_pred_proba_positive\n",
    "\n",
    "# Calculate precision and recall values at different thresholds\n",
    "precision, recall, thresholds = precision_recall_curve(Y_test, Y_pred_proba_positive)\n",
    "\n",
    "# Plot the precision-recall curve\n",
    "plt.plot(recall, precision, color='b', label='Precision-Recall Curve')\n",
    "plt.xlabel('Recall')\n",
    "plt.ylabel('Precision')\n",
    "plt.title('Precision-Recall Curve')\n",
    "plt.legend(loc='best')\n",
    "plt.grid(True)\n",
    "plt.show()\n"
   ]
  },
  {
   "cell_type": "markdown",
   "id": "73877c83",
   "metadata": {},
   "source": [
    "## Exporting our best model"
   ]
  },
  {
   "cell_type": "code",
   "execution_count": 135,
   "id": "bfce58ad",
   "metadata": {},
   "outputs": [],
   "source": [
    "import pickle\n",
    "path = \"/Users/iyadchehili/Desktop/exported_model/ExtraTrees.sav\"\n",
    "pickle.dump(ExtraTrees,open(path,'wb'))"
   ]
  },
  {
   "cell_type": "code",
   "execution_count": 99,
   "id": "de334859",
   "metadata": {},
   "outputs": [],
   "source": [
    "import pickle\n",
    "path = \"/Users/iyadchehili/Desktop/exported_model/ExtraTrees.sav\"\n",
    "model1 = pickle.load(open(path, 'rb'))"
   ]
  }
 ],
 "metadata": {
  "kernelspec": {
   "display_name": "Python 3 (ipykernel)",
   "language": "python",
   "name": "python3"
  },
  "language_info": {
   "codemirror_mode": {
    "name": "ipython",
    "version": 3
   },
   "file_extension": ".py",
   "mimetype": "text/x-python",
   "name": "python",
   "nbconvert_exporter": "python",
   "pygments_lexer": "ipython3",
   "version": "3.10.9"
  }
 },
 "nbformat": 4,
 "nbformat_minor": 5
}
